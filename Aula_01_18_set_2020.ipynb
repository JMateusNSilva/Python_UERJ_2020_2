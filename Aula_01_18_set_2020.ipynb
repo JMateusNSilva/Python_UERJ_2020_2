{
  "nbformat": 4,
  "nbformat_minor": 0,
  "metadata": {
    "colab": {
      "name": "Aula_01-18_set_2020.ipynb",
      "provenance": [],
      "collapsed_sections": [],
      "authorship_tag": "ABX9TyOSqP/eFmRV8Oa5Y/Vce1Vh",
      "include_colab_link": true
    },
    "kernelspec": {
      "name": "python3",
      "display_name": "Python 3"
    }
  },
  "cells": [
    {
      "cell_type": "markdown",
      "metadata": {
        "id": "view-in-github",
        "colab_type": "text"
      },
      "source": [
        "<a href=\"https://colab.research.google.com/github/JMateusNSilva/python_uerj_2020_2/blob/master/Aula_01_18_set_2020.ipynb\" target=\"_parent\"><img src=\"https://colab.research.google.com/assets/colab-badge.svg\" alt=\"Open In Colab\"/></a>"
      ]
    },
    {
      "cell_type": "markdown",
      "metadata": {
        "id": "fxKlxZHl_E5b"
      },
      "source": [
        "Aula 01 - Dia 18/ set/ 2020 \\\\\n",
        "Prof: Dilson \\\\\n",
        "\n",
        "Exercícios:"
      ]
    },
    {
      "cell_type": "code",
      "metadata": {
        "id": "30woFUbyC8Ut",
        "outputId": "bc0a79a4-c405-4829-bbf7-95ba9e8730c1",
        "colab": {
          "base_uri": "https://localhost:8080/",
          "height": 34
        }
      },
      "source": [
        "print('mundo, mundo, vasto mundo')"
      ],
      "execution_count": null,
      "outputs": [
        {
          "output_type": "stream",
          "text": [
            "mundo, mundo, vasto mundo\n"
          ],
          "name": "stdout"
        }
      ]
    },
    {
      "cell_type": "code",
      "metadata": {
        "id": "_zQP-_58E72Q",
        "outputId": "a709c7dd-2649-470b-8b89-c6ad1f2f2e21",
        "colab": {
          "base_uri": "https://localhost:8080/",
          "height": 225
        }
      },
      "source": [
        "help('print')"
      ],
      "execution_count": null,
      "outputs": [
        {
          "output_type": "stream",
          "text": [
            "Help on built-in function print in module builtins:\n",
            "\n",
            "print(...)\n",
            "    print(value, ..., sep=' ', end='\\n', file=sys.stdout, flush=False)\n",
            "    \n",
            "    Prints the values to a stream, or to sys.stdout by default.\n",
            "    Optional keyword arguments:\n",
            "    file:  a file-like object (stream); defaults to the current sys.stdout.\n",
            "    sep:   string inserted between values, default a space.\n",
            "    end:   string appended after the last value, default a newline.\n",
            "    flush: whether to forcibly flush the stream.\n",
            "\n"
          ],
          "name": "stdout"
        }
      ]
    },
    {
      "cell_type": "markdown",
      "metadata": {
        "id": "-7C4ulLOJpEF"
      },
      "source": [
        "**Exercício 03:** Se você fizer uma corrida de 10 Km em 43 min e 30 s, qual será a seu tempo médio por milha? Qual sua velocidade média em milha por hora?(Dica: há 1,61 quilômetros em uma milha)."
      ]
    },
    {
      "cell_type": "markdown",
      "metadata": {
        "id": "ycYMq0_ILTvw"
      },
      "source": [
        "**Resolvendo:** \\\\\n",
        "Transformando o tempo em minutos"
      ]
    },
    {
      "cell_type": "code",
      "metadata": {
        "id": "T_1VaTXRJmIu",
        "outputId": "9ad33fff-6942-4e10-8f56-4575060b99f9",
        "colab": {
          "base_uri": "https://localhost:8080/",
          "height": 34
        }
      },
      "source": [
        "43 + 30 *(1/60)"
      ],
      "execution_count": null,
      "outputs": [
        {
          "output_type": "execute_result",
          "data": {
            "text/plain": [
              "43.5"
            ]
          },
          "metadata": {
            "tags": []
          },
          "execution_count": 1
        }
      ]
    },
    {
      "cell_type": "markdown",
      "metadata": {
        "id": "Yg2W8_rVdxJc"
      },
      "source": [
        "tempo igual a 43,5 minutos."
      ]
    },
    {
      "cell_type": "markdown",
      "metadata": {
        "id": "_UMqerfmeBTx"
      },
      "source": [
        "Transformando quilômetros para milhas,"
      ]
    },
    {
      "cell_type": "code",
      "metadata": {
        "id": "JmGDLfwVdm6D",
        "outputId": "1cfb272f-0306-440b-b0f4-45eafa48c682",
        "colab": {
          "base_uri": "https://localhost:8080/",
          "height": 34
        }
      },
      "source": [
        "10*1.6"
      ],
      "execution_count": null,
      "outputs": [
        {
          "output_type": "execute_result",
          "data": {
            "text/plain": [
              "16.0"
            ]
          },
          "metadata": {
            "tags": []
          },
          "execution_count": 2
        }
      ]
    },
    {
      "cell_type": "markdown",
      "metadata": {
        "id": "hobvel6uec5y"
      },
      "source": [
        "Então, a distância percorrida é de 16 milhas. \\\\\n",
        "Calculemos agora o tempo médio percorrido por cada milha,"
      ]
    },
    {
      "cell_type": "code",
      "metadata": {
        "id": "Ffnh6boteTlE",
        "outputId": "aff2e861-9c0d-4bda-85b2-fca8ad603ae6",
        "colab": {
          "base_uri": "https://localhost:8080/",
          "height": 34
        }
      },
      "source": [
        "43.5/16"
      ],
      "execution_count": null,
      "outputs": [
        {
          "output_type": "execute_result",
          "data": {
            "text/plain": [
              "2.71875"
            ]
          },
          "metadata": {
            "tags": []
          },
          "execution_count": 4
        }
      ]
    },
    {
      "cell_type": "markdown",
      "metadata": {
        "id": "8yWWxZ5dfVKq"
      },
      "source": [
        "O tempo médio percorrido por cada milha é de aproximadamente 2,719 min/milha."
      ]
    },
    {
      "cell_type": "markdown",
      "metadata": {
        "id": "U9VEcX-13PPx"
      },
      "source": [
        "Agora devemos calcular qual foi a velocidade média em milhas por hora \\\\\n",
        "\\begin{equation}\n",
        "v_{med}=\\frac{\\Delta S}{\\Delta t} \\qquad \\text{.}\n",
        "\\end{equation}\n",
        "\n",
        "Já sabemos que $\\Delta S = 16$ milhas, precisamos descobrir qual foi o tempo gasto em horas. Para isto fazemos a seguinte conta,"
      ]
    },
    {
      "cell_type": "code",
      "metadata": {
        "id": "Mz7zCuA21k8O",
        "outputId": "81ac984a-23ef-449f-c476-fe05995cb4cf",
        "colab": {
          "base_uri": "https://localhost:8080/",
          "height": 34
        }
      },
      "source": [
        "43.5/60"
      ],
      "execution_count": null,
      "outputs": [
        {
          "output_type": "execute_result",
          "data": {
            "text/plain": [
              "0.725"
            ]
          },
          "metadata": {
            "tags": []
          },
          "execution_count": 7
        }
      ]
    },
    {
      "cell_type": "markdown",
      "metadata": {
        "id": "S6y4d3oX60wq"
      },
      "source": [
        ". Assim obtemos o valor de 0,725 horas gastas para percorrer 16 milhas. Fazendo o calculo para $v_{med}= \\frac{16\\text{ milhas}}{0,725\\text{ h}}$,"
      ]
    },
    {
      "cell_type": "code",
      "metadata": {
        "id": "wrOD0zPN6zXd",
        "outputId": "22848b88-6e53-422b-af69-6805074c04d2",
        "colab": {
          "base_uri": "https://localhost:8080/",
          "height": 34
        }
      },
      "source": [
        "16/0.725"
      ],
      "execution_count": null,
      "outputs": [
        {
          "output_type": "execute_result",
          "data": {
            "text/plain": [
              "22.06896551724138"
            ]
          },
          "metadata": {
            "tags": []
          },
          "execution_count": 8
        }
      ]
    },
    {
      "cell_type": "markdown",
      "metadata": {
        "id": "HKgSv9N07y0F"
      },
      "source": [
        ". Assim afirmamos que as 16 milhas foram percorridas com uma velocidade média de aproximadamente 22.07 milhas/h"
      ]
    }
  ]
}