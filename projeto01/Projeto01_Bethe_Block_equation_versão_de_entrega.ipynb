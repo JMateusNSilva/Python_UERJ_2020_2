{
  "nbformat": 4,
  "nbformat_minor": 0,
  "metadata": {
    "colab": {
      "name": "Projeto01_Bethe-Block_equation_versão_de_entrega.ipynb",
      "provenance": [],
      "collapsed_sections": [],
      "authorship_tag": "ABX9TyOm/VH4bCSZKo26O5JQX1/R",
      "include_colab_link": true
    },
    "kernelspec": {
      "name": "python3",
      "display_name": "Python 3"
    }
  },
  "cells": [
    {
      "cell_type": "markdown",
      "metadata": {
        "id": "view-in-github",
        "colab_type": "text"
      },
      "source": [
        "<a href=\"https://colab.research.google.com/github/JMateusNSilva/python_uerj_2020_2/blob/master/projeto01/Projeto01_Bethe_Block_equation_vers%C3%A3o_de_entrega.ipynb\" target=\"_parent\"><img src=\"https://colab.research.google.com/assets/colab-badge.svg\" alt=\"Open In Colab\"/></a>"
      ]
    },
    {
      "cell_type": "code",
      "metadata": {
        "id": "PfYVf7N56sK3"
      },
      "source": [
        "# CONSTANTES UTILIZADAS NO PROGRAMA\n",
        "mc2 = 0.5110                         # massa do elétron - unidade MeV \n",
        "I = 29*10**(-5)                      # I/Z aprox 10^{-5} onde Z é o número atômico para o cobre (Z=29)\n",
        "K = 0.307                            # Constante K em Mev\n",
        "z = -1                               # Carga da partícula insidente - este caso para o múon.\n",
        "rho = 8.960                          # g/cm^3 densidade do meio\n",
        "A = 63.546                           # número de massa do meio - unidade: g/mol \n",
        "Z = 29                               # Número atômico do cobre"
      ],
      "execution_count": 40,
      "outputs": []
    },
    {
      "cell_type": "code",
      "metadata": {
        "id": "CytShH6-1JXv"
      },
      "source": [
        "# CRIANDO AS FUNÇÕES QUE SERÃO UTILIZADAS\n",
        "\n",
        "#----FUNÇÃO GAMMA----\n",
        "def gamma(beta):\n",
        "    \"\"\"Calcula um valor de gamma quando inserido um valor para beta.\n",
        "    \"\"\"\n",
        "    gamma = (1-beta**2)**(-1/2)        # beta^2 = u^2/c^2 u-veloc. particula, c - veloc. luz.\n",
        "    return gamma\n",
        "\n",
        "#----FUNÇÃO ARGUMENTO DO LN ----\n",
        "def ln_argument(valor):\n",
        "    ''' Calcula o argumento do ln da função de Bethe-Block retornando o argumento\n",
        "    '''\n",
        "    x = (2*mc2 * valor**2) / I\n",
        "    return x"
      ],
      "execution_count": 41,
      "outputs": []
    },
    {
      "cell_type": "code",
      "metadata": {
        "colab": {
          "base_uri": "https://localhost:8080/"
        },
        "id": "XnHFXxPo1j2z",
        "outputId": "42245616-1471-4143-b7eb-c4d6aa527d78"
      },
      "source": [
        "# Testando função para o valor de 0.6.\n",
        "\n",
        "print('gamma =', gamma(0.6))"
      ],
      "execution_count": 42,
      "outputs": [
        {
          "output_type": "stream",
          "text": [
            "gamma = 1.25\n"
          ],
          "name": "stdout"
        }
      ]
    },
    {
      "cell_type": "code",
      "metadata": {
        "colab": {
          "base_uri": "https://localhost:8080/"
        },
        "id": "-VfYMX9a12RY",
        "outputId": "dcf7fb99-8c2c-47bd-b104-798973c6a76c"
      },
      "source": [
        "# TRANSFORMANDO A FUNÇÃO GAMMA EM MÓDULO\n",
        "%%writefile função_gamma.py\n",
        "def gamma(beta):\n",
        "    \"\"\"Calcula um valor de gamma quando inserido um valor para beta.\n",
        "    \"\"\"\n",
        "    gamma = (1-beta**2)**(-1/2)        # beta^2 = u^2/c^2 u-veloc. particula, c - veloc. luz.\n",
        "    return gamma"
      ],
      "execution_count": 43,
      "outputs": [
        {
          "output_type": "stream",
          "text": [
            "Overwriting função_gamma.py\n"
          ],
          "name": "stdout"
        }
      ]
    },
    {
      "cell_type": "code",
      "metadata": {
        "colab": {
          "base_uri": "https://localhost:8080/"
        },
        "id": "0EQWG-Z09jPZ",
        "outputId": "50102721-d485-4edf-99f0-4f4adb7651b5"
      },
      "source": [
        "%cat função_gamma.py"
      ],
      "execution_count": 44,
      "outputs": [
        {
          "output_type": "stream",
          "text": [
            "def gamma(beta):\n",
            "    \"\"\"Calcula um valor de gamma quando inserido um valor para beta.\n",
            "    \"\"\"\n",
            "    gamma = (1-beta**2)**(-1/2)        # beta^2 = u^2/c^2 u-veloc. particula, c - veloc. luz.\n",
            "    return gamma"
          ],
          "name": "stdout"
        }
      ]
    },
    {
      "cell_type": "code",
      "metadata": {
        "colab": {
          "base_uri": "https://localhost:8080/",
          "height": 305
        },
        "id": "iyxNjKHn2Kyj",
        "outputId": "faa3e942-e3cb-4c26-c87a-af9d17889c42"
      },
      "source": [
        "#CHAMANDO OS MODULOS UTILIZADOS\n",
        "import numpy as np\n",
        "import matplotlib.pyplot as plt\n",
        "from função_gamma import gamma\n",
        "\n",
        "\n",
        "# ESCREVENDO UM VETOR COM OS VALORES DE BETA\n",
        "beta1 = np.arange(0.00001,0.01,0.00001)              # Explorando o limite  0.00001 <= beta < 0.01\n",
        "beta2 = np.arange(0.01,0.996,0.001)                  # Explorando o limite  0.01    <= beta < 0.996\n",
        "beta3 = np.arange(0.9960, 1.0, 0.00001)              # Explorando o limite  0.996   <= beta < 1.0\n",
        "\n",
        "\n",
        "# ONDE beta É A CONCATENAÇÃO DE \n",
        "beta = np.concatenate((beta1,beta2,beta3))           # beta é um vetor limitado no intervalo de  0.00001 <= beta < 1.0\n",
        "\n",
        "# CALCULANDO OS VALORES DE gamma UTILIZANDO O VETOR beta NA FUNÇÃO GAMMA\n",
        "gamma = gamma(beta)\n",
        "\n",
        "# CALCULANDO O PRODUTOD DE gamma VEZES beta\n",
        "gamma_beta = gamma * beta\n",
        "\n",
        "# CALCULANDO O ARGUMENTO DO LN DA EQUAÇÃO DE BETHE-BLOCK\n",
        "x = ln_argument(gamma_beta)\n",
        "\n",
        "# CALCULANDO O COLCHETES DA EQUAÇÃO DE BETHE-BLOCK\n",
        "ln_x = np.log(x)\n",
        "colchetes = ln_x - beta**2\n",
        "\n",
        "const = K * z**2 * rho * (Z/A)                       # Reunindo as constantes da equação.\n",
        "\n",
        "# CALCULANDO: -dE/dx\n",
        "dE_over_dx = const * (1/beta**2) * colchetes\n",
        "\n",
        "# GERANDO O GRÁFICO DA FIGURA\n",
        "fig, ax1 = plt.subplots()\n",
        "ax1.set_title('Gráfico: -dE/dx vs. ln(γβ)',fontsize='x-large', fontweight='bold')\n",
        "ax1.set_xlabel('ln(γβ)',fontsize='x-large', fontweight='bold')\n",
        "ax1.set_ylabel('-dE/dx', fontsize='x-large', fontweight='bold')\n",
        "ax1.set_xscale('log')\n",
        "ax1.set_xlim(0.1,10**6)                     # Limita o eixo x entre os valores de 0.1 até 100\n",
        "ax1.set_yscale('log')\n",
        "ax1=plt.grid()\n",
        "ax1=plt.plot( gamma_beta, dE_over_dx, 'blue')\n",
        "\n",
        "\n",
        "\n"
      ],
      "execution_count": 45,
      "outputs": [
        {
          "output_type": "display_data",
          "data": {
            "image/png": "[encoded data removed]",
            "text/plain": [
              "<Figure size 432x288 with 1 Axes>"
            ]
          },
          "metadata": {
            "tags": [],
            "needs_background": "light"
          }
        }
      ]
    }
  ]
}