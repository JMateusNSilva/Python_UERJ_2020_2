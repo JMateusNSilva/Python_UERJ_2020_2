{
  "nbformat": 4,
  "nbformat_minor": 0,
  "metadata": {
    "colab": {
      "name": "projeto01_Bethe-Block_equation_versão2.ipynb",
      "provenance": [],
      "collapsed_sections": [],
      "authorship_tag": "ABX9TyNjT2dJ/3vdHX8+rLGYDPva",
      "include_colab_link": true
    },
    "kernelspec": {
      "name": "python3",
      "display_name": "Python 3"
    }
  },
  "cells": [
    {
      "cell_type": "markdown",
      "metadata": {
        "id": "view-in-github",
        "colab_type": "text"
      },
      "source": [
        "<a href=\"https://colab.research.google.com/github/JMateusNSilva/python_uerj_2020_2/blob/master/projeto01/projeto01_Bethe_Block_equation_vers%C3%A3o2.ipynb\" target=\"_parent\"><img src=\"https://colab.research.google.com/assets/colab-badge.svg\" alt=\"Open In Colab\"/></a>"
      ]
    },
    {
      "cell_type": "markdown",
      "metadata": {
        "id": "T6W6Tqi7Ni3p"
      },
      "source": [
        "**Primeiro Projeto - Introdução a Python**\n",
        "\n",
        "**Alunos: Isabella, Eloi e Mateus**\n",
        "\n",
        "**Data: 19.11.2020**\n"
      ]
    },
    {
      "cell_type": "markdown",
      "metadata": {
        "id": "OoEA7dJW3pBG"
      },
      "source": [
        "**Item 1** - Escreva uma função em Python chamada **def gamma(beta):** que tenha como argumento β e retorna γ. Teste-o para um valor de β, como por exemplo, 0,6."
      ]
    },
    {
      "cell_type": "code",
      "metadata": {
        "id": "YW8WxaHKYieD",
        "colab": {
          "base_uri": "https://localhost:8080/"
        },
        "outputId": "20c0d776-5693-4b01-8b4c-650616de20d7"
      },
      "source": [
        "def gamma(beta):\n",
        "    \"\"\"Calcula um valor de gamma quando inserido um valor para beta.\n",
        "    \"\"\"\n",
        "    gamma = (1-beta**2)**(-1/2)        # beta^2 = u^2/c^2 u-veloc. particula, c - veloc. luz.\n",
        "    return gamma\n",
        "\n",
        "gamma(0.6)\n"
      ],
      "execution_count": 125,
      "outputs": [
        {
          "output_type": "execute_result",
          "data": {
            "text/plain": [
              "1.25"
            ]
          },
          "metadata": {
            "tags": []
          },
          "execution_count": 125
        }
      ]
    },
    {
      "cell_type": "code",
      "metadata": {
        "id": "bvWqyGGd19ja",
        "colab": {
          "base_uri": "https://localhost:8080/"
        },
        "outputId": "819556aa-4b88-41c0-e142-076970f64e73"
      },
      "source": [
        "%%writefile função_gamma.py\n",
        "def gamma(beta):\n",
        "    gamma = (1-beta**2)**(-1/2)        # beta^2 = u^2/c^2 u-veloc. particula, c - veloc. luz.\n",
        "    return gamma"
      ],
      "execution_count": 126,
      "outputs": [
        {
          "output_type": "stream",
          "text": [
            "Overwriting função_gamma.py\n"
          ],
          "name": "stdout"
        }
      ]
    },
    {
      "cell_type": "code",
      "metadata": {
        "id": "ZVZys9PY2PZr",
        "colab": {
          "base_uri": "https://localhost:8080/"
        },
        "outputId": "ce329d5e-79a8-4377-eaa0-595bf2185ab2"
      },
      "source": [
        "%cat função_gamma.py\n",
        "\n"
      ],
      "execution_count": 127,
      "outputs": [
        {
          "output_type": "stream",
          "text": [
            "def gamma(beta):\n",
            "    gamma = (1-beta**2)**(-1/2)        # beta^2 = u^2/c^2 u-veloc. particula, c - veloc. luz.\n",
            "    return gamma"
          ],
          "name": "stdout"
        }
      ]
    },
    {
      "cell_type": "markdown",
      "metadata": {
        "id": "O7uQsizE4SBp"
      },
      "source": [
        "**Item 2** - Certifique-se que sua função gamma(beta) pode aceitar um vetor de β e retornar um vetor compatível de γ."
      ]
    },
    {
      "cell_type": "code",
      "metadata": {
        "id": "b_lgjOqchUO8"
      },
      "source": [
        "import numpy as np\n",
        "from função_gamma import gamma\n",
        "# Beta varia entre valores de 0 até 1.\n",
        "beta = np.arange(0.01,1.0,0.001)                              # Valor do vetor beta\n",
        "#print(f'O valor de vetor beta é: \\n {beta}')\n",
        "gamma = gamma(beta)\n",
        "#print(f'O valor do vetor gamma é: \\n {gamma} ')"
      ],
      "execution_count": 128,
      "outputs": []
    },
    {
      "cell_type": "markdown",
      "metadata": {
        "id": "QoOnuNeUD1Gz"
      },
      "source": [
        "**Item 3** - A partir de um vetor de valores β variando de 0 a 0,995, faça um gráfico gamma versus **gamma** versus **beta**."
      ]
    },
    {
      "cell_type": "code",
      "metadata": {
        "id": "FzGYJpQ_EXfr",
        "colab": {
          "base_uri": "https://localhost:8080/",
          "height": 363
        },
        "outputId": "a1f89def-b9e7-4498-e17b-121f24acf2ec"
      },
      "source": [
        "import numpy as np\n",
        "import matplotlib.pyplot as plt\n",
        "from função_gamma import gamma\n",
        "# Beta varia entre valores de 0 até 1.\n",
        "\n",
        "beta1 = np.arange(0.00001,0.01,0.00001)\n",
        "beta2 = np.arange(0.01,0.996,0.001)            # O intervalo inclui o ponto inicial (0) e exclui o ponto final(0.996)\n",
        "beta3 = np.arange(0.9960, 1.0, 0.00001)\n",
        "\n",
        "\n",
        "print(len(beta1))\n",
        "print(len(beta2))\n",
        "print(len(beta3))\n",
        "\n",
        "beta = np.concatenate((beta1,beta2,beta3))\n",
        "print('beta',len(beta))\n",
        "\n",
        "    \n",
        "# beta1 + beta2 #+ beta3\n",
        "\n",
        "gamma = gamma(beta)\n",
        "\n",
        "#beta.shape\n",
        "#print(len(gamma))\n",
        "#type(gamma)\n",
        "#print(f'gamma = \\n {gamma}')\n",
        "#print(f'beta = \\n {beta}')\n",
        "\n",
        "fig, ax0 = plt.subplots()\n",
        "ax0.set_ylabel('γ' ,fontsize= 'x-large', fontweight='bold')\n",
        "ax0.set_xlabel('β' , fontsize= 'x-large', fontweight='bold')\n",
        "plt.grid()\n",
        "ax0=plt.plot(beta, gamma,'red')\n"
      ],
      "execution_count": 164,
      "outputs": [
        {
          "output_type": "stream",
          "text": [
            "999\n",
            "986\n",
            "401\n",
            "beta 2386\n"
          ],
          "name": "stdout"
        },
        {
          "output_type": "display_data",
          "data": {
            "image/png": "[encoded data removed]",
            "text/plain": [
              "<Figure size 432x288 with 1 Axes>"
            ]
          },
          "metadata": {
            "tags": [],
            "needs_background": "light"
          }
        }
      ]
    },
    {
      "cell_type": "markdown",
      "metadata": {
        "id": "1_DC36SwKES4"
      },
      "source": [
        "**Item 4** - Faça um gráfico γβ versus β. O que você observa?"
      ]
    },
    {
      "cell_type": "code",
      "metadata": {
        "id": "Tg4eHa5ZffO3",
        "outputId": "be3ca4b7-e91d-4d95-dd20-fd80ac9f4233",
        "colab": {
          "base_uri": "https://localhost:8080/"
        }
      },
      "source": [
        "import numpy as np\n",
        "import matplotlib.pyplot as plt\n",
        "from função_gamma import gamma\n",
        "# Beta varia entre valores de 0 até 1.\n",
        "\n",
        "gamma = gamma(beta)\n",
        "\n",
        "gamma_beta = gamma*beta\n",
        "#for i in beta:\n",
        " #   gamma_beta = i * gamma\n",
        "\n",
        "print(gamma_beta)\n",
        "\n",
        "print(len(beta))\n",
        "print(len(gamma_beta))"
      ],
      "execution_count": 165,
      "outputs": [
        {
          "output_type": "stream",
          "text": [
            "[1.00000000e-05 2.00000000e-05 3.00000000e-05 ... 1.58111511e+02\n",
            " 2.23605120e+02 5.24032187e+06]\n",
            "2386\n",
            "2386\n"
          ],
          "name": "stdout"
        }
      ]
    },
    {
      "cell_type": "code",
      "metadata": {
        "id": "tuR0ygs7vXJk",
        "colab": {
          "base_uri": "https://localhost:8080/",
          "height": 294
        },
        "outputId": "7539bab1-f3d7-4f82-fb2d-c7666ecca71e"
      },
      "source": [
        "import numpy as np\n",
        "import matplotlib.pyplot as plt\n",
        "from função_gamma import gamma\n",
        "# Beta varia entre valores de 0 até 1.\n",
        "\n",
        "gamma = gamma(beta)\n",
        "\n",
        "gamma_beta = gamma*beta\n",
        "\n",
        "\n",
        "\n",
        "#print(len(beta))\n",
        "#print(len(gamma_beta))\n",
        "\n",
        "fig, ax1 = plt.subplots()\n",
        "ax1.set_xlabel('β', fontsize= 'x-large', fontweight='bold')\n",
        "ax1.set_ylabel('γβ', fontsize= 'x-large', fontweight= 'bold')\n",
        "ax1=plt.grid()\n",
        "ax1=plt.plot(beta, gamma_beta, 'blue')\n",
        "\n",
        "\n",
        "\n",
        "#fig, ax6 = plt.subplots()\n",
        "#plt.grid()\n",
        "#ax6=plt.plot(beta,gamma, 'red', label='γ vs. β')\n",
        "#ax6=plt.plot( beta,gamma_beta, 'blue', label='γβ vs. β')\n",
        "#ax6=plt.legend()\n",
        "\n",
        "\n",
        "\n",
        "\n",
        "#fig,ax2 = plt.subplots()\n",
        "#plt.grid()\n",
        "#ax2.set_ylabel('ln(γβ)')\n",
        "#ax2.set_xlabel('ln(β)')\n",
        "#ax2.set_xscale('log')\n",
        "#ax2.set_yscale('log')\n",
        "#ax2=plt.plot( beta, gamma_beta, 'blue')\n",
        "\n"
      ],
      "execution_count": 166,
      "outputs": [
        {
          "output_type": "display_data",
          "data": {
            "image/png": "[encoded data removed]",
            "text/plain": [
              "<Figure size 432x288 with 1 Axes>"
            ]
          },
          "metadata": {
            "tags": [],
            "needs_background": "light"
          }
        }
      ]
    },
    {
      "cell_type": "markdown",
      "metadata": {
        "id": "Wb-4LyujGZB7"
      },
      "source": [
        "**Item 5** - Trace o argumento do log natural na equação de Bethe-Block em uma função de γβ. Faça o argumento ser uma nova função **ln_argumetent()**. Para você: essa função deve aceitar β ou γ como argumento, ou ambos, ou seu produto? Observe que pode ser muito difícil obter β com uma boa precisão a partir γ em baixas velocidades; o oposto é difícil em velocidade muitos altas. Faça o gráfico para um intervalo de 0,1 a 100.\n",
        "\n"
      ]
    },
    {
      "cell_type": "code",
      "metadata": {
        "id": "2gmV0QQXqVTJ",
        "colab": {
          "base_uri": "https://localhost:8080/",
          "height": 318
        },
        "outputId": "e27cc5bf-716b-461e-a9d7-a9892d085d45"
      },
      "source": [
        "def ln_argument(valor):\n",
        "    # Traçando o argumento do ln da equação de Bethe-Block.\n",
        "    # constantes utilizadas.\n",
        "    mc2 = 0.5110                             # Mev - massa do eletron - m_e * c^2.\n",
        "    I = 29*10**(-5)                          # I/Z aprox 10^-5 onde Z é o número atômico que para o cobre Z=29. \n",
        "    x = (2*mc2 * valor**2) / I                 # x é o argumento do ln da equação de Bethe-Block.\n",
        "    return x\n",
        "\n",
        "x = ln_argument(gamma_beta)\n",
        "plt.grid()\n",
        "plt.plot(gamma_beta, x, 'blue')\n",
        "plt.title('Gráfico: x vs. γβ',fontsize='x-large', fontweight='bold')\n",
        "plt.xlabel('γβ',fontsize='x-large', fontweight='bold')\n",
        "plt.ylabel('x',fontsize='x-large', fontweight='bold')"
      ],
      "execution_count": 167,
      "outputs": [
        {
          "output_type": "execute_result",
          "data": {
            "text/plain": [
              "Text(0, 0.5, 'x')"
            ]
          },
          "metadata": {
            "tags": []
          },
          "execution_count": 167
        },
        {
          "output_type": "display_data",
          "data": {
            "image/png": "[encoded data removed]",
            "text/plain": [
              "<Figure size 432x288 with 1 Axes>"
            ]
          },
          "metadata": {
            "tags": [],
            "needs_background": "light"
          }
        }
      ]
    },
    {
      "cell_type": "code",
      "metadata": {
        "id": "V75zroQlPq6S",
        "colab": {
          "base_uri": "https://localhost:8080/",
          "height": 301
        },
        "outputId": "43cd67b4-d2cc-4ac3-ddbf-60ed0681dbb1"
      },
      "source": [
        "x = ln_argument(gamma_beta)                 # Este é o argumento do ln da equação de Bethe-Block\n",
        "\n",
        "fig, ax4 = plt.subplots()\n",
        "\n",
        "#ax4.set_xlim(0.1,100.1)                     # Limita o eixo x entre os valores de 0.1 até 100\n",
        "ax4.set_ylim(0.1, 100.1)                     # reajusta o valor do eixo y\n",
        "ax4.set_title('Gráfico: x vs. γβ',fontsize='x-large', fontweight='bold')\n",
        "ax4.set_xlabel('γβ',fontsize='x-large', fontweight='bold')\n",
        "ax4.set_ylabel('x', fontsize='x-large', fontweight='bold')\n",
        "ax4=plt.grid()\n",
        "ax4=plt.plot( gamma_beta, x, 'blue')"
      ],
      "execution_count": 169,
      "outputs": [
        {
          "output_type": "display_data",
          "data": {
            "image/png": "[encoded data removed]",
            "text/plain": [
              "<Figure size 432x288 with 1 Axes>"
            ]
          },
          "metadata": {
            "tags": [],
            "needs_background": "light"
          }
        }
      ]
    },
    {
      "cell_type": "markdown",
      "metadata": {
        "id": "59iEXiVEeaIG"
      },
      "source": [
        "**Item 6** Esse gráfico não mostra a região de interesse para valores baixos de β. Faça o plot com uma escala logarítimica no eixo vertical? Dica: procure na ajuda do matplotlib a função semilog(). Ficou melhor? Talvez ambos os eixos."
      ]
    },
    {
      "cell_type": "code",
      "metadata": {
        "id": "ajnBlN1afRGC",
        "colab": {
          "base_uri": "https://localhost:8080/",
          "height": 589
        },
        "outputId": "96d8c745-8f13-47c7-8995-d5869a6ccab2"
      },
      "source": [
        "x = ln_argument(gamma_beta)                 # Este é o argumento do ln da equação de Bethe-Block\n",
        "\n",
        "#fig, ax3 = plt.subplots()\n",
        "\n",
        "# Gráfico \n",
        "#ax3.set_title('Gráfico: x vs. γβ',fontsize='x-large', fontweight='bold')\n",
        "#ax3.set_xlabel('γβ',fontsize='x-large', fontweight='bold')\n",
        "#ax3.set_ylabel('x', fontsize='x-large', fontweight='bold')\n",
        "#ax3=plt.grid()\n",
        "#ax3=plt.plot( gamma_beta, x, 'blue')\n",
        "#ax2.set_xscale('log')\n",
        "\n",
        "fig, ax4 = plt.subplots()\n",
        "\n",
        "ax4.set_title('Gráfico: ln(x) vs. γβ',fontsize='x-large', fontweight='bold')\n",
        "ax4.set_xlabel('γβ',fontsize='x-large', fontweight='bold')\n",
        "ax4.set_ylabel('ln(x)', fontsize='x-large', fontweight='bold')\n",
        "ax4.set_yscale('log')\n",
        "#ax4.set_ylim(0.1,100.1)                     # Limita o eixo x entre os valores de 0.1 até 100\n",
        "ax4=plt.grid()\n",
        "ax4=plt.plot( gamma_beta, x, 'blue')\n",
        "\n",
        "fig, ax5 = plt.subplots()\n",
        "\n",
        "ax5.set_title('Gráfico: ln(x) vs. ln(γβ)',fontsize='x-large', fontweight='bold')\n",
        "ax5.set_xlabel('ln(γβ)',fontsize='x-large', fontweight='bold')\n",
        "ax5.set_ylabel('ln(x)', fontsize='x-large', fontweight='bold')\n",
        "ax5.set_xscale('log')\n",
        "ax5.set_yscale('log')\n",
        "#ax5.set_ylim(0.1,100.1)                     # Limita o eixo y entre os valores de 0.1 até 100\n",
        "ax5=plt.grid()\n",
        "ax5=plt.plot( gamma_beta, x, 'blue')\n",
        "\n"
      ],
      "execution_count": 181,
      "outputs": [
        {
          "output_type": "display_data",
          "data": {
            "image/png": "[encoded data removed]",
            "text/plain": [
              "<Figure size 432x288 with 1 Axes>"
            ]
          },
          "metadata": {
            "tags": [],
            "needs_background": "light"
          }
        },
        {
          "output_type": "display_data",
          "data": {
            "image/png": "[encoded data removed]",
            "text/plain": [
              "<Figure size 432x288 with 1 Axes>"
            ]
          },
          "metadata": {
            "tags": [],
            "needs_background": "light"
          }
        }
      ]
    },
    {
      "cell_type": "code",
      "metadata": {
        "colab": {
          "base_uri": "https://localhost:8080/",
          "height": 589
        },
        "id": "PTgP1nj27Q0J",
        "outputId": "76f74dea-7009-444f-e3bc-9f45bc5779f5"
      },
      "source": [
        "# Usando semilogy() command\n",
        "\n",
        "x = ln_argument(gamma_beta)                 # Este é o argumento do ln da equação de Bethe-Block\n",
        "\n",
        "\n",
        "\n",
        "\n",
        "fig, ax4 = plt.subplots()\n",
        "\n",
        "ax4.set_title('Gráfico: ln(x) vs. γβ',fontsize='x-large', fontweight='bold')\n",
        "ax4.set_xlabel('γβ',fontsize='x-large', fontweight='bold')\n",
        "ax4.set_ylabel('ln(x)', fontsize='x-large', fontweight='bold')\n",
        "ax4.semilogy(gamma_beta,x)\n",
        "#ax4.set_yscale('log')\n",
        "#ax4.set_ylim(0.1,100.1)                     # Limita o eixo x entre os valores de 0.1 até 100\n",
        "ax4=plt.grid()\n",
        "#ax4=plt.plot( gamma_beta, x, 'blue')\n",
        "\n",
        "fig, ax5 = plt.subplots()\n",
        "\n",
        "ax5.set_title('Gráfico: ln(x) vs. ln(γβ)',fontsize='x-large', fontweight='bold')\n",
        "ax5.set_xlabel('ln(γβ)',fontsize='x-large', fontweight='bold')\n",
        "ax5.set_ylabel('ln(x)', fontsize='x-large', fontweight='bold')\n",
        "ax5.semilogy(gamma_beta,x)\n",
        "ax5.semilogx(gamma_beta,x)\n",
        "#ax5.set_xscale('log')\n",
        "#ax5.set_yscale('log')\n",
        "#ax5.set_ylim(0.1,100.1)                     # Limita o eixo y entre os valores de 0.1 até 100\n",
        "ax5=plt.grid()\n",
        "ax5=plt.plot( gamma_beta, x, 'blue')\n",
        "\n"
      ],
      "execution_count": 184,
      "outputs": [
        {
          "output_type": "display_data",
          "data": {
            "image/png": "[encoded data removed]",
            "text/plain": [
              "<Figure size 432x288 with 1 Axes>"
            ]
          },
          "metadata": {
            "tags": [],
            "needs_background": "light"
          }
        },
        {
          "output_type": "display_data",
          "data": {
            "image/png": "[encoded data removed]",
            "text/plain": [
              "<Figure size 432x288 with 1 Axes>"
            ]
          },
          "metadata": {
            "tags": [],
            "needs_background": "light"
          }
        }
      ]
    },
    {
      "cell_type": "markdown",
      "metadata": {
        "id": "ERSsUP91RVHa"
      },
      "source": [
        "**Item 7** - Provável que agora, seu valores γβ não estão uniformemente espaçado no gráfico. Faça um vetor de valores γβ que tenham um logarítimo uniformemente espaçado de 0,1 até 100. Repita o gráfico mais uma vez usando os novos argumentos. Uma identidade útil aqui é $\\gamma^2 = (\\gamma \\beta)^2 + 1$."
      ]
    },
    {
      "cell_type": "code",
      "metadata": {
        "id": "olk57jvXSr5c",
        "colab": {
          "base_uri": "https://localhost:8080/",
          "height": 322
        },
        "outputId": "96a670f0-7332-4bc8-d8bc-3c1e23c63a35"
      },
      "source": [
        "#from função_gamma import gamma\n",
        "#print(gamma_beta)\n",
        "#x = ln_argument(gamma_beta)                 # Este é o argumento do ln da equação de Bethe-Block\n",
        "#print(len(gamma_beta))\n",
        "#ps=np.logspace(0.1,10**6,2386)\n",
        "\n",
        "\n",
        "#print(len(ps))\n",
        "print(len(gamma_beta))\n",
        "\n",
        "\n",
        "fig, ax5 = plt.subplots()\n",
        "\n",
        "ax5.set_title('Gráfico: ln(γβ) vs. ln(x)',fontsize='x-large', fontweight='bold')\n",
        "ax5.set_xlabel('ln(γβ)',fontsize='x-large', fontweight='bold')\n",
        "ax5.set_ylabel('ln(x)', fontsize='x-large', fontweight='bold')\n",
        "ax5.set_xscale('log')\n",
        "ax5.set_yscale('log')\n",
        "ax5.set_ylim(10**3,10**5)                     # Limita o eixo x entre os valores de 0.1 até 100\n",
        "ax5.set_xlim(0.001,10**6)\n",
        "ax5=plt.grid()\n",
        "ax5=plt.plot( gamma_beta, x, 'blue')\n"
      ],
      "execution_count": 190,
      "outputs": [
        {
          "output_type": "stream",
          "text": [
            "2386\n"
          ],
          "name": "stdout"
        },
        {
          "output_type": "display_data",
          "data": {
            "image/png": "[encoded data removed]",
            "text/plain": [
              "<Figure size 432x288 with 1 Axes>"
            ]
          },
          "metadata": {
            "tags": [],
            "needs_background": "light"
          }
        }
      ]
    },
    {
      "cell_type": "markdown",
      "metadata": {
        "id": "TarYujbzWP0p"
      },
      "source": [
        "**Item 8** Plote o conteúdo dos colchetes versus $\\gamma \\beta$ usando o mesmo espaçamento do vetor de log para o argumento x. Para termos número reais de I, escolha múons que penetram em um observador de cobre. Esse é um número adimensional que pode variar de 3,55 a mais de 16."
      ]
    },
    {
      "cell_type": "code",
      "metadata": {
        "colab": {
          "base_uri": "https://localhost:8080/",
          "height": 394
        },
        "id": "gxRe94_jBmld",
        "outputId": "aa852450-9d71-4ee4-e980-a7607104ee73"
      },
      "source": [
        "ln_x=np.log(x)\n",
        "colchetes = ln_x - beta**2\n",
        "#print(colchetes)\n",
        "\n",
        "fig, ax8 = plt.subplots()\n",
        "\n",
        "ax8.set_title('Gráfico: [ln(x) - β^2] vs. ln(γβ)',fontsize='x-large', fontweight='bold')\n",
        "ax8.set_xlabel('ln(γβ)',fontsize='x-large', fontweight='bold')\n",
        "ax8.set_ylabel('[ln(x) - β^2]', fontsize='x-large', fontweight='bold')\n",
        "ax8.set_xscale('log')\n",
        "ax8.set_yscale('log')\n",
        "#ax8.set_xlim(0.1,10**6)                     # Limita o eixo x entre os valores de 0.1 até 100\n",
        "ax8=plt.grid()\n",
        "ax8=plt.plot( ps, colchetes, 'blue')"
      ],
      "execution_count": 137,
      "outputs": [
        {
          "output_type": "stream",
          "text": [
            "/usr/local/lib/python3.6/dist-packages/numpy/ma/core.py:6759: RuntimeWarning: overflow encountered in power\n",
            "  result = np.where(m, fa, umath.power(fa, fb)).view(basetype)\n",
            "/usr/local/lib/python3.6/dist-packages/google/colab/_event_manager.py:28: UserWarning: Data has no positive values, and therefore cannot be log-scaled.\n",
            "  func(*args, **kwargs)\n"
          ],
          "name": "stderr"
        },
        {
          "output_type": "display_data",
          "data": {
            "image/png": "[encoded data removed]",
            "text/plain": [
              "<Figure size 432x288 with 1 Axes>"
            ]
          },
          "metadata": {
            "tags": [],
            "needs_background": "light"
          }
        }
      ]
    },
    {
      "cell_type": "markdown",
      "metadata": {
        "id": "QQ_KHAteEHEj"
      },
      "source": [
        "**Item 9** - Finalmente, plote toda a equação $-(\\frac{dE}{dx})$, a energia perdida por unidade de distância, para múons que passam pelo cobre. Os dados de que você precisa sobre o cobre estão todos no PDG. Além disso, pode encontrar mais sobre o múon aqui. Convertendo para nossas unidades, a perda de energia deve ter uma largura mínima de 13 MeV / cm para o momento do múon ou energia em torno de 300 MeV."
      ]
    },
    {
      "cell_type": "code",
      "metadata": {
        "colab": {
          "base_uri": "https://localhost:8080/",
          "height": 394
        },
        "id": "rgbI2CkmEGRp",
        "outputId": "b47ab30f-0277-470e-9840-d94141637290"
      },
      "source": [
        "K = 0.307\n",
        "z = -1\n",
        "rho = 8.960               # g/cm^3 densidade do meio\n",
        "A = 63.546                # g/mol\n",
        "Z = 29\n",
        "\n",
        "cons = K * z**2 * rho * (Z/A) \n",
        "\n",
        "# -dE/dx \n",
        "dE_over_dx = cons * (1/beta**2) * colchetes\n",
        "\n",
        "fig, ax9 = plt.subplots()\n",
        "\n",
        "ax9.set_title('Gráfico: -dE/dx vs. ln(γβ)',fontsize='x-large', fontweight='bold')\n",
        "ax9.set_xlabel('ln(γβ)',fontsize='x-large', fontweight='bold')\n",
        "ax9.set_ylabel('-dE/dx', fontsize='x-large', fontweight='bold')\n",
        "ax9.set_xscale('log')\n",
        "ax9.set_yscale('log')\n",
        "#ax8.set_xlim(0.1,10**6)                     # Limita o eixo x entre os valores de 0.1 até 100\n",
        "ax9=plt.grid()\n",
        "ax9=plt.plot( ps, dE_over_dx, 'blue')\n"
      ],
      "execution_count": 138,
      "outputs": [
        {
          "output_type": "stream",
          "text": [
            "/usr/local/lib/python3.6/dist-packages/numpy/ma/core.py:6759: RuntimeWarning: overflow encountered in power\n",
            "  result = np.where(m, fa, umath.power(fa, fb)).view(basetype)\n",
            "/usr/local/lib/python3.6/dist-packages/google/colab/_event_manager.py:28: UserWarning: Data has no positive values, and therefore cannot be log-scaled.\n",
            "  func(*args, **kwargs)\n"
          ],
          "name": "stderr"
        },
        {
          "output_type": "display_data",
          "data": {
            "image/png": "[encoded data removed]",
            "text/plain": [
              "<Figure size 432x288 with 1 Axes>"
            ]
          },
          "metadata": {
            "tags": [],
            "needs_background": "light"
          }
        }
      ]
    }
  ]
}