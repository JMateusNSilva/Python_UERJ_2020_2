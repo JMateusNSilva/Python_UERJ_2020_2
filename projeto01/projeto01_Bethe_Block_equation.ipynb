{
  "nbformat": 4,
  "nbformat_minor": 0,
  "metadata": {
    "colab": {
      "name": "projeto01_Bethe-Block_equation.ipynb",
      "provenance": [],
      "authorship_tag": "ABX9TyOj7EMKYmqlS09WPfzc4JvM",
      "include_colab_link": true
    },
    "kernelspec": {
      "name": "python3",
      "display_name": "Python 3"
    }
  },
  "cells": [
    {
      "cell_type": "markdown",
      "metadata": {
        "id": "view-in-github",
        "colab_type": "text"
      },
      "source": [
        "<a href=\"https://colab.research.google.com/github/JMateusNSilva/python_uerj_2020_2/blob/master/projeto01/projeto01_Bethe_Block_equation.ipynb\" target=\"_parent\"><img src=\"https://colab.research.google.com/assets/colab-badge.svg\" alt=\"Open In Colab\"/></a>"
      ]
    },
    {
      "cell_type": "markdown",
      "metadata": {
        "id": "OoEA7dJW3pBG"
      },
      "source": [
        "**Item 1** - Escreva uma função em Python chamada **def gamma(beta):** que tenha como argumento β e retorna γ. Teste-o para um valor de β, como por exemplo, 0,6."
      ]
    },
    {
      "cell_type": "code",
      "metadata": {
        "id": "YW8WxaHKYieD",
        "outputId": "d3ab6603-af4d-4449-9ee8-eef5e1b7cc22",
        "colab": {
          "base_uri": "https://localhost:8080/"
        }
      },
      "source": [
        "def gamma(beta):\n",
        "    \"\"\"Calcula um valor de gamma quando inserido um valor para beta.\n",
        "    \"\"\"\n",
        "    gamma = (1-beta**2)**(-1/2)        # beta^2 = u^2/c^2 u-veloc. particula, c - veloc. luz.\n",
        "    return gamma\n",
        "\n",
        "gamma(0.6)\n"
      ],
      "execution_count": 2,
      "outputs": [
        {
          "output_type": "execute_result",
          "data": {
            "text/plain": [
              "1.25"
            ]
          },
          "metadata": {
            "tags": []
          },
          "execution_count": 2
        }
      ]
    },
    {
      "cell_type": "code",
      "metadata": {
        "id": "bvWqyGGd19ja",
        "outputId": "ef96ab16-95b5-4a16-9831-93f2a26dcc44",
        "colab": {
          "base_uri": "https://localhost:8080/"
        }
      },
      "source": [
        "%%writefile função_gamma.py\n",
        "def gamma(beta):\n",
        "    gamma = (1-beta**2)**(-1/2)        # beta^2 = u^2/c^2 u-veloc. particula, c - veloc. luz.\n",
        "    return gamma"
      ],
      "execution_count": 3,
      "outputs": [
        {
          "output_type": "stream",
          "text": [
            "Writing função_gamma.py\n"
          ],
          "name": "stdout"
        }
      ]
    },
    {
      "cell_type": "code",
      "metadata": {
        "id": "ZVZys9PY2PZr",
        "outputId": "884d4799-e65e-4825-929d-a25e40274744",
        "colab": {
          "base_uri": "https://localhost:8080/"
        }
      },
      "source": [
        "%cat função_gamma.py\n",
        "\n"
      ],
      "execution_count": 4,
      "outputs": [
        {
          "output_type": "stream",
          "text": [
            "def gamma(beta):\n",
            "    gamma = (1-beta**2)**(-1/2)        # beta^2 = u^2/c^2 u-veloc. particula, c - veloc. luz.\n",
            "    return gamma"
          ],
          "name": "stdout"
        }
      ]
    },
    {
      "cell_type": "markdown",
      "metadata": {
        "id": "O7uQsizE4SBp"
      },
      "source": [
        "**Item 2** - Certifique-se que sua função gamma(beta) pode aceitar um vetor de β e retornar um vetor compatível de γ."
      ]
    },
    {
      "cell_type": "code",
      "metadata": {
        "id": "b_lgjOqchUO8",
        "outputId": "a7ba8c3a-3692-4b36-8d3e-4b7d1db26309",
        "colab": {
          "base_uri": "https://localhost:8080/"
        }
      },
      "source": [
        "import numpy as np\n",
        "from função_gamma import gamma\n",
        "# Beta varia entre valores de 0 até 1.\n",
        "beta = np.arange(0.0,1.0,0.001)\n",
        "#print(f'O valor de vetor beta é: \\n {beta}')\n",
        "print(f'O valor do vetor gamma é: \\n {gamma(beta)}')"
      ],
      "execution_count": 5,
      "outputs": [
        {
          "output_type": "stream",
          "text": [
            "O valor do vetor gamma é: \n",
            " [ 1.          1.0000005   1.000002    1.0000045   1.000008    1.0000125\n",
            "  1.000018    1.0000245   1.000032    1.0000405   1.00005     1.00006051\n",
            "  1.00007201  1.00008451  1.00009801  1.00011252  1.00012802  1.00014453\n",
            "  1.00016204  1.00018055  1.00020006  1.00022057  1.00024209  1.0002646\n",
            "  1.00028812  1.00031265  1.00033817  1.0003647   1.00039223  1.00042077\n",
            "  1.0004503   1.00048085  1.00051239  1.00054495  1.0005785   1.00061306\n",
            "  1.00064863  1.0006852   1.00072278  1.00076137  1.00080096  1.00084156\n",
            "  1.00088317  1.00092578  1.00096941  1.00101404  1.00105968  1.00110633\n",
            "  1.00115399  1.00120267  1.00125235  1.00130304  1.00135475  1.00140747\n",
            "  1.0014612   1.00151594  1.0015717   1.00162847  1.00168626  1.00174506\n",
            "  1.00180487  1.00186571  1.00192756  1.00199043  1.00205431  1.00211922\n",
            "  1.00218514  1.00225209  1.00232005  1.00238903  1.00245904  1.00253007\n",
            "  1.00260212  1.0026752   1.0027493   1.00282442  1.00290057  1.00297775\n",
            "  1.00305595  1.00313518  1.00321544  1.00329673  1.00337905  1.0034624\n",
            "  1.00354678  1.00363219  1.00371864  1.00380612  1.00389463  1.00398418\n",
            "  1.00407477  1.00416639  1.00425906  1.00435276  1.0044475   1.00454328\n",
            "  1.0046401   1.00473796  1.00483687  1.00493682  1.00503782  1.00513986\n",
            "  1.00524295  1.00534708  1.00545227  1.0055585   1.00566579  1.00577413\n",
            "  1.00588352  1.00599396  1.00610546  1.00621802  1.00633163  1.0064463\n",
            "  1.00656203  1.00667882  1.00679667  1.00691558  1.00703556  1.0071566\n",
            "  1.00727871  1.00740188  1.00752612  1.00765143  1.00777781  1.00790526\n",
            "  1.00803379  1.00816338  1.00829406  1.00842581  1.00855863  1.00869254\n",
            "  1.00882753  1.00896359  1.00910074  1.00923898  1.0093783   1.0095187\n",
            "  1.0096602   1.00980278  1.00994645  1.01009122  1.01023708  1.01038403\n",
            "  1.01053208  1.01068123  1.01083147  1.01098282  1.01113527  1.01128882\n",
            "  1.01144347  1.01159924  1.01175611  1.01191409  1.01207318  1.01223338\n",
            "  1.01239469  1.01255712  1.01272067  1.01288534  1.01305112  1.01321803\n",
            "  1.01338606  1.01355522  1.0137255   1.01389691  1.01406945  1.01424312\n",
            "  1.01441793  1.01459387  1.01477094  1.01494916  1.01512851  1.01530901\n",
            "  1.01549065  1.01567343  1.01585736  1.01604245  1.01622868  1.01641606\n",
            "  1.0166046   1.01679429  1.01698515  1.01717716  1.01737033  1.01756467\n",
            "  1.01776018  1.01795685  1.01815469  1.0183537   1.01855389  1.01875525\n",
            "  1.01895779  1.0191615   1.0193664   1.01957249  1.01977975  1.01998821\n",
            "  1.02019786  1.02040869  1.02062073  1.02083395  1.02104838  1.02126401\n",
            "  1.02148083  1.02169887  1.02191811  1.02213856  1.02236022  1.02258309\n",
            "  1.02280718  1.02303249  1.02325902  1.02348677  1.02371575  1.02394595\n",
            "  1.02417738  1.02441005  1.02464395  1.02487908  1.02511546  1.02535308\n",
            "  1.02559194  1.02583205  1.0260734   1.02631601  1.02655987  1.02680499\n",
            "  1.02705137  1.02729901  1.02754791  1.02779808  1.02804952  1.02830223\n",
            "  1.02855622  1.02881148  1.02906803  1.02932585  1.02958497  1.02984536\n",
            "  1.03010705  1.03037004  1.03063432  1.0308999   1.03116678  1.03143496\n",
            "  1.03170446  1.03197526  1.03224737  1.03252081  1.03279556  1.03307163\n",
            "  1.03334903  1.03362776  1.03390781  1.03418921  1.03447193  1.034756\n",
            "  1.03504141  1.03532817  1.03561628  1.03590574  1.03619655  1.03648872\n",
            "  1.03678226  1.03707716  1.03737342  1.03767106  1.03797007  1.03827047\n",
            "  1.03857224  1.0388754   1.03917994  1.03948588  1.03979321  1.04010193\n",
            "  1.04041206  1.0407236   1.04103654  1.0413509   1.04166667  1.04198386\n",
            "  1.04230247  1.0426225   1.04294397  1.04326687  1.0435912   1.04391698\n",
            "  1.0442442   1.04457287  1.04490299  1.04523456  1.04556759  1.04590209\n",
            "  1.04623805  1.04657548  1.04691439  1.04725478  1.04759664  1.04793999\n",
            "  1.04828484  1.04863117  1.04897901  1.04932834  1.04967918  1.05003153\n",
            "  1.0503854   1.05074078  1.05109769  1.05145612  1.05181608  1.05217758\n",
            "  1.05254062  1.05290519  1.05327132  1.053639    1.05400824  1.05437903\n",
            "  1.05475139  1.05512532  1.05550083  1.05587791  1.05625658  1.05663683\n",
            "  1.05701867  1.05740211  1.05778716  1.05817381  1.05856206  1.05895194\n",
            "  1.05934343  1.05973655  1.0601313   1.06052768  1.0609257   1.06132537\n",
            "  1.06172668  1.06212965  1.06253428  1.06294057  1.06334853  1.06375816\n",
            "  1.06416947  1.06458247  1.06499715  1.06541353  1.06583161  1.06625139\n",
            "  1.06667289  1.0670961   1.06752103  1.06794768  1.06837607  1.06880619\n",
            "  1.06923806  1.06967167  1.07010704  1.07054417  1.07098306  1.07142372\n",
            "  1.07186616  1.07231038  1.07275638  1.07320418  1.07365378  1.07410518\n",
            "  1.07455839  1.07501342  1.07547028  1.07592896  1.07638947  1.07685183\n",
            "  1.07731603  1.07778209  1.07825     1.07871978  1.07919143  1.07966496\n",
            "  1.08014037  1.08061768  1.08109688  1.08157798  1.08206099  1.08254592\n",
            "  1.08303277  1.08352156  1.08401227  1.08450493  1.08499954  1.08549611\n",
            "  1.08599464  1.08649514  1.08699762  1.08750208  1.08800853  1.08851698\n",
            "  1.08902744  1.0895399   1.09005439  1.0905709   1.09108945  1.09161004\n",
            "  1.09213268  1.09265737  1.09318412  1.09371295  1.09424386  1.09477685\n",
            "  1.09531193  1.09584912  1.09638841  1.09692983  1.09747336  1.09801903\n",
            "  1.09856684  1.0991168   1.09966892  1.1002232   1.10077965  1.10133828\n",
            "  1.10189911  1.10246213  1.10302735  1.10359479  1.10416446  1.10473635\n",
            "  1.10531049  1.10588687  1.10646551  1.10704642  1.1076296   1.10821507\n",
            "  1.10880282  1.10939288  1.10998525  1.11057994  1.11117696  1.11177632\n",
            "  1.11237802  1.11298208  1.11358851  1.11419731  1.1148085   1.11542208\n",
            "  1.11603807  1.11665647  1.11727729  1.11790055  1.11852625  1.1191544\n",
            "  1.11978502  1.12041811  1.12105369  1.12169176  1.12233234  1.12297542\n",
            "  1.12362104  1.12426919  1.12491989  1.12557314  1.12622896  1.12688736\n",
            "  1.12754836  1.12821195  1.12887815  1.12954697  1.13021843  1.13089254\n",
            "  1.1315693   1.13224873  1.13293084  1.13361564  1.13430314  1.13499336\n",
            "  1.1356863   1.13638198  1.13708041  1.1377816   1.13848557  1.13919233\n",
            "  1.13990188  1.14061425  1.14132944  1.14204746  1.14276834  1.14349207\n",
            "  1.14421869  1.14494819  1.14568059  1.1464159   1.14715414  1.14789532\n",
            "  1.14863946  1.14938657  1.15013665  1.15088973  1.15164582  1.15240493\n",
            "  1.15316708  1.15393228  1.15470054  1.15547188  1.15624632  1.15702386\n",
            "  1.15780453  1.15858833  1.15937529  1.16016541  1.16095872  1.16175522\n",
            "  1.16255494  1.16335789  1.16416408  1.16497352  1.16578625  1.16660226\n",
            "  1.16742158  1.16824423  1.16907021  1.16989955  1.17073226  1.17156837\n",
            "  1.17240787  1.1732508   1.17409717  1.17494699  1.17580029  1.17665708\n",
            "  1.17751737  1.1783812   1.17924856  1.18011949  1.180994    1.1818721\n",
            "  1.18275383  1.18363918  1.18452819  1.18542087  1.18631725  1.18721733\n",
            "  1.18812114  1.1890287   1.18994003  1.19085514  1.19177407  1.19269682\n",
            "  1.19362341  1.19455388  1.19548823  1.19642649  1.19736868  1.19831482\n",
            "  1.19926493  1.20021904  1.20117715  1.20213931  1.20310552  1.20407581\n",
            "  1.2050502   1.20602871  1.20701137  1.2079982   1.20898922  1.20998446\n",
            "  1.21098393  1.21198767  1.21299569  1.21400801  1.21502467  1.21604569\n",
            "  1.21707109  1.21810089  1.21913513  1.22017382  1.22121699  1.22226466\n",
            "  1.22331687  1.22437364  1.22543499  1.22650094  1.22757154  1.2286468\n",
            "  1.22972675  1.23081141  1.23190082  1.23299501  1.23409399  1.2351978\n",
            "  1.23630647  1.23742003  1.2385385   1.23966191  1.24079029  1.24192368\n",
            "  1.2430621   1.24420558  1.24535415  1.24650785  1.24766671  1.24883074\n",
            "  1.25        1.2511745   1.25235429  1.25353939  1.25472984  1.25592566\n",
            "  1.2571269   1.25833358  1.25954574  1.26076342  1.26198664  1.26321545\n",
            "  1.26444988  1.26568996  1.26693572  1.26818722  1.26944447  1.27070753\n",
            "  1.27197642  1.27325118  1.27453185  1.27581848  1.27711109  1.27840972\n",
            "  1.27971442  1.28102523  1.28234218  1.28366532  1.28499468  1.28633031\n",
            "  1.28767225  1.28902054  1.29037522  1.29173633  1.29310393  1.29447805\n",
            "  1.29585873  1.29724602  1.29863997  1.30004062  1.30144802  1.3028622\n",
            "  1.30428323  1.30571114  1.30714599  1.30858782  1.31003667  1.31149261\n",
            "  1.31295567  1.31442592  1.31590339  1.31738814  1.31888022  1.32037969\n",
            "  1.32188659  1.32340098  1.32492292  1.32645245  1.32798963  1.32953452\n",
            "  1.33108717  1.33264764  1.33421599  1.33579227  1.33737654  1.33896886\n",
            "  1.3405693   1.3421779   1.34379473  1.34541986  1.34705334  1.34869524\n",
            "  1.35034562  1.35200455  1.35367209  1.3553483   1.35703325  1.35872701\n",
            "  1.36042964  1.36214122  1.36386181  1.36559149  1.36733032  1.36907838\n",
            "  1.37083573  1.37260245  1.37437862  1.37616431  1.37795959  1.37976454\n",
            "  1.38157925  1.38340378  1.38523821  1.38708263  1.38893712  1.39080175\n",
            "  1.39267662  1.3945618   1.39645738  1.39836345  1.40028008  1.40220738\n",
            "  1.40414543  1.40609431  1.40805413  1.41002496  1.41200691  1.41400006\n",
            "  1.41600452  1.41802038  1.42004774  1.4220867   1.42413735  1.4261998\n",
            "  1.42827415  1.4303605   1.43245896  1.43456964  1.43669264  1.43882807\n",
            "  1.44097604  1.44313667  1.44531007  1.44749635  1.44969562  1.45190802\n",
            "  1.45413364  1.45637263  1.45862509  1.46089115  1.46317094  1.46546458\n",
            "  1.4677722   1.47009394  1.47242992  1.47478029  1.47714516  1.47952469\n",
            "  1.48191901  1.48432826  1.48675258  1.48919213  1.49164704  1.49411747\n",
            "  1.49660357  1.49910549  1.50162338  1.50415741  1.50670773  1.5092745\n",
            "  1.51185789  1.51445807  1.5170752   1.51970945  1.52236101  1.52503004\n",
            "  1.52771672  1.53042123  1.53314377  1.53588451  1.53864364  1.54142136\n",
            "  1.54421785  1.54703333  1.54986799  1.55272203  1.55559566  1.55848908\n",
            "  1.56140252  1.56433619  1.56729031  1.5702651   1.57326079  1.5762776\n",
            "  1.57931577  1.58237554  1.58545715  1.58856085  1.59168687  1.59483548\n",
            "  1.59800693  1.60120148  1.6044194   1.60766094  1.6109264   1.61421605\n",
            "  1.61753016  1.62086902  1.62423293  1.62762219  1.63103709  1.63447794\n",
            "  1.63794506  1.64143875  1.64495935  1.64850718  1.65208257  1.65568587\n",
            "  1.65931742  1.66297756  1.66666667  1.67038509  1.67413321  1.6779114\n",
            "  1.68172003  1.68555951  1.68943023  1.6933326   1.69726702  1.70123392\n",
            "  1.70523372  1.70926686  1.71333378  1.71743494  1.72157079  1.72574181\n",
            "  1.72994847  1.73419125  1.73847066  1.74278721  1.74714139  1.75153376\n",
            "  1.75596483  1.76043515  1.7649453   1.76949582  1.77408731  1.77872035\n",
            "  1.78339556  1.78811354  1.79287493  1.79768037  1.80253051  1.80742603\n",
            "  1.8123676   1.81735593  1.82239174  1.82747574  1.83260868  1.83779133\n",
            "  1.84302445  1.84830885  1.85364534  1.85903474  1.86447791  1.86997571\n",
            "  1.87552903  1.88113878  1.88680589  1.8925313   1.89831599  1.90416096\n",
            "  1.91006722  1.91603582  1.92206782  1.92816432  1.93432644  1.94055533\n",
            "  1.94685216  1.95321814  1.9596545   1.96616252  1.97274349  1.97939874\n",
            "  1.98612964  1.99293759  1.99982402  2.00679043  2.01383831  2.02096923\n",
            "  2.02818479  2.03548662  2.04287641  2.05035589  2.05792685  2.06559112\n",
            "  2.07335057  2.08120714  2.08916283  2.09721968  2.1053798   2.11364536\n",
            "  2.1220186   2.13050182  2.13909738  2.14780774  2.1566354   2.16558297\n",
            "  2.17465313  2.18384862  2.19317232  2.20262714  2.21221614  2.22194244\n",
            "  2.23180928  2.24182002  2.25197811  2.26228712  2.27275075  2.28337284\n",
            "  2.29415734  2.30510835  2.31623013  2.32752706  2.33900371  2.35066482\n",
            "  2.36251527  2.37456017  2.38680479  2.39925462  2.41191535  2.42479291\n",
            "  2.43789345  2.45122337  2.46478934  2.4785983   2.49265747  2.50697439\n",
            "  2.5215569   2.53641319  2.55155182  2.5669817   2.58271216  2.59875295\n",
            "  2.61511427  2.63180678  2.64884166  2.66623063  2.68398594  2.7021205\n",
            "  2.72064781  2.73958209  2.75893826  2.77873206  2.79898001  2.81969956\n",
            "  2.84090909  2.862628    2.88487679  2.90767711  2.93105191  2.95502546\n",
            "  2.9796235   3.00487335  3.03080403  3.0574464   3.08483331  3.11299978\n",
            "  3.14198315  3.17182335  3.20256308  3.23424805  3.26692733  3.30065361\n",
            "  3.33548356  3.37147825  3.40870358  3.44723078  3.48713701  3.52850595\n",
            "  3.57142857  3.61600398  3.66234034  3.71055598  3.76078069  3.81315712\n",
            "  3.86784253  3.92501075  3.98485446  4.04758796  4.11345035  4.18270937\n",
            "  4.25566594  4.33265966  4.41407545  4.5003516   4.59198974  4.68956702\n",
            "  4.79375149  4.90532126  5.02518908  5.15443375  5.29434115  5.44645829\n",
            "  5.61266569  5.79527588  5.99717     6.22199117  6.47442474  6.76061595\n",
            "  7.08881205  7.47038725  7.92155313  8.46637168  9.14243324 10.01252349\n",
            " 11.19153703 12.91963785 15.81929993 22.36627204]\n"
          ],
          "name": "stdout"
        }
      ]
    },
    {
      "cell_type": "markdown",
      "metadata": {
        "id": "QoOnuNeUD1Gz"
      },
      "source": [
        "**Item 3** - A partir de um vetor de valores β variando de 0 a 0,995, faça um gráfico gamma versus **gamma** versus **beta**."
      ]
    },
    {
      "cell_type": "code",
      "metadata": {
        "id": "FzGYJpQ_EXfr",
        "outputId": "7a05230d-2234-4ce2-93c0-5617cca910cd",
        "colab": {
          "base_uri": "https://localhost:8080/",
          "height": 279
        }
      },
      "source": [
        "import numpy as np\n",
        "import matplotlib.pyplot as plt\n",
        "from função_gamma import gamma\n",
        "# Beta varia entre valores de 0 até 1.\n",
        "beta = np.arange(0.0,0.996,0.001)               # O intervalo inclui o ponto inicial (0) e exclui o ponto final(0.996)\n",
        "\n",
        "gamma = gamma(beta)\n",
        "\n",
        "#beta.shape\n",
        "#print(len(gamma))\n",
        "#type(gamma)\n",
        "#print(f'gamma = \\n {gamma}')\n",
        "#print(f'beta = \\n {beta}')\n",
        "\n",
        "plt.plot(gamma,beta,'blue')\n",
        "plt.xlabel('γ')\n",
        "plt.ylabel('β')\n",
        "\n",
        "plt.show()"
      ],
      "execution_count": 6,
      "outputs": [
        {
          "output_type": "display_data",
          "data": {
            "image/png": "[encoded data removed]",
            "text/plain": [
              "<Figure size 432x288 with 1 Axes>"
            ]
          },
          "metadata": {
            "tags": [],
            "needs_background": "light"
          }
        }
      ]
    },
    {
      "cell_type": "markdown",
      "metadata": {
        "id": "1_DC36SwKES4"
      },
      "source": [
        "**Item 4** - Faça um gráfico γβ versus β. O que você observa?"
      ]
    },
    {
      "cell_type": "code",
      "metadata": {
        "id": "tuR0ygs7vXJk",
        "outputId": "871b47a7-5a95-4322-d7b5-b0ef93c4d557",
        "colab": {
          "base_uri": "https://localhost:8080/",
          "height": 1000
        }
      },
      "source": [
        "import numpy as np\n",
        "import matplotlib.pyplot as plt\n",
        "from função_gamma import gamma\n",
        "# Beta varia entre valores de 0 até 1.\n",
        "beta = np.arange(0,0.996,0.001)               # O intervalo inclui o ponto inicial (0) e exclui o ponto final(0.996)\n",
        "\n",
        "gamma = gamma(beta)\n",
        "\n",
        "gamma_beta = gamma*beta\n",
        "\n",
        "print(gamma_beta)\n",
        "\n",
        "fig, ax1 = plt.subplots()\n",
        "ax1.set_xlabel('γβ')\n",
        "ax1.set_ylabel('β')\n",
        "ax1=plt.plot(gamma_beta,beta,'blue')\n",
        "\n",
        "fig,ax2 = plt.subplots()\n",
        "ax2.set_xlabel('γβ')\n",
        "ax2.set_ylabel('β')\n",
        "ax2.set_xscale('log')\n",
        "ax2.set_yscale('log')\n",
        "ax2=plt.plot(gamma_beta, beta, 'blue')\n",
        "\n"
      ],
      "execution_count": 19,
      "outputs": [
        {
          "output_type": "stream",
          "text": [
            "[0.00000000e+00 1.00000050e-03 2.00000400e-03 3.00001350e-03\n",
            " 4.00003200e-03 5.00006250e-03 6.00010800e-03 7.00017151e-03\n",
            " 8.00025601e-03 9.00036452e-03 1.00005000e-02 1.10006656e-02\n",
            " 1.20008641e-02 1.30010986e-02 1.40013722e-02 1.50016878e-02\n",
            " 1.60020484e-02 1.70024570e-02 1.80029167e-02 1.90034304e-02\n",
            " 2.00040012e-02 2.10046320e-02 2.20053259e-02 2.30060859e-02\n",
            " 2.40069150e-02 2.50078162e-02 2.60087925e-02 2.70098469e-02\n",
            " 2.80109825e-02 2.90122022e-02 3.00135091e-02 3.10149062e-02\n",
            " 3.20163966e-02 3.30179832e-02 3.40196691e-02 3.50214572e-02\n",
            " 3.60233507e-02 3.70253525e-02 3.80274657e-02 3.90296934e-02\n",
            " 4.00320385e-02 4.10345040e-02 4.20370931e-02 4.30398087e-02\n",
            " 4.40426539e-02 4.50456318e-02 4.60487454e-02 4.70519977e-02\n",
            " 4.80553917e-02 4.90589306e-02 5.00626174e-02 5.10664552e-02\n",
            " 5.20704469e-02 5.30745957e-02 5.40789046e-02 5.50833767e-02\n",
            " 5.60880151e-02 5.70928227e-02 5.80978028e-02 5.91029584e-02\n",
            " 6.01082925e-02 6.11138082e-02 6.21195087e-02 6.31253969e-02\n",
            " 6.41314760e-02 6.51377491e-02 6.61442193e-02 6.71508897e-02\n",
            " 6.81577633e-02 6.91648433e-02 7.01721328e-02 7.11796349e-02\n",
            " 7.21873527e-02 7.31952894e-02 7.42034479e-02 7.52118316e-02\n",
            " 7.62204434e-02 7.72292866e-02 7.82383642e-02 7.92476794e-02\n",
            " 8.02572354e-02 8.12670352e-02 8.22770821e-02 8.32873792e-02\n",
            " 8.42979296e-02 8.53087365e-02 8.63198030e-02 8.73311324e-02\n",
            " 8.83427279e-02 8.93545924e-02 9.03667294e-02 9.13791419e-02\n",
            " 9.23918331e-02 9.34048063e-02 9.44180646e-02 9.54316112e-02\n",
            " 9.64454493e-02 9.74595822e-02 9.84740131e-02 9.94887451e-02\n",
            " 1.00503782e-01 1.01519126e-01 1.02534781e-01 1.03550750e-01\n",
            " 1.04567036e-01 1.05583643e-01 1.06600574e-01 1.07617832e-01\n",
            " 1.08635420e-01 1.09653342e-01 1.10671601e-01 1.11690200e-01\n",
            " 1.12709143e-01 1.13728432e-01 1.14748071e-01 1.15768064e-01\n",
            " 1.16788414e-01 1.17809123e-01 1.18830196e-01 1.19851635e-01\n",
            " 1.20873445e-01 1.21895627e-01 1.22918187e-01 1.23941126e-01\n",
            " 1.24964448e-01 1.25988158e-01 1.27012257e-01 1.28036750e-01\n",
            " 1.29061639e-01 1.30086929e-01 1.31112623e-01 1.32138723e-01\n",
            " 1.33165234e-01 1.34192158e-01 1.35219500e-01 1.36247262e-01\n",
            " 1.37275449e-01 1.38304062e-01 1.39333107e-01 1.40362587e-01\n",
            " 1.41392504e-01 1.42422862e-01 1.43453665e-01 1.44484917e-01\n",
            " 1.45516620e-01 1.46548778e-01 1.47581395e-01 1.48614475e-01\n",
            " 1.49648020e-01 1.50682034e-01 1.51716521e-01 1.52751485e-01\n",
            " 1.53786928e-01 1.54822855e-01 1.55859269e-01 1.56896173e-01\n",
            " 1.57933572e-01 1.58971468e-01 1.60009866e-01 1.61048769e-01\n",
            " 1.62088180e-01 1.63128103e-01 1.64168542e-01 1.65209500e-01\n",
            " 1.66250982e-01 1.67292990e-01 1.68335529e-01 1.69378601e-01\n",
            " 1.70422212e-01 1.71466363e-01 1.72511060e-01 1.73556306e-01\n",
            " 1.74602104e-01 1.75648458e-01 1.76695373e-01 1.77742851e-01\n",
            " 1.78790896e-01 1.79839513e-01 1.80888704e-01 1.81938475e-01\n",
            " 1.82988828e-01 1.84039767e-01 1.85091297e-01 1.86143420e-01\n",
            " 1.87196141e-01 1.88249464e-01 1.89303393e-01 1.90357930e-01\n",
            " 1.91413081e-01 1.92468849e-01 1.93525238e-01 1.94582252e-01\n",
            " 1.95639895e-01 1.96698170e-01 1.97757082e-01 1.98816635e-01\n",
            " 1.99876832e-01 2.00937678e-01 2.01999176e-01 2.03061330e-01\n",
            " 2.04124145e-01 2.05187625e-01 2.06251773e-01 2.07316593e-01\n",
            " 2.08382090e-01 2.09448268e-01 2.10515130e-01 2.11582681e-01\n",
            " 2.12650925e-01 2.13719866e-01 2.14789508e-01 2.15859856e-01\n",
            " 2.16930912e-01 2.18002682e-01 2.19075170e-01 2.20148379e-01\n",
            " 2.21222315e-01 2.22296981e-01 2.23372381e-01 2.24448520e-01\n",
            " 2.25525401e-01 2.26603030e-01 2.27681410e-01 2.28760546e-01\n",
            " 2.29840442e-01 2.30921103e-01 2.32002531e-01 2.33084733e-01\n",
            " 2.34167712e-01 2.35251473e-01 2.36336020e-01 2.37421357e-01\n",
            " 2.38507489e-01 2.39594421e-01 2.40682156e-01 2.41770699e-01\n",
            " 2.42860055e-01 2.43950227e-01 2.45041222e-01 2.46133042e-01\n",
            " 2.47225693e-01 2.48319179e-01 2.49413505e-01 2.50508675e-01\n",
            " 2.51604694e-01 2.52701566e-01 2.53799296e-01 2.54897889e-01\n",
            " 2.55997349e-01 2.57097681e-01 2.58198890e-01 2.59300980e-01\n",
            " 2.60403956e-01 2.61507823e-01 2.62612585e-01 2.63718248e-01\n",
            " 2.64824815e-01 2.65932293e-01 2.67040685e-01 2.68149996e-01\n",
            " 2.69260232e-01 2.70371397e-01 2.71483496e-01 2.72596534e-01\n",
            " 2.73710516e-01 2.74825446e-01 2.75941330e-01 2.77058173e-01\n",
            " 2.78175980e-01 2.79294755e-01 2.80414504e-01 2.81535232e-01\n",
            " 2.82656944e-01 2.83779644e-01 2.84903339e-01 2.86028032e-01\n",
            " 2.87153730e-01 2.88280437e-01 2.89408159e-01 2.90536900e-01\n",
            " 2.91666667e-01 2.92797463e-01 2.93929295e-01 2.95062168e-01\n",
            " 2.96196087e-01 2.97331057e-01 2.98467084e-01 2.99604173e-01\n",
            " 3.00742330e-01 3.01881559e-01 3.03021866e-01 3.04163257e-01\n",
            " 3.05305737e-01 3.06449312e-01 3.07593987e-01 3.08739768e-01\n",
            " 3.09886660e-01 3.11034668e-01 3.12183799e-01 3.13334058e-01\n",
            " 3.14485451e-01 3.15637983e-01 3.16791660e-01 3.17946488e-01\n",
            " 3.19102472e-01 3.20259618e-01 3.21417932e-01 3.22577420e-01\n",
            " 3.23738088e-01 3.24899941e-01 3.26062985e-01 3.27227227e-01\n",
            " 3.28392672e-01 3.29559326e-01 3.30727195e-01 3.31896285e-01\n",
            " 3.33066603e-01 3.34238153e-01 3.35410943e-01 3.36584978e-01\n",
            " 3.37760265e-01 3.38936809e-01 3.40114617e-01 3.41293695e-01\n",
            " 3.42474050e-01 3.43655687e-01 3.44838613e-01 3.46022834e-01\n",
            " 3.47208357e-01 3.48395188e-01 3.49583332e-01 3.50772798e-01\n",
            " 3.51963591e-01 3.53155718e-01 3.54349184e-01 3.55543998e-01\n",
            " 3.56740165e-01 3.57937692e-01 3.59136585e-01 3.60336852e-01\n",
            " 3.61538499e-01 3.62741532e-01 3.63945959e-01 3.65151786e-01\n",
            " 3.66359020e-01 3.67567668e-01 3.68777737e-01 3.69989233e-01\n",
            " 3.71202165e-01 3.72416537e-01 3.73632359e-01 3.74849636e-01\n",
            " 3.76068376e-01 3.77288586e-01 3.78510273e-01 3.79733444e-01\n",
            " 3.80958107e-01 3.82184268e-01 3.83411935e-01 3.84641115e-01\n",
            " 3.85871817e-01 3.87104046e-01 3.88337810e-01 3.89573118e-01\n",
            " 3.90809976e-01 3.92048391e-01 3.93288373e-01 3.94529927e-01\n",
            " 3.95773062e-01 3.97017785e-01 3.98264105e-01 3.99512028e-01\n",
            " 4.00761564e-01 4.02012718e-01 4.03265500e-01 4.04519917e-01\n",
            " 4.05775978e-01 4.07033690e-01 4.08293061e-01 4.09554099e-01\n",
            " 4.10816813e-01 4.12081210e-01 4.13347299e-01 4.14615088e-01\n",
            " 4.15884585e-01 4.17155799e-01 4.18428737e-01 4.19703409e-01\n",
            " 4.20979823e-01 4.22257987e-01 4.23537910e-01 4.24819600e-01\n",
            " 4.26103067e-01 4.27388317e-01 4.28675362e-01 4.29964208e-01\n",
            " 4.31254865e-01 4.32547342e-01 4.33841648e-01 4.35137791e-01\n",
            " 4.36435780e-01 4.37735626e-01 4.39037336e-01 4.40340920e-01\n",
            " 4.41646386e-01 4.42953745e-01 4.44263006e-01 4.45574177e-01\n",
            " 4.46887269e-01 4.48202290e-01 4.49519250e-01 4.50838159e-01\n",
            " 4.52159026e-01 4.53481861e-01 4.54806673e-01 4.56133473e-01\n",
            " 4.57462270e-01 4.58793073e-01 4.60125894e-01 4.61460741e-01\n",
            " 4.62797625e-01 4.64136556e-01 4.65477543e-01 4.66820598e-01\n",
            " 4.68165730e-01 4.69512950e-01 4.70862268e-01 4.72213694e-01\n",
            " 4.73567239e-01 4.74922914e-01 4.76280728e-01 4.77640693e-01\n",
            " 4.79002820e-01 4.80367118e-01 4.81733600e-01 4.83102275e-01\n",
            " 4.84473155e-01 4.85846251e-01 4.87221573e-01 4.88599134e-01\n",
            " 4.89978944e-01 4.91361014e-01 4.92745356e-01 4.94131981e-01\n",
            " 4.95520901e-01 4.96912127e-01 4.98305671e-01 4.99701545e-01\n",
            " 5.01099759e-01 5.02500327e-01 5.03903260e-01 5.05308569e-01\n",
            " 5.06716268e-01 5.08126367e-01 5.09538880e-01 5.10953818e-01\n",
            " 5.12371194e-01 5.13791020e-01 5.15213308e-01 5.16638072e-01\n",
            " 5.18065323e-01 5.19495075e-01 5.20927340e-01 5.22362131e-01\n",
            " 5.23799461e-01 5.25239343e-01 5.26681790e-01 5.28126815e-01\n",
            " 5.29574432e-01 5.31024654e-01 5.32477493e-01 5.33932965e-01\n",
            " 5.35391081e-01 5.36851857e-01 5.38315305e-01 5.39781440e-01\n",
            " 5.41250276e-01 5.42721825e-01 5.44196104e-01 5.45673125e-01\n",
            " 5.47152903e-01 5.48635453e-01 5.50120788e-01 5.51608924e-01\n",
            " 5.53099875e-01 5.54593656e-01 5.56090281e-01 5.57589766e-01\n",
            " 5.59092126e-01 5.60597375e-01 5.62105530e-01 5.63616605e-01\n",
            " 5.65130615e-01 5.66647577e-01 5.68167505e-01 5.69690416e-01\n",
            " 5.71216326e-01 5.72745250e-01 5.74277204e-01 5.75812205e-01\n",
            " 5.77350269e-01 5.78891412e-01 5.80435651e-01 5.81983002e-01\n",
            " 5.83533482e-01 5.85087108e-01 5.86643896e-01 5.88203865e-01\n",
            " 5.89767030e-01 5.91333409e-01 5.92903020e-01 5.94475880e-01\n",
            " 5.96052007e-01 5.97631418e-01 5.99214131e-01 6.00800165e-01\n",
            " 6.02389537e-01 6.03982266e-01 6.05578370e-01 6.07177868e-01\n",
            " 6.08780778e-01 6.10387118e-01 6.11996909e-01 6.13610168e-01\n",
            " 6.15226916e-01 6.16847170e-01 6.18470952e-01 6.20098279e-01\n",
            " 6.21729173e-01 6.23363653e-01 6.25001738e-01 6.26643450e-01\n",
            " 6.28288807e-01 6.29937832e-01 6.31590543e-01 6.33246963e-01\n",
            " 6.34907111e-01 6.36571010e-01 6.38238679e-01 6.39910141e-01\n",
            " 6.41585416e-01 6.43264527e-01 6.44947496e-01 6.46634343e-01\n",
            " 6.48325092e-01 6.50019765e-01 6.51718383e-01 6.53420971e-01\n",
            " 6.55127550e-01 6.56838143e-01 6.58552774e-01 6.60271466e-01\n",
            " 6.61994242e-01 6.63721127e-01 6.65452143e-01 6.67187316e-01\n",
            " 6.68926668e-01 6.70670225e-01 6.72418011e-01 6.74170051e-01\n",
            " 6.75926369e-01 6.77686992e-01 6.79451944e-01 6.81221251e-01\n",
            " 6.82994938e-01 6.84773032e-01 6.86555558e-01 6.88342544e-01\n",
            " 6.90134015e-01 6.91929998e-01 6.93730521e-01 6.95535610e-01\n",
            " 6.97345292e-01 6.99159597e-01 7.00978550e-01 7.02802181e-01\n",
            " 7.04630518e-01 7.06463588e-01 7.08301422e-01 7.10144047e-01\n",
            " 7.11991493e-01 7.13843790e-01 7.15700967e-01 7.17563054e-01\n",
            " 7.19430082e-01 7.21302080e-01 7.23179079e-01 7.25061111e-01\n",
            " 7.26948206e-01 7.28840396e-01 7.30737712e-01 7.32640187e-01\n",
            " 7.34547853e-01 7.36460741e-01 7.38378886e-01 7.40302320e-01\n",
            " 7.42231076e-01 7.44165188e-01 7.46104690e-01 7.48049616e-01\n",
            " 7.50000000e-01 7.51955877e-01 7.53917283e-01 7.55884252e-01\n",
            " 7.57856821e-01 7.59835025e-01 7.61818900e-01 7.63808483e-01\n",
            " 7.65803812e-01 7.67804922e-01 7.69811853e-01 7.71824641e-01\n",
            " 7.73843325e-01 7.75867943e-01 7.77898535e-01 7.79935140e-01\n",
            " 7.81977796e-01 7.84026545e-01 7.86081427e-01 7.88142481e-01\n",
            " 7.90209750e-01 7.92283274e-01 7.94363096e-01 7.96449257e-01\n",
            " 7.98541801e-01 8.00640769e-01 8.02746206e-01 8.04858154e-01\n",
            " 8.06976659e-01 8.09101765e-01 8.11233516e-01 8.13371958e-01\n",
            " 8.15517137e-01 8.17669099e-01 8.19827891e-01 8.21993559e-01\n",
            " 8.24166152e-01 8.26345716e-01 8.28532302e-01 8.30725956e-01\n",
            " 8.32926730e-01 8.35134672e-01 8.37349834e-01 8.39572265e-01\n",
            " 8.41802017e-01 8.44039141e-01 8.46283691e-01 8.48535719e-01\n",
            " 8.50795277e-01 8.53062421e-01 8.55337203e-01 8.57619680e-01\n",
            " 8.59909907e-01 8.62207938e-01 8.64513832e-01 8.66827645e-01\n",
            " 8.69149434e-01 8.71479259e-01 8.73817177e-01 8.76163248e-01\n",
            " 8.78517532e-01 8.80880090e-01 8.83250983e-01 8.85630273e-01\n",
            " 8.88018022e-01 8.90414293e-01 8.92819151e-01 8.95232659e-01\n",
            " 8.97654883e-01 9.00085888e-01 9.02525741e-01 9.04974509e-01\n",
            " 9.07432260e-01 9.09899062e-01 9.12374985e-01 9.14860099e-01\n",
            " 9.17354475e-01 9.19858183e-01 9.22371297e-01 9.24893889e-01\n",
            " 9.27426034e-01 9.29967805e-01 9.32519278e-01 9.35080531e-01\n",
            " 9.37651638e-01 9.40232680e-01 9.42823734e-01 9.45424880e-01\n",
            " 9.48036198e-01 9.50657771e-01 9.53289680e-01 9.55932009e-01\n",
            " 9.58584841e-01 9.61248263e-01 9.63922359e-01 9.66607218e-01\n",
            " 9.69302926e-01 9.72009574e-01 9.74727251e-01 9.77456049e-01\n",
            " 9.80196059e-01 9.82947375e-01 9.85710090e-01 9.88484301e-01\n",
            " 9.91270104e-01 9.94067596e-01 9.96876877e-01 9.99698046e-01\n",
            " 1.00253120e+00 1.00537645e+00 1.00823390e+00 1.01110364e+00\n",
            " 1.01398579e+00 1.01688045e+00 1.01978774e+00 1.02270776e+00\n",
            " 1.02564062e+00 1.02858643e+00 1.03154531e+00 1.03451738e+00\n",
            " 1.03750275e+00 1.04050154e+00 1.04351387e+00 1.04653986e+00\n",
            " 1.04957963e+00 1.05263331e+00 1.05570103e+00 1.05878290e+00\n",
            " 1.06187906e+00 1.06498965e+00 1.06811478e+00 1.07125461e+00\n",
            " 1.07440925e+00 1.07757886e+00 1.08076356e+00 1.08396351e+00\n",
            " 1.08717884e+00 1.09040970e+00 1.09365623e+00 1.09691858e+00\n",
            " 1.10019691e+00 1.10349137e+00 1.10680211e+00 1.11012928e+00\n",
            " 1.11347306e+00 1.11683359e+00 1.12021104e+00 1.12360558e+00\n",
            " 1.12701738e+00 1.13044660e+00 1.13389342e+00 1.13735801e+00\n",
            " 1.14084055e+00 1.14434122e+00 1.14786020e+00 1.15139768e+00\n",
            " 1.15495384e+00 1.15852887e+00 1.16212298e+00 1.16573634e+00\n",
            " 1.16936916e+00 1.17302165e+00 1.17669400e+00 1.18038643e+00\n",
            " 1.18409914e+00 1.18783235e+00 1.19158627e+00 1.19536113e+00\n",
            " 1.19915714e+00 1.20297453e+00 1.20681354e+00 1.21067439e+00\n",
            " 1.21455733e+00 1.21846258e+00 1.22239041e+00 1.22634105e+00\n",
            " 1.23031475e+00 1.23431178e+00 1.23833239e+00 1.24237684e+00\n",
            " 1.24644541e+00 1.25053836e+00 1.25465597e+00 1.25879852e+00\n",
            " 1.26296630e+00 1.26715960e+00 1.27137870e+00 1.27562392e+00\n",
            " 1.27989555e+00 1.28419391e+00 1.28851930e+00 1.29287205e+00\n",
            " 1.29725249e+00 1.30166093e+00 1.30609772e+00 1.31056321e+00\n",
            " 1.31505773e+00 1.31958164e+00 1.32413530e+00 1.32871907e+00\n",
            " 1.33333333e+00 1.33797846e+00 1.34265483e+00 1.34736285e+00\n",
            " 1.35210291e+00 1.35687541e+00 1.36168077e+00 1.36651941e+00\n",
            " 1.37139175e+00 1.37629824e+00 1.38123931e+00 1.38621542e+00\n",
            " 1.39122703e+00 1.39627461e+00 1.40135863e+00 1.40647958e+00\n",
            " 1.41163795e+00 1.41683425e+00 1.42206900e+00 1.42734272e+00\n",
            " 1.43265594e+00 1.43800921e+00 1.44340309e+00 1.44883813e+00\n",
            " 1.45431492e+00 1.45983405e+00 1.46539612e+00 1.47100173e+00\n",
            " 1.47665152e+00 1.48234613e+00 1.48808619e+00 1.49387239e+00\n",
            " 1.49970538e+00 1.50558588e+00 1.51151458e+00 1.51749221e+00\n",
            " 1.52351949e+00 1.52959719e+00 1.53572607e+00 1.54190692e+00\n",
            " 1.54814054e+00 1.55442774e+00 1.56076938e+00 1.56716629e+00\n",
            " 1.57361936e+00 1.58012948e+00 1.58669756e+00 1.59332455e+00\n",
            " 1.60001139e+00 1.60675907e+00 1.61356859e+00 1.62044098e+00\n",
            " 1.62737727e+00 1.63437855e+00 1.64144592e+00 1.64858049e+00\n",
            " 1.65578343e+00 1.66305592e+00 1.67039915e+00 1.67781438e+00\n",
            " 1.68530287e+00 1.69286593e+00 1.70050489e+00 1.70822111e+00\n",
            " 1.71601601e+00 1.72389101e+00 1.73184760e+00 1.73988730e+00\n",
            " 1.74801165e+00 1.75622226e+00 1.76452076e+00 1.77290884e+00\n",
            " 1.78138823e+00 1.78996069e+00 1.79862807e+00 1.80739223e+00\n",
            " 1.81625510e+00 1.82521867e+00 1.83428497e+00 1.84345610e+00\n",
            " 1.85273423e+00 1.86212157e+00 1.87162041e+00 1.88123311e+00\n",
            " 1.89096209e+00 1.90080985e+00 1.91077897e+00 1.92087210e+00\n",
            " 1.93109198e+00 1.94144143e+00 1.95192336e+00 1.96254078e+00\n",
            " 1.97329680e+00 1.98419460e+00 1.99523750e+00 2.00642892e+00\n",
            " 2.01777238e+00 2.02927154e+00 2.04093018e+00 2.05275218e+00\n",
            " 2.06474160e+00 2.07690263e+00 2.08923957e+00 2.10175693e+00\n",
            " 2.11445936e+00 2.12735166e+00 2.14043884e+00 2.15372608e+00\n",
            " 2.16721875e+00 2.18092245e+00 2.19484297e+00 2.20898634e+00\n",
            " 2.22335882e+00 2.23796694e+00 2.25281746e+00 2.26791745e+00\n",
            " 2.28327425e+00 2.29889552e+00 2.31478923e+00 2.33096372e+00\n",
            " 2.34742767e+00 2.36419014e+00 2.38126061e+00 2.39864897e+00\n",
            " 2.41636558e+00 2.43442127e+00 2.45282738e+00 2.47159579e+00\n",
            " 2.49073896e+00 2.51026994e+00 2.53020246e+00 2.55055092e+00\n",
            " 2.57133046e+00 2.59255701e+00 2.61424733e+00 2.63641909e+00\n",
            " 2.65909091e+00 2.68228244e+00 2.70601442e+00 2.73030881e+00\n",
            " 2.75518879e+00 2.78067895e+00 2.80680533e+00 2.83359557e+00\n",
            " 2.86107901e+00 2.88928685e+00 2.91825231e+00 2.94801079e+00\n",
            " 2.97860003e+00 3.01006036e+00 3.04243492e+00 3.07576990e+00\n",
            " 3.11011482e+00 3.14552289e+00 3.18205132e+00 3.21976173e+00\n",
            " 3.25872062e+00 3.29899986e+00 3.34067725e+00 3.38383720e+00\n",
            " 3.42857143e+00 3.47497982e+00 3.52317140e+00 3.57326541e+00\n",
            " 3.62539258e+00 3.67969662e+00 3.73633589e+00 3.79548539e+00\n",
            " 3.85733911e+00 3.92211273e+00 3.99004684e+00 4.06141080e+00\n",
            " 4.13650729e+00 4.21567785e+00 4.29930948e+00 4.38784281e+00\n",
            " 4.48178199e+00 4.58170698e+00 4.68828895e+00 4.80230951e+00\n",
            " 4.92468529e+00 5.05649951e+00 5.19904301e+00 5.35386850e+00\n",
            " 5.52286304e+00 5.70834674e+00 5.91320962e+00 6.14110528e+00\n",
            " 6.39673164e+00 6.68624918e+00 7.01792393e+00 7.40315376e+00\n",
            " 7.85818071e+00 8.40710708e+00 9.08757864e+00 9.96246087e+00]\n"
          ],
          "name": "stdout"
        },
        {
          "output_type": "display_data",
          "data": {
            "image/png": "[encoded data removed]",
            "text/plain": [
              "<Figure size 432x288 with 1 Axes>"
            ]
          },
          "metadata": {
            "tags": [],
            "needs_background": "light"
          }
        },
        {
          "output_type": "display_data",
          "data": {
            "image/png": "[encoded data removed]",
            "text/plain": [
              "<Figure size 432x288 with 1 Axes>"
            ]
          },
          "metadata": {
            "tags": [],
            "needs_background": "light"
          }
        }
      ]
    },
    {
      "cell_type": "markdown",
      "metadata": {
        "id": "Wb-4LyujGZB7"
      },
      "source": [
        "**Item 5** - Trace o argumento do log natural na equação de Bethe-Block em uma função de γβ. Faça o argumento ser uma nova função **ln_argumetent()**. Para você: essa função deve aceitar β ou γ como argumento, ou ambos, ou seu produto? Observe que pode ser muito difícil obter β com uma boa precisão a partir γ em baixas velocidades; o oposto é difícil em velocidade muitos altas. Faça o gráfico para um intervalo de 0,1 a 100.\n",
        "\n"
      ]
    },
    {
      "cell_type": "code",
      "metadata": {
        "id": "2gmV0QQXqVTJ",
        "outputId": "e49a15ce-3254-430e-a5c5-085018bb3ada",
        "colab": {
          "base_uri": "https://localhost:8080/",
          "height": 312
        }
      },
      "source": [
        "def ln_argument(valor):\n",
        "    # Traçando o argumento do ln da equação de Bethe-Block.\n",
        "    # constantes utilizadas.\n",
        "    mc2 = 0.5110                             # Mev - massa do eletron - m_e * c^2.\n",
        "    I = 29*10**(-5)                          # I/Z aprox 10^-5 onde Z é o número atômico que para o cobre Z=29. \n",
        "    x = (mc2 * valor**2) / I                 # x é o argumento do ln da equação de Bethe-Block.\n",
        "    return x\n",
        "\n",
        "x = ln_argument(gamma_beta)\n",
        "plt.plot(gamma_beta, x, 'blue')\n",
        "plt.title('Gráfico: x vs. γβ')\n",
        "plt.xlabel('γβ')\n",
        "plt.ylabel('x')"
      ],
      "execution_count": 9,
      "outputs": [
        {
          "output_type": "execute_result",
          "data": {
            "text/plain": [
              "Text(0, 0.5, 'x')"
            ]
          },
          "metadata": {
            "tags": []
          },
          "execution_count": 9
        },
        {
          "output_type": "display_data",
          "data": {
            "image/png": "[encoded data removed]",
            "text/plain": [
              "<Figure size 432x288 with 1 Axes>"
            ]
          },
          "metadata": {
            "tags": [],
            "needs_background": "light"
          }
        }
      ]
    },
    {
      "cell_type": "code",
      "metadata": {
        "id": "R1zwWABlGM4z",
        "outputId": "3192ffb1-e3e6-4367-b7f2-af5e2febbe4b",
        "colab": {
          "base_uri": "https://localhost:8080/",
          "height": 312
        }
      },
      "source": [
        "# Invertendo os eixos\n",
        "\n",
        "x = ln_argument(gamma_beta)\n",
        "plt.plot( x, gamma_beta, 'blue')\n",
        "plt.title('Gráfico: γβ vs. x')\n",
        "plt.ylabel('γβ')\n",
        "plt.xlabel('x')\n"
      ],
      "execution_count": 15,
      "outputs": [
        {
          "output_type": "execute_result",
          "data": {
            "text/plain": [
              "Text(0.5, 0, 'x')"
            ]
          },
          "metadata": {
            "tags": []
          },
          "execution_count": 15
        },
        {
          "output_type": "display_data",
          "data": {
            "image/png": "[encoded data removed]",
            "text/plain": [
              "<Figure size 432x288 with 1 Axes>"
            ]
          },
          "metadata": {
            "tags": [],
            "needs_background": "light"
          }
        }
      ]
    },
    {
      "cell_type": "code",
      "metadata": {
        "id": "_HGDTHMyqVJG",
        "outputId": "bbdeedf3-2d68-42a4-b8f7-39ed1d96ed91",
        "colab": {
          "base_uri": "https://localhost:8080/",
          "height": 301
        }
      },
      "source": [
        "\n",
        "x = ln_argument(gamma_beta)                 # Este é o argumento do ln da equação de Bethe-Block\n",
        "\n",
        "fig, ax3 = plt.subplots()\n",
        "\n",
        "ax3.set_xlim(0.1,100.1)                     # Limita o eixo x entre os valores de 0.1 até 100\n",
        "ax3.set_ylim(0, 0.3)                        # reajusta o valor do eixo y\n",
        "ax3.set_title('Gráfico: γβ vs. x',fontsize='x-large', fontweight='bold')\n",
        "ax3.set_ylabel('γβ',fontsize='x-large', fontweight='bold')\n",
        "ax3.set_xlabel('x', fontsize='x-large', fontweight='bold')\n",
        "ax3=plt.plot( x, gamma_beta, 'blue')\n"
      ],
      "execution_count": 42,
      "outputs": [
        {
          "output_type": "display_data",
          "data": {
            "image/png": "[encoded data removed]",
            "text/plain": [
              "<Figure size 432x288 with 1 Axes>"
            ]
          },
          "metadata": {
            "tags": [],
            "needs_background": "light"
          }
        }
      ]
    }
  ]
}