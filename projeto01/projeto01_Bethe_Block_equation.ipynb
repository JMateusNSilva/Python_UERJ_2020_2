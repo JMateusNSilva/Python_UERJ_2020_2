{
  "nbformat": 4,
  "nbformat_minor": 0,
  "metadata": {
    "colab": {
      "name": "projeto01_Bethe-Block_equation.ipynb",
      "provenance": [],
      "authorship_tag": "ABX9TyO30QIt//hbE5uMVgd2CIqQ",
      "include_colab_link": true
    },
    "kernelspec": {
      "name": "python3",
      "display_name": "Python 3"
    }
  },
  "cells": [
    {
      "cell_type": "markdown",
      "metadata": {
        "id": "view-in-github",
        "colab_type": "text"
      },
      "source": [
        "<a href=\"https://colab.research.google.com/github/JMateusNSilva/python_uerj_2020_2/blob/master/projeto01/projeto01_Bethe_Block_equation.ipynb\" target=\"_parent\"><img src=\"https://colab.research.google.com/assets/colab-badge.svg\" alt=\"Open In Colab\"/></a>"
      ]
    },
    {
      "cell_type": "code",
      "metadata": {
        "id": "YW8WxaHKYieD",
        "outputId": "ca1d6715-d1de-4c4e-d2e5-adc7f259cda1",
        "colab": {
          "base_uri": "https://localhost:8080/"
        }
      },
      "source": [
        "def gamma(beta):\n",
        "    gamma = (1-beta)**(-1/2)        # beta = u^2/c^2\n",
        "    return gamma\n",
        "\n",
        "gamma(0.6)\n"
      ],
      "execution_count": 1,
      "outputs": [
        {
          "output_type": "execute_result",
          "data": {
            "text/plain": [
              "1.5811388300841895"
            ]
          },
          "metadata": {
            "tags": []
          },
          "execution_count": 1
        }
      ]
    },
    {
      "cell_type": "code",
      "metadata": {
        "id": "b_lgjOqchUO8"
      },
      "source": [
        ""
      ],
      "execution_count": null,
      "outputs": []
    }
  ]
}