{
  "nbformat": 4,
  "nbformat_minor": 0,
  "metadata": {
    "colab": {
      "name": "projeto01_Bethe-Block_equation.ipynb",
      "provenance": [],
      "authorship_tag": "ABX9TyMOk7RZ8nneiOJsU8jx28HP",
      "include_colab_link": true
    },
    "kernelspec": {
      "name": "python3",
      "display_name": "Python 3"
    }
  },
  "cells": [
    {
      "cell_type": "markdown",
      "metadata": {
        "id": "view-in-github",
        "colab_type": "text"
      },
      "source": [
        "<a href=\"https://colab.research.google.com/github/JMateusNSilva/python_uerj_2020_2/blob/master/projeto01/projeto01_Bethe_Block_equation.ipynb\" target=\"_parent\"><img src=\"https://colab.research.google.com/assets/colab-badge.svg\" alt=\"Open In Colab\"/></a>"
      ]
    },
    {
      "cell_type": "markdown",
      "metadata": {
        "id": "OoEA7dJW3pBG"
      },
      "source": [
        "**Item 1** - Escreva uma função em Python chamada **def gamma(beta):** que tenha como argumento β e retorna γ. Teste-o para um valor de β, como por exemplo, 0,6."
      ]
    },
    {
      "cell_type": "code",
      "metadata": {
        "id": "YW8WxaHKYieD",
        "outputId": "86cd9ed5-1f65-44ca-99c3-5623b13c22c6",
        "colab": {
          "base_uri": "https://localhost:8080/"
        }
      },
      "source": [
        "def gamma(beta):\n",
        "    \"\"\"Calcula um valor de gamma quando inserido um valor para beta.\n",
        "    \"\"\"\n",
        "    gamma = (1-beta**2)**(-1/2)        # beta^2 = u^2/c^2 u-veloc. particula, c - veloc. luz.\n",
        "    return gamma\n",
        "\n",
        "gamma(0.6)\n"
      ],
      "execution_count": 53,
      "outputs": [
        {
          "output_type": "execute_result",
          "data": {
            "text/plain": [
              "1.25"
            ]
          },
          "metadata": {
            "tags": []
          },
          "execution_count": 53
        }
      ]
    },
    {
      "cell_type": "code",
      "metadata": {
        "id": "bvWqyGGd19ja",
        "outputId": "dfd5deea-5bc3-485d-8b05-1986631ebbc6",
        "colab": {
          "base_uri": "https://localhost:8080/"
        }
      },
      "source": [
        "%%writefile função_gamma.py\n",
        "def gamma(beta):\n",
        "    gamma = (1-beta**2)**(-1/2)        # beta^2 = u^2/c^2 u-veloc. particula, c - veloc. luz.\n",
        "    return gamma"
      ],
      "execution_count": 46,
      "outputs": [
        {
          "output_type": "stream",
          "text": [
            "Overwriting função_gamma.py\n"
          ],
          "name": "stdout"
        }
      ]
    },
    {
      "cell_type": "code",
      "metadata": {
        "id": "ZVZys9PY2PZr",
        "outputId": "a37aac74-f415-4216-a217-040390af9849",
        "colab": {
          "base_uri": "https://localhost:8080/"
        }
      },
      "source": [
        "%cat função_gamma.py\n",
        "\n"
      ],
      "execution_count": 48,
      "outputs": [
        {
          "output_type": "stream",
          "text": [
            "def gamma(beta):\n",
            "    gamma = (1-beta**2)**(-1/2)        # beta^2 = u^2/c^2 u-veloc. particula, c - veloc. luz.\n",
            "    return gamma"
          ],
          "name": "stdout"
        }
      ]
    },
    {
      "cell_type": "markdown",
      "metadata": {
        "id": "O7uQsizE4SBp"
      },
      "source": [
        "**Item 2** - Certifique-se que sua função gamma(beta) pode aceitar um vetor de β "
      ]
    },
    {
      "cell_type": "code",
      "metadata": {
        "id": "b_lgjOqchUO8",
        "outputId": "32568708-9f13-463e-d3d3-1a0a6249da84",
        "colab": {
          "base_uri": "https://localhost:8080/"
        }
      },
      "source": [
        "import numpy as np\n",
        "# Beta varia entre valores de 0 até 1.\n",
        "beta = np.arange(0,1,0.001)\n",
        "print(f'O valor do vetor gamma é: \\n {gamma(beta)}')"
      ],
      "execution_count": 20,
      "outputs": [
        {
          "output_type": "stream",
          "text": [
            "O valor do vetor gamma é: \n",
            " [ 1.          1.0000005   1.000002    1.0000045   1.000008    1.0000125\n",
            "  1.000018    1.0000245   1.000032    1.0000405   1.00005     1.00006051\n",
            "  1.00007201  1.00008451  1.00009801  1.00011252  1.00012802  1.00014453\n",
            "  1.00016204  1.00018055  1.00020006  1.00022057  1.00024209  1.0002646\n",
            "  1.00028812  1.00031265  1.00033817  1.0003647   1.00039223  1.00042077\n",
            "  1.0004503   1.00048085  1.00051239  1.00054495  1.0005785   1.00061306\n",
            "  1.00064863  1.0006852   1.00072278  1.00076137  1.00080096  1.00084156\n",
            "  1.00088317  1.00092578  1.00096941  1.00101404  1.00105968  1.00110633\n",
            "  1.00115399  1.00120267  1.00125235  1.00130304  1.00135475  1.00140747\n",
            "  1.0014612   1.00151594  1.0015717   1.00162847  1.00168626  1.00174506\n",
            "  1.00180487  1.00186571  1.00192756  1.00199043  1.00205431  1.00211922\n",
            "  1.00218514  1.00225209  1.00232005  1.00238903  1.00245904  1.00253007\n",
            "  1.00260212  1.0026752   1.0027493   1.00282442  1.00290057  1.00297775\n",
            "  1.00305595  1.00313518  1.00321544  1.00329673  1.00337905  1.0034624\n",
            "  1.00354678  1.00363219  1.00371864  1.00380612  1.00389463  1.00398418\n",
            "  1.00407477  1.00416639  1.00425906  1.00435276  1.0044475   1.00454328\n",
            "  1.0046401   1.00473796  1.00483687  1.00493682  1.00503782  1.00513986\n",
            "  1.00524295  1.00534708  1.00545227  1.0055585   1.00566579  1.00577413\n",
            "  1.00588352  1.00599396  1.00610546  1.00621802  1.00633163  1.0064463\n",
            "  1.00656203  1.00667882  1.00679667  1.00691558  1.00703556  1.0071566\n",
            "  1.00727871  1.00740188  1.00752612  1.00765143  1.00777781  1.00790526\n",
            "  1.00803379  1.00816338  1.00829406  1.00842581  1.00855863  1.00869254\n",
            "  1.00882753  1.00896359  1.00910074  1.00923898  1.0093783   1.0095187\n",
            "  1.0096602   1.00980278  1.00994645  1.01009122  1.01023708  1.01038403\n",
            "  1.01053208  1.01068123  1.01083147  1.01098282  1.01113527  1.01128882\n",
            "  1.01144347  1.01159924  1.01175611  1.01191409  1.01207318  1.01223338\n",
            "  1.01239469  1.01255712  1.01272067  1.01288534  1.01305112  1.01321803\n",
            "  1.01338606  1.01355522  1.0137255   1.01389691  1.01406945  1.01424312\n",
            "  1.01441793  1.01459387  1.01477094  1.01494916  1.01512851  1.01530901\n",
            "  1.01549065  1.01567343  1.01585736  1.01604245  1.01622868  1.01641606\n",
            "  1.0166046   1.01679429  1.01698515  1.01717716  1.01737033  1.01756467\n",
            "  1.01776018  1.01795685  1.01815469  1.0183537   1.01855389  1.01875525\n",
            "  1.01895779  1.0191615   1.0193664   1.01957249  1.01977975  1.01998821\n",
            "  1.02019786  1.02040869  1.02062073  1.02083395  1.02104838  1.02126401\n",
            "  1.02148083  1.02169887  1.02191811  1.02213856  1.02236022  1.02258309\n",
            "  1.02280718  1.02303249  1.02325902  1.02348677  1.02371575  1.02394595\n",
            "  1.02417738  1.02441005  1.02464395  1.02487908  1.02511546  1.02535308\n",
            "  1.02559194  1.02583205  1.0260734   1.02631601  1.02655987  1.02680499\n",
            "  1.02705137  1.02729901  1.02754791  1.02779808  1.02804952  1.02830223\n",
            "  1.02855622  1.02881148  1.02906803  1.02932585  1.02958497  1.02984536\n",
            "  1.03010705  1.03037004  1.03063432  1.0308999   1.03116678  1.03143496\n",
            "  1.03170446  1.03197526  1.03224737  1.03252081  1.03279556  1.03307163\n",
            "  1.03334903  1.03362776  1.03390781  1.03418921  1.03447193  1.034756\n",
            "  1.03504141  1.03532817  1.03561628  1.03590574  1.03619655  1.03648872\n",
            "  1.03678226  1.03707716  1.03737342  1.03767106  1.03797007  1.03827047\n",
            "  1.03857224  1.0388754   1.03917994  1.03948588  1.03979321  1.04010193\n",
            "  1.04041206  1.0407236   1.04103654  1.0413509   1.04166667  1.04198386\n",
            "  1.04230247  1.0426225   1.04294397  1.04326687  1.0435912   1.04391698\n",
            "  1.0442442   1.04457287  1.04490299  1.04523456  1.04556759  1.04590209\n",
            "  1.04623805  1.04657548  1.04691439  1.04725478  1.04759664  1.04793999\n",
            "  1.04828484  1.04863117  1.04897901  1.04932834  1.04967918  1.05003153\n",
            "  1.0503854   1.05074078  1.05109769  1.05145612  1.05181608  1.05217758\n",
            "  1.05254062  1.05290519  1.05327132  1.053639    1.05400824  1.05437903\n",
            "  1.05475139  1.05512532  1.05550083  1.05587791  1.05625658  1.05663683\n",
            "  1.05701867  1.05740211  1.05778716  1.05817381  1.05856206  1.05895194\n",
            "  1.05934343  1.05973655  1.0601313   1.06052768  1.0609257   1.06132537\n",
            "  1.06172668  1.06212965  1.06253428  1.06294057  1.06334853  1.06375816\n",
            "  1.06416947  1.06458247  1.06499715  1.06541353  1.06583161  1.06625139\n",
            "  1.06667289  1.0670961   1.06752103  1.06794768  1.06837607  1.06880619\n",
            "  1.06923806  1.06967167  1.07010704  1.07054417  1.07098306  1.07142372\n",
            "  1.07186616  1.07231038  1.07275638  1.07320418  1.07365378  1.07410518\n",
            "  1.07455839  1.07501342  1.07547028  1.07592896  1.07638947  1.07685183\n",
            "  1.07731603  1.07778209  1.07825     1.07871978  1.07919143  1.07966496\n",
            "  1.08014037  1.08061768  1.08109688  1.08157798  1.08206099  1.08254592\n",
            "  1.08303277  1.08352156  1.08401227  1.08450493  1.08499954  1.08549611\n",
            "  1.08599464  1.08649514  1.08699762  1.08750208  1.08800853  1.08851698\n",
            "  1.08902744  1.0895399   1.09005439  1.0905709   1.09108945  1.09161004\n",
            "  1.09213268  1.09265737  1.09318412  1.09371295  1.09424386  1.09477685\n",
            "  1.09531193  1.09584912  1.09638841  1.09692983  1.09747336  1.09801903\n",
            "  1.09856684  1.0991168   1.09966892  1.1002232   1.10077965  1.10133828\n",
            "  1.10189911  1.10246213  1.10302735  1.10359479  1.10416446  1.10473635\n",
            "  1.10531049  1.10588687  1.10646551  1.10704642  1.1076296   1.10821507\n",
            "  1.10880282  1.10939288  1.10998525  1.11057994  1.11117696  1.11177632\n",
            "  1.11237802  1.11298208  1.11358851  1.11419731  1.1148085   1.11542208\n",
            "  1.11603807  1.11665647  1.11727729  1.11790055  1.11852625  1.1191544\n",
            "  1.11978502  1.12041811  1.12105369  1.12169176  1.12233234  1.12297542\n",
            "  1.12362104  1.12426919  1.12491989  1.12557314  1.12622896  1.12688736\n",
            "  1.12754836  1.12821195  1.12887815  1.12954697  1.13021843  1.13089254\n",
            "  1.1315693   1.13224873  1.13293084  1.13361564  1.13430314  1.13499336\n",
            "  1.1356863   1.13638198  1.13708041  1.1377816   1.13848557  1.13919233\n",
            "  1.13990188  1.14061425  1.14132944  1.14204746  1.14276834  1.14349207\n",
            "  1.14421869  1.14494819  1.14568059  1.1464159   1.14715414  1.14789532\n",
            "  1.14863946  1.14938657  1.15013665  1.15088973  1.15164582  1.15240493\n",
            "  1.15316708  1.15393228  1.15470054  1.15547188  1.15624632  1.15702386\n",
            "  1.15780453  1.15858833  1.15937529  1.16016541  1.16095872  1.16175522\n",
            "  1.16255494  1.16335789  1.16416408  1.16497352  1.16578625  1.16660226\n",
            "  1.16742158  1.16824423  1.16907021  1.16989955  1.17073226  1.17156837\n",
            "  1.17240787  1.1732508   1.17409717  1.17494699  1.17580029  1.17665708\n",
            "  1.17751737  1.1783812   1.17924856  1.18011949  1.180994    1.1818721\n",
            "  1.18275383  1.18363918  1.18452819  1.18542087  1.18631725  1.18721733\n",
            "  1.18812114  1.1890287   1.18994003  1.19085514  1.19177407  1.19269682\n",
            "  1.19362341  1.19455388  1.19548823  1.19642649  1.19736868  1.19831482\n",
            "  1.19926493  1.20021904  1.20117715  1.20213931  1.20310552  1.20407581\n",
            "  1.2050502   1.20602871  1.20701137  1.2079982   1.20898922  1.20998446\n",
            "  1.21098393  1.21198767  1.21299569  1.21400801  1.21502467  1.21604569\n",
            "  1.21707109  1.21810089  1.21913513  1.22017382  1.22121699  1.22226466\n",
            "  1.22331687  1.22437364  1.22543499  1.22650094  1.22757154  1.2286468\n",
            "  1.22972675  1.23081141  1.23190082  1.23299501  1.23409399  1.2351978\n",
            "  1.23630647  1.23742003  1.2385385   1.23966191  1.24079029  1.24192368\n",
            "  1.2430621   1.24420558  1.24535415  1.24650785  1.24766671  1.24883074\n",
            "  1.25        1.2511745   1.25235429  1.25353939  1.25472984  1.25592566\n",
            "  1.2571269   1.25833358  1.25954574  1.26076342  1.26198664  1.26321545\n",
            "  1.26444988  1.26568996  1.26693572  1.26818722  1.26944447  1.27070753\n",
            "  1.27197642  1.27325118  1.27453185  1.27581848  1.27711109  1.27840972\n",
            "  1.27971442  1.28102523  1.28234218  1.28366532  1.28499468  1.28633031\n",
            "  1.28767225  1.28902054  1.29037522  1.29173633  1.29310393  1.29447805\n",
            "  1.29585873  1.29724602  1.29863997  1.30004062  1.30144802  1.3028622\n",
            "  1.30428323  1.30571114  1.30714599  1.30858782  1.31003667  1.31149261\n",
            "  1.31295567  1.31442592  1.31590339  1.31738814  1.31888022  1.32037969\n",
            "  1.32188659  1.32340098  1.32492292  1.32645245  1.32798963  1.32953452\n",
            "  1.33108717  1.33264764  1.33421599  1.33579227  1.33737654  1.33896886\n",
            "  1.3405693   1.3421779   1.34379473  1.34541986  1.34705334  1.34869524\n",
            "  1.35034562  1.35200455  1.35367209  1.3553483   1.35703325  1.35872701\n",
            "  1.36042964  1.36214122  1.36386181  1.36559149  1.36733032  1.36907838\n",
            "  1.37083573  1.37260245  1.37437862  1.37616431  1.37795959  1.37976454\n",
            "  1.38157925  1.38340378  1.38523821  1.38708263  1.38893712  1.39080175\n",
            "  1.39267662  1.3945618   1.39645738  1.39836345  1.40028008  1.40220738\n",
            "  1.40414543  1.40609431  1.40805413  1.41002496  1.41200691  1.41400006\n",
            "  1.41600452  1.41802038  1.42004774  1.4220867   1.42413735  1.4261998\n",
            "  1.42827415  1.4303605   1.43245896  1.43456964  1.43669264  1.43882807\n",
            "  1.44097604  1.44313667  1.44531007  1.44749635  1.44969562  1.45190802\n",
            "  1.45413364  1.45637263  1.45862509  1.46089115  1.46317094  1.46546458\n",
            "  1.4677722   1.47009394  1.47242992  1.47478029  1.47714516  1.47952469\n",
            "  1.48191901  1.48432826  1.48675258  1.48919213  1.49164704  1.49411747\n",
            "  1.49660357  1.49910549  1.50162338  1.50415741  1.50670773  1.5092745\n",
            "  1.51185789  1.51445807  1.5170752   1.51970945  1.52236101  1.52503004\n",
            "  1.52771672  1.53042123  1.53314377  1.53588451  1.53864364  1.54142136\n",
            "  1.54421785  1.54703333  1.54986799  1.55272203  1.55559566  1.55848908\n",
            "  1.56140252  1.56433619  1.56729031  1.5702651   1.57326079  1.5762776\n",
            "  1.57931577  1.58237554  1.58545715  1.58856085  1.59168687  1.59483548\n",
            "  1.59800693  1.60120148  1.6044194   1.60766094  1.6109264   1.61421605\n",
            "  1.61753016  1.62086902  1.62423293  1.62762219  1.63103709  1.63447794\n",
            "  1.63794506  1.64143875  1.64495935  1.64850718  1.65208257  1.65568587\n",
            "  1.65931742  1.66297756  1.66666667  1.67038509  1.67413321  1.6779114\n",
            "  1.68172003  1.68555951  1.68943023  1.6933326   1.69726702  1.70123392\n",
            "  1.70523372  1.70926686  1.71333378  1.71743494  1.72157079  1.72574181\n",
            "  1.72994847  1.73419125  1.73847066  1.74278721  1.74714139  1.75153376\n",
            "  1.75596483  1.76043515  1.7649453   1.76949582  1.77408731  1.77872035\n",
            "  1.78339556  1.78811354  1.79287493  1.79768037  1.80253051  1.80742603\n",
            "  1.8123676   1.81735593  1.82239174  1.82747574  1.83260868  1.83779133\n",
            "  1.84302445  1.84830885  1.85364534  1.85903474  1.86447791  1.86997571\n",
            "  1.87552903  1.88113878  1.88680589  1.8925313   1.89831599  1.90416096\n",
            "  1.91006722  1.91603582  1.92206782  1.92816432  1.93432644  1.94055533\n",
            "  1.94685216  1.95321814  1.9596545   1.96616252  1.97274349  1.97939874\n",
            "  1.98612964  1.99293759  1.99982402  2.00679043  2.01383831  2.02096923\n",
            "  2.02818479  2.03548662  2.04287641  2.05035589  2.05792685  2.06559112\n",
            "  2.07335057  2.08120714  2.08916283  2.09721968  2.1053798   2.11364536\n",
            "  2.1220186   2.13050182  2.13909738  2.14780774  2.1566354   2.16558297\n",
            "  2.17465313  2.18384862  2.19317232  2.20262714  2.21221614  2.22194244\n",
            "  2.23180928  2.24182002  2.25197811  2.26228712  2.27275075  2.28337284\n",
            "  2.29415734  2.30510835  2.31623013  2.32752706  2.33900371  2.35066482\n",
            "  2.36251527  2.37456017  2.38680479  2.39925462  2.41191535  2.42479291\n",
            "  2.43789345  2.45122337  2.46478934  2.4785983   2.49265747  2.50697439\n",
            "  2.5215569   2.53641319  2.55155182  2.5669817   2.58271216  2.59875295\n",
            "  2.61511427  2.63180678  2.64884166  2.66623063  2.68398594  2.7021205\n",
            "  2.72064781  2.73958209  2.75893826  2.77873206  2.79898001  2.81969956\n",
            "  2.84090909  2.862628    2.88487679  2.90767711  2.93105191  2.95502546\n",
            "  2.9796235   3.00487335  3.03080403  3.0574464   3.08483331  3.11299978\n",
            "  3.14198315  3.17182335  3.20256308  3.23424805  3.26692733  3.30065361\n",
            "  3.33548356  3.37147825  3.40870358  3.44723078  3.48713701  3.52850595\n",
            "  3.57142857  3.61600398  3.66234034  3.71055598  3.76078069  3.81315712\n",
            "  3.86784253  3.92501075  3.98485446  4.04758796  4.11345035  4.18270937\n",
            "  4.25566594  4.33265966  4.41407545  4.5003516   4.59198974  4.68956702\n",
            "  4.79375149  4.90532126  5.02518908  5.15443375  5.29434115  5.44645829\n",
            "  5.61266569  5.79527588  5.99717     6.22199117  6.47442474  6.76061595\n",
            "  7.08881205  7.47038725  7.92155313  8.46637168  9.14243324 10.01252349\n",
            " 11.19153703 12.91963785 15.81929993 22.36627204]\n"
          ],
          "name": "stdout"
        }
      ]
    },
    {
      "cell_type": "code",
      "metadata": {
        "id": "tuR0ygs7vXJk",
        "outputId": "2be79ff4-f601-42ce-b840-25e3c03247b5",
        "colab": {
          "base_uri": "https://localhost:8080/",
          "height": 279
        }
      },
      "source": [
        "import numpy as np\n",
        "import matplotlib.pyplot as plt\n",
        "from função_gamma import gamma\n",
        "# Beta varia entre valores de 0 até 1.\n",
        "beta = np.arange(0,0.996,0.001)               # O intervalo inclui o ponto inicial (0) e exclui o ponto final(0.996)\n",
        "\n",
        "gamma = gamma(beta)\n",
        "\n",
        "gamma_beta = gama*beta\n",
        "\n",
        "#print(gamma_beta)\n",
        "\n",
        "plt.plot(gamma_beta,beta,'blue')\n",
        "plt.xlabel('β')\n",
        "plt.ylabel('γβ')\n",
        "plt.show()\n",
        "\n"
      ],
      "execution_count": 54,
      "outputs": [
        {
          "output_type": "display_data",
          "data": {
            "image/png": "[encoded data removed]",
            "text/plain": [
              "<Figure size 432x288 with 1 Axes>"
            ]
          },
          "metadata": {
            "tags": [],
            "needs_background": "light"
          }
        }
      ]
    },
    {
      "cell_type": "code",
      "metadata": {
        "id": "2gmV0QQXqVTJ"
      },
      "source": [
        ""
      ],
      "execution_count": null,
      "outputs": []
    },
    {
      "cell_type": "code",
      "metadata": {
        "id": "_HGDTHMyqVJG"
      },
      "source": [
        ""
      ],
      "execution_count": null,
      "outputs": []
    },
    {
      "cell_type": "code",
      "metadata": {
        "id": "5yca0hqcpUKB"
      },
      "source": [
        "import math\n",
        "import numpy as np\n",
        "import matplotlib.pyplot as plt\n",
        "quad = lambda x: x*x\n",
        "raiz = lambda x: math.sqrt(x)\n",
        " "
      ],
      "execution_count": 3,
      "outputs": []
    },
    {
      "cell_type": "code",
      "metadata": {
        "id": "yCZtrjuCpMzi",
        "outputId": "3693a028-b022-4702-a1a9-f6bb4e13d240",
        "colab": {
          "base_uri": "https://localhost:8080/"
        }
      },
      "source": [
        "\"\"\"(1) Escreva uma fun¸c~ao em Python chamada def gamma (beta): que tenha como argumento β e retorna γ. Teste-o para um valor de β, como por exemplo, 0,6.\"\"\"\n",
        "def gamma(beta):\n",
        "    gamma = 1 / raiz(1 - quad(beta))\n",
        "    return gamma\n",
        " \n",
        "print(f'Com Beta = 0.6 temos Gamma = {gamma(0.6)}.\\n')"
      ],
      "execution_count": 4,
      "outputs": [
        {
          "output_type": "stream",
          "text": [
            "Com Beta = 0.6 temos Gamma = 1.25.\n",
            "\n"
          ],
          "name": "stdout"
        }
      ]
    },
    {
      "cell_type": "code",
      "metadata": {
        "id": "qy3eTBuzpBx1",
        "outputId": "936554d6-3de0-4d7c-d9db-ed88e90962ba",
        "colab": {
          "base_uri": "https://localhost:8080/"
        }
      },
      "source": [
        "\"\"\"(2) Certifique-se de que sua fun¸c~ao gama (beta) pode aceitar um vetor de β e retornar um vetor compat´ıvel de γ.\"\"\"\n",
        "beta = [x/1000 for x in range(1,996)]\n",
        "gama = []\n",
        " \n",
        "for b in beta:\n",
        "    gama.append(gamma(b))\n",
        " \n",
        "print(beta)\n",
        "print(gama)\n",
        "\n"
      ],
      "execution_count": 8,
      "outputs": [
        {
          "output_type": "stream",
          "text": [
            "[0.001, 0.002, 0.003, 0.004, 0.005, 0.006, 0.007, 0.008, 0.009, 0.01, 0.011, 0.012, 0.013, 0.014, 0.015, 0.016, 0.017, 0.018, 0.019, 0.02, 0.021, 0.022, 0.023, 0.024, 0.025, 0.026, 0.027, 0.028, 0.029, 0.03, 0.031, 0.032, 0.033, 0.034, 0.035, 0.036, 0.037, 0.038, 0.039, 0.04, 0.041, 0.042, 0.043, 0.044, 0.045, 0.046, 0.047, 0.048, 0.049, 0.05, 0.051, 0.052, 0.053, 0.054, 0.055, 0.056, 0.057, 0.058, 0.059, 0.06, 0.061, 0.062, 0.063, 0.064, 0.065, 0.066, 0.067, 0.068, 0.069, 0.07, 0.071, 0.072, 0.073, 0.074, 0.075, 0.076, 0.077, 0.078, 0.079, 0.08, 0.081, 0.082, 0.083, 0.084, 0.085, 0.086, 0.087, 0.088, 0.089, 0.09, 0.091, 0.092, 0.093, 0.094, 0.095, 0.096, 0.097, 0.098, 0.099, 0.1, 0.101, 0.102, 0.103, 0.104, 0.105, 0.106, 0.107, 0.108, 0.109, 0.11, 0.111, 0.112, 0.113, 0.114, 0.115, 0.116, 0.117, 0.118, 0.119, 0.12, 0.121, 0.122, 0.123, 0.124, 0.125, 0.126, 0.127, 0.128, 0.129, 0.13, 0.131, 0.132, 0.133, 0.134, 0.135, 0.136, 0.137, 0.138, 0.139, 0.14, 0.141, 0.142, 0.143, 0.144, 0.145, 0.146, 0.147, 0.148, 0.149, 0.15, 0.151, 0.152, 0.153, 0.154, 0.155, 0.156, 0.157, 0.158, 0.159, 0.16, 0.161, 0.162, 0.163, 0.164, 0.165, 0.166, 0.167, 0.168, 0.169, 0.17, 0.171, 0.172, 0.173, 0.174, 0.175, 0.176, 0.177, 0.178, 0.179, 0.18, 0.181, 0.182, 0.183, 0.184, 0.185, 0.186, 0.187, 0.188, 0.189, 0.19, 0.191, 0.192, 0.193, 0.194, 0.195, 0.196, 0.197, 0.198, 0.199, 0.2, 0.201, 0.202, 0.203, 0.204, 0.205, 0.206, 0.207, 0.208, 0.209, 0.21, 0.211, 0.212, 0.213, 0.214, 0.215, 0.216, 0.217, 0.218, 0.219, 0.22, 0.221, 0.222, 0.223, 0.224, 0.225, 0.226, 0.227, 0.228, 0.229, 0.23, 0.231, 0.232, 0.233, 0.234, 0.235, 0.236, 0.237, 0.238, 0.239, 0.24, 0.241, 0.242, 0.243, 0.244, 0.245, 0.246, 0.247, 0.248, 0.249, 0.25, 0.251, 0.252, 0.253, 0.254, 0.255, 0.256, 0.257, 0.258, 0.259, 0.26, 0.261, 0.262, 0.263, 0.264, 0.265, 0.266, 0.267, 0.268, 0.269, 0.27, 0.271, 0.272, 0.273, 0.274, 0.275, 0.276, 0.277, 0.278, 0.279, 0.28, 0.281, 0.282, 0.283, 0.284, 0.285, 0.286, 0.287, 0.288, 0.289, 0.29, 0.291, 0.292, 0.293, 0.294, 0.295, 0.296, 0.297, 0.298, 0.299, 0.3, 0.301, 0.302, 0.303, 0.304, 0.305, 0.306, 0.307, 0.308, 0.309, 0.31, 0.311, 0.312, 0.313, 0.314, 0.315, 0.316, 0.317, 0.318, 0.319, 0.32, 0.321, 0.322, 0.323, 0.324, 0.325, 0.326, 0.327, 0.328, 0.329, 0.33, 0.331, 0.332, 0.333, 0.334, 0.335, 0.336, 0.337, 0.338, 0.339, 0.34, 0.341, 0.342, 0.343, 0.344, 0.345, 0.346, 0.347, 0.348, 0.349, 0.35, 0.351, 0.352, 0.353, 0.354, 0.355, 0.356, 0.357, 0.358, 0.359, 0.36, 0.361, 0.362, 0.363, 0.364, 0.365, 0.366, 0.367, 0.368, 0.369, 0.37, 0.371, 0.372, 0.373, 0.374, 0.375, 0.376, 0.377, 0.378, 0.379, 0.38, 0.381, 0.382, 0.383, 0.384, 0.385, 0.386, 0.387, 0.388, 0.389, 0.39, 0.391, 0.392, 0.393, 0.394, 0.395, 0.396, 0.397, 0.398, 0.399, 0.4, 0.401, 0.402, 0.403, 0.404, 0.405, 0.406, 0.407, 0.408, 0.409, 0.41, 0.411, 0.412, 0.413, 0.414, 0.415, 0.416, 0.417, 0.418, 0.419, 0.42, 0.421, 0.422, 0.423, 0.424, 0.425, 0.426, 0.427, 0.428, 0.429, 0.43, 0.431, 0.432, 0.433, 0.434, 0.435, 0.436, 0.437, 0.438, 0.439, 0.44, 0.441, 0.442, 0.443, 0.444, 0.445, 0.446, 0.447, 0.448, 0.449, 0.45, 0.451, 0.452, 0.453, 0.454, 0.455, 0.456, 0.457, 0.458, 0.459, 0.46, 0.461, 0.462, 0.463, 0.464, 0.465, 0.466, 0.467, 0.468, 0.469, 0.47, 0.471, 0.472, 0.473, 0.474, 0.475, 0.476, 0.477, 0.478, 0.479, 0.48, 0.481, 0.482, 0.483, 0.484, 0.485, 0.486, 0.487, 0.488, 0.489, 0.49, 0.491, 0.492, 0.493, 0.494, 0.495, 0.496, 0.497, 0.498, 0.499, 0.5, 0.501, 0.502, 0.503, 0.504, 0.505, 0.506, 0.507, 0.508, 0.509, 0.51, 0.511, 0.512, 0.513, 0.514, 0.515, 0.516, 0.517, 0.518, 0.519, 0.52, 0.521, 0.522, 0.523, 0.524, 0.525, 0.526, 0.527, 0.528, 0.529, 0.53, 0.531, 0.532, 0.533, 0.534, 0.535, 0.536, 0.537, 0.538, 0.539, 0.54, 0.541, 0.542, 0.543, 0.544, 0.545, 0.546, 0.547, 0.548, 0.549, 0.55, 0.551, 0.552, 0.553, 0.554, 0.555, 0.556, 0.557, 0.558, 0.559, 0.56, 0.561, 0.562, 0.563, 0.564, 0.565, 0.566, 0.567, 0.568, 0.569, 0.57, 0.571, 0.572, 0.573, 0.574, 0.575, 0.576, 0.577, 0.578, 0.579, 0.58, 0.581, 0.582, 0.583, 0.584, 0.585, 0.586, 0.587, 0.588, 0.589, 0.59, 0.591, 0.592, 0.593, 0.594, 0.595, 0.596, 0.597, 0.598, 0.599, 0.6, 0.601, 0.602, 0.603, 0.604, 0.605, 0.606, 0.607, 0.608, 0.609, 0.61, 0.611, 0.612, 0.613, 0.614, 0.615, 0.616, 0.617, 0.618, 0.619, 0.62, 0.621, 0.622, 0.623, 0.624, 0.625, 0.626, 0.627, 0.628, 0.629, 0.63, 0.631, 0.632, 0.633, 0.634, 0.635, 0.636, 0.637, 0.638, 0.639, 0.64, 0.641, 0.642, 0.643, 0.644, 0.645, 0.646, 0.647, 0.648, 0.649, 0.65, 0.651, 0.652, 0.653, 0.654, 0.655, 0.656, 0.657, 0.658, 0.659, 0.66, 0.661, 0.662, 0.663, 0.664, 0.665, 0.666, 0.667, 0.668, 0.669, 0.67, 0.671, 0.672, 0.673, 0.674, 0.675, 0.676, 0.677, 0.678, 0.679, 0.68, 0.681, 0.682, 0.683, 0.684, 0.685, 0.686, 0.687, 0.688, 0.689, 0.69, 0.691, 0.692, 0.693, 0.694, 0.695, 0.696, 0.697, 0.698, 0.699, 0.7, 0.701, 0.702, 0.703, 0.704, 0.705, 0.706, 0.707, 0.708, 0.709, 0.71, 0.711, 0.712, 0.713, 0.714, 0.715, 0.716, 0.717, 0.718, 0.719, 0.72, 0.721, 0.722, 0.723, 0.724, 0.725, 0.726, 0.727, 0.728, 0.729, 0.73, 0.731, 0.732, 0.733, 0.734, 0.735, 0.736, 0.737, 0.738, 0.739, 0.74, 0.741, 0.742, 0.743, 0.744, 0.745, 0.746, 0.747, 0.748, 0.749, 0.75, 0.751, 0.752, 0.753, 0.754, 0.755, 0.756, 0.757, 0.758, 0.759, 0.76, 0.761, 0.762, 0.763, 0.764, 0.765, 0.766, 0.767, 0.768, 0.769, 0.77, 0.771, 0.772, 0.773, 0.774, 0.775, 0.776, 0.777, 0.778, 0.779, 0.78, 0.781, 0.782, 0.783, 0.784, 0.785, 0.786, 0.787, 0.788, 0.789, 0.79, 0.791, 0.792, 0.793, 0.794, 0.795, 0.796, 0.797, 0.798, 0.799, 0.8, 0.801, 0.802, 0.803, 0.804, 0.805, 0.806, 0.807, 0.808, 0.809, 0.81, 0.811, 0.812, 0.813, 0.814, 0.815, 0.816, 0.817, 0.818, 0.819, 0.82, 0.821, 0.822, 0.823, 0.824, 0.825, 0.826, 0.827, 0.828, 0.829, 0.83, 0.831, 0.832, 0.833, 0.834, 0.835, 0.836, 0.837, 0.838, 0.839, 0.84, 0.841, 0.842, 0.843, 0.844, 0.845, 0.846, 0.847, 0.848, 0.849, 0.85, 0.851, 0.852, 0.853, 0.854, 0.855, 0.856, 0.857, 0.858, 0.859, 0.86, 0.861, 0.862, 0.863, 0.864, 0.865, 0.866, 0.867, 0.868, 0.869, 0.87, 0.871, 0.872, 0.873, 0.874, 0.875, 0.876, 0.877, 0.878, 0.879, 0.88, 0.881, 0.882, 0.883, 0.884, 0.885, 0.886, 0.887, 0.888, 0.889, 0.89, 0.891, 0.892, 0.893, 0.894, 0.895, 0.896, 0.897, 0.898, 0.899, 0.9, 0.901, 0.902, 0.903, 0.904, 0.905, 0.906, 0.907, 0.908, 0.909, 0.91, 0.911, 0.912, 0.913, 0.914, 0.915, 0.916, 0.917, 0.918, 0.919, 0.92, 0.921, 0.922, 0.923, 0.924, 0.925, 0.926, 0.927, 0.928, 0.929, 0.93, 0.931, 0.932, 0.933, 0.934, 0.935, 0.936, 0.937, 0.938, 0.939, 0.94, 0.941, 0.942, 0.943, 0.944, 0.945, 0.946, 0.947, 0.948, 0.949, 0.95, 0.951, 0.952, 0.953, 0.954, 0.955, 0.956, 0.957, 0.958, 0.959, 0.96, 0.961, 0.962, 0.963, 0.964, 0.965, 0.966, 0.967, 0.968, 0.969, 0.97, 0.971, 0.972, 0.973, 0.974, 0.975, 0.976, 0.977, 0.978, 0.979, 0.98, 0.981, 0.982, 0.983, 0.984, 0.985, 0.986, 0.987, 0.988, 0.989, 0.99, 0.991, 0.992, 0.993, 0.994, 0.995]\n",
            "[1.000000500000375, 1.000002000006, 1.0000045000303752, 1.0000080000960012, 1.0000125002343798, 1.0000180004860146, 1.0000245009004118, 1.000032001536082, 1.000040502460541, 1.0000500037503126, 1.0000605054909286, 1.0000720077769332, 1.0000845107118836, 1.0000980144083533, 1.0001125189879352, 1.000128024581244, 1.0001445313279198, 1.0001620393766317, 1.0001805488850815, 1.000200060020007, 1.0002205729571874, 1.0002420878814462, 1.0002646049866577, 1.0002881244757498, 1.0003126465607106, 1.0003381714625934, 1.0003646994115212, 1.0003922306466941, 1.0004207654163941, 1.000450303977992, 1.0004808465979533, 1.0005123935518452, 1.0005449451243438, 1.0005785016092401, 1.0006130633094494, 1.0006486305370168, 1.0006852036131262, 1.000722782868108, 1.0007613686414478, 1.0008009612817945, 1.0008415611469692, 1.0008831686039743, 1.0009257840290022, 1.000969407807446, 1.001014040333908, 1.00105968201221, 1.0011063332554038, 1.0011539944857808, 1.001202666134884, 1.0012523486435176, 1.001303042461759, 1.001354748048969, 1.001407465873805, 1.001461196414232, 1.0015159401575338, 1.001571697600327, 1.001628469248573, 1.00168625561759, 1.001745057232067, 1.0018048746260764, 1.0018657083430882, 1.0019275589359833, 1.0019904269670679, 1.002054313008087, 1.0021192176402405, 1.0021851414541956, 1.002252085050104, 1.0023200490376163, 1.0023890340358974, 1.002459040673642, 1.0025300695890917, 1.0026021214300502, 1.0026751968539, 1.0027492965276197, 1.0028244211278003, 1.0029005713406636, 1.0029777478620783, 1.0030559513975787, 1.0031351826623829, 1.00321544238141, 1.0032967312893004, 1.0033790501304332, 1.0034623996589456, 1.0035467806387528, 1.0036321938435673, 1.0037186400569182, 1.0038061200721728, 1.0038946346925555, 1.0039841847311692, 1.0040747710110163, 1.0041663943650196, 1.0042590556360445, 1.0043527556769196, 1.0044474953504599, 1.0045432755294885, 1.0046400970968594, 1.0047379609454803, 1.0048368679783355, 1.0049368191085097, 1.005037815259212, 1.005139857363799, 1.0052429463657997, 1.00534708321894, 1.005452268887167, 1.0055585043446753, 1.0056657905759312, 1.0057741285756991, 1.0058835193490674, 1.005993963911474, 1.0061054632887345, 1.0062180185170677, 1.0063316306431231, 1.0064463007240088, 1.0065620298273186, 1.0066788190311604, 1.0067966694241852, 1.0069155821056146, 1.0070355581852704, 1.0071565987836038, 1.0072787050317253, 1.0074018780714342, 1.0075261190552485, 1.0076514291464365, 1.0077778095190468, 1.0079052613579393, 1.0080337858588173, 1.0081633842282594, 1.0082940576837502, 1.008425807453715, 1.0085586347775501, 1.0086925409056582, 1.00882752709948, 1.008963594631529, 1.009100744785425, 1.009238978855929, 1.0093782981489776, 1.009518703981718, 1.0096601976825437, 1.0098027805911303, 1.009946454058471, 1.0100912194469143, 1.0102370781301988, 1.0103840314934929, 1.0105320809334295, 1.0106812278581463, 1.0108314736873227, 1.0109828198522186, 1.0111352677957128, 1.0112888189723437, 1.0114434748483472, 1.0115992369016984, 1.01175610662215, 1.0119140855112756, 1.012073175082508, 1.012233376861183, 1.0123946923845797, 1.0125571232019637, 1.0127206708746292, 1.0128853369759425, 1.0130511230913848, 1.013218030818596, 1.0133860617674202, 1.0135552175599478, 1.0137254998305631, 1.0138969102259874, 1.0140694504053267, 1.0142431220401162, 1.014417926814368, 1.0145938664246177, 1.0147709425799718, 1.0149491570021552, 1.01512851142556, 1.0153090075972937, 1.0154906472772287, 1.0156734322380512, 1.0158573642653113, 1.0160424451574737, 1.0162286767259683, 1.0164160607952408, 1.0166045992028059, 1.0167942937992975, 1.0169851464485224, 1.0171771590275132, 1.0173703334265811, 1.0175646715493711, 1.0177601753129148, 1.017956846647686, 1.0181546874976564, 1.0183536998203502, 1.0185538855869014, 1.01875524678211, 1.0189577854044989, 1.0191615034663726, 1.0193664029938736, 1.0195724860270428, 1.0197797546198777, 1.0199882108403917, 1.0201978567706753, 1.0204086945069555, 1.0206207261596576, 1.0208339538534665, 1.0210483797273895, 1.0212640059348177, 1.0214808346435904, 1.0216988680360581, 1.0219181083091469, 1.0221385576744233, 1.0223602183581593, 1.0225830926013983, 1.0228071826600218, 1.0230324908048154, 1.0232590193215374, 1.0234867705109862, 1.0237157466890685, 1.0239459501868697, 1.0241773833507222, 1.0244100485422762, 1.024643948138571, 1.0248790845321056, 1.025115460130912, 1.0253530773586261, 1.0255919386545624, 1.025832046473787, 1.0260734032871919, 1.0263160115815708, 1.0265598738596944, 1.0268049926403857, 1.0270513704585984, 1.0272990098654935, 1.0275479134285173, 1.027798083731481, 1.028049523374639, 1.02830223497477, 1.0285562211652568, 1.0288114845961682, 1.0290680279343414, 1.0293258538634633, 1.0295849650841555, 1.0298453643140577, 1.0301070542879114, 1.0303700377576475, 1.0306343174924701, 1.030899896278945, 1.0311667769210866, 1.031434962240446, 1.0317044550762, 1.0319752582852408, 1.032247374742267, 1.0325208073398735, 1.0327955589886446, 1.0330716326172455, 1.033349031172517, 1.0336277576195687, 1.033907814941874, 1.0341892061413653, 1.0344719342385325, 1.0347560022725173, 1.0350414133012138, 1.0353281704013657, 1.0356162766686667, 1.0359057352178607, 1.036196549182843, 1.0364887217167629, 1.0367822559921254, 1.0370771552008968, 1.0373734225546074, 1.0376710612844586, 1.037970074641428, 1.0382704658963773, 1.0385722383401599, 1.0388753952837304, 1.039179940058254, 1.0394858760152172, 1.0397932065265398, 1.0401019349846876, 1.0404120648027848, 1.04072359941473, 1.0410365422753098, 1.0413508968603173, 1.0416666666666667, 1.0419838552125138, 1.0423024660373736, 1.042622502702242, 1.042943968789715, 1.043266867904113, 1.0435912036716022, 1.0439169797403192, 1.0442441997804972, 1.044572867484591, 1.0449029865674049, 1.0452345607662203, 1.0455675938409263, 1.0459020895741493, 1.0462380517713843, 1.046575484261128, 1.0469143908950127, 1.0472547755479402, 1.0475966421182195, 1.047939994527701, 1.0482848367219182, 1.048631172670224, 1.048979006365933, 1.0493283418264627, 1.049679183093476, 1.0500315342330258, 1.0503853993357, 1.050740782516768, 1.0510976879163287, 1.0514561196994587, 1.051816082056363, 1.052177579202526, 1.0525406153788657, 1.0529051948518855, 1.0532713219138305, 1.0536390008828447, 1.054008236103128, 1.0543790319450959, 1.0547513928055394, 1.0551253231077882, 1.0555008273018727, 1.0558779098646895, 1.0562565753001671, 1.0566368281394338, 1.057018672940986, 1.0574021142908587, 1.0577871568027981, 1.058173805118433, 1.058562063907452, 1.0589519378677776, 1.0593434317257449, 1.0597365502362808, 1.0601312981830842, 1.0605276803788093, 1.0609257016652482, 1.0613253669135176, 1.0617266810242452, 1.0621296489277579, 1.0625342755842733, 1.0629405659840903, 1.0633485251477837, 1.0637581581263986, 1.0641694700016477, 1.0645824658861107, 1.0649971509234328, 1.0654135302885284, 1.0658316091877842, 1.0662513928592654, 1.066672886572922, 1.067096095630799, 1.0675210253672476, 1.0679476811491364, 1.0683760683760684, 1.0688061924805958, 1.0692380589284394, 1.069671673218709, 1.0701070408841253, 1.0705441674912446, 1.0709830586406848, 1.071423719967354, 1.0718661571406802, 1.072310375864845, 1.0727563818790156, 1.073204180957584, 1.073653778910404, 1.074105181583031, 1.0745583948569672, 1.0750134246499048, 1.0754702769159736, 1.0759289576459905, 1.076389472867711, 1.0768518286460829, 1.077316031083503, 1.0777820863200744, 1.0782500005338684, 1.0787197799411874, 1.079191430796829, 1.0796649593943561, 1.0801403720663652, 1.0806176751847598, 1.0810968751610264, 1.081577978446511, 1.082060991532699, 1.0825459209515005, 1.083032773275532, 1.0835215551184068, 1.084012273135025, 1.0845049340218664, 1.0849995445172869, 1.085496111401816, 1.0859946414984598, 1.0864951416730038, 1.0869976188343202, 1.087502079934678, 1.088008531970055, 1.088516981980454, 1.0890274370502204, 1.0895399043083644, 1.090054390928885, 1.090570904131097, 1.091089451179962, 1.0916100393864219, 1.0921326761077352, 1.0926573687478172, 1.093184124757582, 1.09371295163529, 1.0942438569268964, 1.0947768482264044, 1.095311933176221, 1.095849119467517, 1.0963884148405885, 1.0969298270852241, 1.0974733640410752, 1.0980190335980275, 1.09856684369658, 1.0991168023282232, 1.0996689175358245, 1.1002231974140155, 1.1007796501095832, 1.1013382838218655, 1.1018991068031498, 1.102462127359076, 1.1030273538490432, 1.1035947946866196, 1.1041644583399584, 1.104736353332215, 1.1053104882419704, 1.1058868717036578, 1.1064655124079932, 1.1070464191024108, 1.1076296005915018, 1.108215065737459, 1.1088028234605238, 1.1093928827394386, 1.1099852526119045, 1.1105799421750413, 1.1111769605858548, 1.1117763170617054, 1.1123780208807852, 1.112982081382596, 1.113588507968435, 1.1141973101018838, 1.1148084973093024, 1.1154220791803289, 1.1160380653683828, 1.1166564655911753, 1.1172772896312224, 1.1179005473363657, 1.1185262486202951, 1.1191544034630811, 1.1197850219117085, 1.1204181140806175, 1.1210536901522503, 1.1216917603776018, 1.1223323350767782, 1.1229754246395596, 1.123621039525968, 1.1242691902668427, 1.1249198874644204, 1.1255731417929216, 1.1262289639991432, 1.1268873649030566, 1.1275483553984125, 1.1282119464533522, 1.128878149111024, 1.1295469744902076, 1.1302184337859438, 1.1308925382701709, 1.1315692992923687, 1.1322487282802076, 1.1329308367402058, 1.1336156362583931, 1.1343031385009807, 1.1349933552150402, 1.1356862982291867, 1.1363819794542722, 1.1370804108840844, 1.137781604596053, 1.1384855727519643, 1.1391923275986835, 1.139901881468883, 1.1406142467817804, 1.141329436043884, 1.1420474618497443, 1.1427683368827175, 1.1434920739157328, 1.144218685812071, 1.144948185526151, 1.1456805861043227, 1.1464159006856713, 1.1471541425028298, 1.1478953248827977, 1.1486394612477722, 1.149386565115986, 1.1501366501025554, 1.1508897299203373, 1.151645818380796, 1.1524049293948784, 1.1531670769739002, 1.1539322752304413, 1.1547005383792515, 1.1554718807381648, 1.1562463167290256, 1.1570238608786247, 1.1578045278196447, 1.158588332291618, 1.1593752891418927, 1.1601654133266128, 1.160958719911706, 1.161755224073884, 1.1625549411016562, 1.1633578863963512, 1.1641640754731513, 1.16497352396214, 1.1657862476093601, 1.1666022622778838, 1.1674215839488957, 1.1682442287227874, 1.169070212820266, 1.1698995525834726, 1.1707322644771174, 1.1715683650896254, 1.1724078711342945, 1.1732507994504706, 1.1740971670047327, 1.1749469908920933, 1.1758002883372132, 1.1766570766956292, 1.1775173734549982, 1.1783811962363526, 1.179248562795375, 1.180119491023683, 1.1809939989501324, 1.1818721047421354, 1.1827538267069932, 1.183639183293246, 1.1845281930920366, 1.1854208748384933, 1.1863172474131276, 1.1872173298432485, 1.1881211413043937, 1.1890287011217802, 1.1899400287717687, 1.190855143883349, 1.1917740662396406, 1.1926968157794147, 1.193623412598631, 1.1945538769519963, 1.1954882292545415, 1.1964264900832144, 1.1973686801784993, 1.198314820446048, 1.199264931958338, 1.2002190359563458, 1.2011771538512455, 1.2021393072261244, 1.2031055178377232, 1.2040758076181952, 1.2050501986768898, 1.2060287133021554, 1.207011373963169, 1.2079982033117844, 1.208989224184407, 1.20998445960389, 1.2109839327814569, 1.211987667118645, 1.2129956862092777, 1.2140080138414586, 1.2150246739995922, 1.2160456908664317, 1.2170710888251501, 1.2181008924614416, 1.2191351265656465, 1.2201738161349063, 1.2212169863753457, 1.2222646627042817, 1.2233168707524633, 1.2243736363663396, 1.2254349856103572, 1.226500944769289, 1.227571540350591, 1.2286467990867924, 1.2297267479379177, 1.2308114140939375, 1.2319008249772554, 1.2329950082452261, 1.2340939917927067, 1.2351978037546436, 1.236306472508693, 1.2374200266778754, 1.238538495133269, 1.2396619069967358, 1.2407902916436866, 1.241923678705884, 1.2430620980742804, 1.2442055799018985, 1.245354154606748, 1.2465078528747842, 1.247666705662906, 1.2488307442019957, 1.25, 1.2511745048450542, 1.2523542908086498, 1.2535393902488452, 1.2547298358135215, 1.2559256604436846, 1.2571268973768117, 1.2583335801502462, 1.2595457426046397, 1.2607634188874428, 1.2619866434564442, 1.2632154510833618, 1.2644498768574832, 1.2656899561893586, 1.266935724814546, 1.2681872187974113, 1.2694444745349804, 1.2707075287608505, 1.2719764185491524, 1.2732511813185774, 1.2745318548364544, 1.2758184772228922, 1.2771110869549809, 1.2784097228710525, 1.2797144241750062, 1.281025230440697, 1.2823421816163871, 1.2836653180292659, 1.2849946803900332, 1.2863303097975556, 1.2876722477435865, 1.2890205361175606, 1.2903752172114593, 1.2917363337247472, 1.293103928769385, 1.294478045874918, 1.2958587289936407, 1.297246022505839, 1.298639971225114, 1.3000406204037867, 1.3014480157383839, 1.3028622033752097, 1.304283229916002, 1.305711142423677, 1.307145988428161, 1.3085878159323154, 1.3100366734179496, 1.3114926098519333, 1.3129556746923992, 1.3144259178950453, 1.315903389919538, 1.3173881417360127, 1.3188802248316793, 1.3203796912175334, 1.3218865934351713, 1.323400984563718, 1.3249229182268611, 1.3264524486000022, 1.3279896304175203, 1.3295345189801548, 1.331087170162505, 1.3326476404206562, 1.3342159867999237, 1.3357922669427291, 1.337376539096603, 1.3389688621223186, 1.3405692955021609, 1.3421778993483324, 1.3437947344114969, 1.3454198620894666, 1.3470533444360344, 1.3486952441699531, 1.3503456246840644, 1.3520045500545854, 1.3536720850505466, 1.3553482951433944, 1.3570332465167543, 1.3587270060763603, 1.3604296414601564, 1.362141221048568, 1.3638618139749525, 1.36559149013623, 1.3673303202036968, 1.3690783756340275, 1.3708357286804682, 1.3726024524042268, 1.374378620686061, 1.3761643082380712, 1.3779595906157007, 1.3797645442299504, 1.381579246359807, 1.3834037751648947, 1.3852382096983542, 1.387082629919949, 1.388937116709411, 1.3908017518800244, 1.3926766181924575, 1.3945617993688442, 1.3964573801071234, 1.398363446095639, 1.4002800840280099, 1.4022073816182712, 1.404145427616298, 1.4060943118235116, 1.4080541251088814, 1.4100249594252214, 1.4120069078257955, 1.4140000644812325, 1.4160045246967592, 1.418020384929763, 1.4200477428076832, 1.4220866971462465, 1.4241373479680484, 1.4261997965214939, 1.4282741453000989, 1.430360498062168, 1.4324589598508508, 1.4345696370145888, 1.4366926372279638, 1.4388280695129498, 1.4409760442605875, 1.4431366732530826, 1.445310069686344, 1.447496348192968, 1.4496956248656816, 1.4519080172812555, 1.4541336445248947, 1.4563726272151245, 1.4586250875291769, 1.4608911492288934, 1.463170937687157, 1.4654645799148616, 1.4677722045884392, 1.470093942077951, 1.4724299244757615, 1.474780285625806, 1.477145161153472, 1.4795246884961006, 1.4819190069341313, 1.4843282576229035, 1.4867525836251314, 1.4891921299440651, 1.4916470435573632, 1.494117473451689, 1.4966035706580492, 1.4991054882878951, 1.5016233815700086, 1.5041574078881863, 1.5067077268197486, 1.5092745001748922, 1.511857892036909, 1.514458068803293, 1.5170751992277594, 1.5197094544631995, 1.5223610081055963, 1.525030036238925, 1.5277167174810684, 1.5304212330307683, 1.5331437667156471, 1.5358845050413248, 1.5386436372416592, 1.5414213553301466, 1.5442178541525078, 1.5470333314404943, 1.5498679878669508, 1.5527220271021644, 1.55559565587154, 1.5584890840146344, 1.561402524545595, 1.564336193715032, 1.5672903110733747, 1.5702650995357468, 1.573260785448408, 1.5762775986568043, 1.5793157725752769, 1.5823755442584713, 1.5854571544745033, 1.588560847779928, 1.5916868725965652, 1.594835481290239, 1.5980069302514828, 1.6012014799782743, 1.604419395160855, 1.6076609447687007, 1.6109264021397065, 1.6142160450716516, 1.6175301559160171, 1.620869021674223, 1.6242329340963642, 1.6276221897825185, 1.6310370902867075, 1.6344779422235935, 1.6379450573779974, 1.6414387528173247, 1.6449593510069935, 1.648507179928959, 1.6520825732034328, 1.655685870213898, 1.6593174162355295, 1.6629775625671255, 1.666666666666667, 1.6703850922906234, 1.6741332096371264, 1.677911395493139, 1.6817200333857543, 1.6855595137377595, 1.6894302340276102, 1.6933325989539594, 1.6972670206049016, 1.7012339186320846, 1.7052337204298635, 1.7092668613196633, 1.713333784739734, 1.7174349424404856, 1.721570794685595, 1.725741810459089, 1.7299484676786172, 1.73419125341513, 1.7384706641191912, 1.7427872058541658, 1.7471413945365302, 1.7515337561835607, 1.7559648271686723, 1.7604351544846875, 1.764945296015328, 1.7694958208152352, 1.7740873093988336, 1.7787203540383785, 1.7833955590715214, 1.7881135412187676, 1.7928749299111977, 1.7976803676288424, 1.8025305102501359, 1.8074260274128657, 1.812367602887074, 1.817355934960383, 1.8223917368362308, 1.8274757370455381, 1.8326086798723393, 1.8377913257939429, 1.8430244519362138, 1.848308852544588, 1.8536453394714743, 1.8590347426807152, 1.8644779107698206, 1.8699757115107143, 1.8755290324097804, 1.8811387812880214, 1.8868058868821924, 1.8925312994678123, 1.8983159915049976, 1.9041609583081127, 1.910067218740283, 1.9160358159338717, 1.9220678180380684, 1.9281643189948066, 1.93432643934429, 1.9405553270614682, 1.946852158424875, 1.9532181389193293, 1.959654504174051, 1.966162520937869, 1.9727434880932406, 1.9793987377109472, 1.9861296361473821, 1.9929375851865037, 1.999824023228593, 2.0067904265281236, 2.013838310483138, 2.020969230978696, 2.028184785787092, 2.0354866160276908, 2.0428764076894166, 2.050355893219088, 2.057926853178991, 2.0655911179772892, 2.073350569675083, 2.081207143874161, 2.08916283168973, 2.09721968181269, 2.105379802666297, 2.113645364662352, 2.122018602562393, 2.130501817949721, 2.139097381818452, 2.1478077372861946, 2.156635402437404, 2.165582973304901, 2.174653126997566, 2.183848624982756, 2.1931723165325634, 2.2026271423436734, 2.2122161383412458, 2.221942439677981, 2.231809284940315, 2.2418200205745387, 2.251978105546563, 2.262287116250037, 2.2727507516786285, 2.283372838879413, 2.294157338705618, 2.3051083518883324, 2.3162301254482913, 2.3275270594704685, 2.3390037142659996, 2.35066481794787, 2.3625152744489126, 2.374560172012963, 2.3868047921925206, 2.39925461938901, 2.411915350974739, 2.4247929080389246, 2.437893446803779, 2.451223370760588, 2.464789343580056, 2.4785983028559913, 2.492657474746617, 2.506974389583657, 2.521556898525662, 2.536413191339183, 2.551551815399144, 2.5669816960084684, 2.5827121581465673, 2.598752949766967, 2.61511426677618, 2.6318067798390765, 2.64884166317073, 2.666230625491039, 2.6839859433367956, 2.7021204969463115, 2.720647808954717, 2.739582086163844, 2.7589382646795926, 2.7787320587423774, 2.7989800136130962, 2.8196995629187587, 2.840909090909092, 2.862628000128954, 2.884876785072243, 2.9076771124522933, 2.931051908802745, 2.9550254562133755, 2.9796234971089204, 3.0048733490978927, 3.0308040310554487, 3.0574464017623346, 3.084833312604795, 3.1129997760523587, 3.1419831518768913, 3.171823353363724, 3.2025630761017423, 3.2342480523332746, 3.2669273343082272, 3.300653610633667, 3.3354835602575696, 3.37147824949449, 3.4087035784177173, 3.4472307840396224, 3.48713700901973, 3.5285059462295574, 3.5714285714285707, 3.6160039786479725, 3.6623403357420727, 3.7105559810836257, 3.7607806867210325, 3.813157118703992, 3.8678425320109047, 3.9250107459581915, 3.9848544566458632, 4.047587956572464, 4.113450348948634, 4.182709366692231, 4.25566593530122, 4.3326596571308995, 4.414075445351327, 4.500351603704093, 4.591989739816531, 4.689567024995455, 4.793751486437703, 4.905321260070646, 5.025189076296055, 5.154433747036019, 5.294341149914963, 5.446458291700191, 5.612665688336716, 5.795275877997447, 5.997170003479986, 6.221991167877356, 6.474424740545884, 6.760615952623642, 7.088812050083354, 7.47038724839213, 7.921553131555958, 8.466371684601828, 9.142433242310485, 10.0125234864352]\n"
          ],
          "name": "stdout"
        }
      ]
    }
  ]
}