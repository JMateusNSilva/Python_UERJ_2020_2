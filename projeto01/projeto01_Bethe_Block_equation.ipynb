{
  "nbformat": 4,
  "nbformat_minor": 0,
  "metadata": {
    "colab": {
      "name": "projeto01_Bethe-Block_equation.ipynb",
      "provenance": [],
      "authorship_tag": "ABX9TyMgwVda6e3bdf/beHG0JtCw",
      "include_colab_link": true
    },
    "kernelspec": {
      "name": "python3",
      "display_name": "Python 3"
    }
  },
  "cells": [
    {
      "cell_type": "markdown",
      "metadata": {
        "id": "view-in-github",
        "colab_type": "text"
      },
      "source": [
        "<a href=\"https://colab.research.google.com/github/JMateusNSilva/python_uerj_2020_2/blob/master/projeto01/projeto01_Bethe_Block_equation.ipynb\" target=\"_parent\"><img src=\"https://colab.research.google.com/assets/colab-badge.svg\" alt=\"Open In Colab\"/></a>"
      ]
    },
    {
      "cell_type": "markdown",
      "metadata": {
        "id": "OoEA7dJW3pBG"
      },
      "source": [
        "**Item 1** - Escreva uma função em Python chamada **def gamma(beta):** que tenha como argumento β e retorna γ. Teste-o para um valor de β, como por exemplo, 0,6."
      ]
    },
    {
      "cell_type": "code",
      "metadata": {
        "id": "YW8WxaHKYieD",
        "outputId": "86cd9ed5-1f65-44ca-99c3-5623b13c22c6",
        "colab": {
          "base_uri": "https://localhost:8080/"
        }
      },
      "source": [
        "def gamma(beta):\n",
        "    \"\"\"Calcula um valor de gamma quando inserido um valor para beta.\n",
        "    \"\"\"\n",
        "    gamma = (1-beta**2)**(-1/2)        # beta^2 = u^2/c^2 u-veloc. particula, c - veloc. luz.\n",
        "    return gamma\n",
        "\n",
        "gamma(0.6)\n"
      ],
      "execution_count": 53,
      "outputs": [
        {
          "output_type": "execute_result",
          "data": {
            "text/plain": [
              "1.25"
            ]
          },
          "metadata": {
            "tags": []
          },
          "execution_count": 53
        }
      ]
    },
    {
      "cell_type": "code",
      "metadata": {
        "id": "bvWqyGGd19ja",
        "outputId": "dfd5deea-5bc3-485d-8b05-1986631ebbc6",
        "colab": {
          "base_uri": "https://localhost:8080/"
        }
      },
      "source": [
        "%%writefile função_gamma.py\n",
        "def gamma(beta):\n",
        "    gamma = (1-beta**2)**(-1/2)        # beta^2 = u^2/c^2 u-veloc. particula, c - veloc. luz.\n",
        "    return gamma"
      ],
      "execution_count": 46,
      "outputs": [
        {
          "output_type": "stream",
          "text": [
            "Overwriting função_gamma.py\n"
          ],
          "name": "stdout"
        }
      ]
    },
    {
      "cell_type": "code",
      "metadata": {
        "id": "ZVZys9PY2PZr",
        "outputId": "a37aac74-f415-4216-a217-040390af9849",
        "colab": {
          "base_uri": "https://localhost:8080/"
        }
      },
      "source": [
        "%cat função_gamma.py\n",
        "\n"
      ],
      "execution_count": 48,
      "outputs": [
        {
          "output_type": "stream",
          "text": [
            "def gamma(beta):\n",
            "    gamma = (1-beta**2)**(-1/2)        # beta^2 = u^2/c^2 u-veloc. particula, c - veloc. luz.\n",
            "    return gamma"
          ],
          "name": "stdout"
        }
      ]
    },
    {
      "cell_type": "markdown",
      "metadata": {
        "id": "O7uQsizE4SBp"
      },
      "source": [
        "**Item 2** - Certifique-se que sua função gamma(beta) pode aceitar um vetor de β e retornar um vetor compatível de γ."
      ]
    },
    {
      "cell_type": "code",
      "metadata": {
        "id": "b_lgjOqchUO8",
        "outputId": "4c2c3590-1f53-42ce-decd-91462c0ae595",
        "colab": {
          "base_uri": "https://localhost:8080/"
        }
      },
      "source": [
        "import numpy as np\n",
        "from função_gamma import gamma\n",
        "# Beta varia entre valores de 0 até 1.\n",
        "beta = np.arange(0.0,1.0,0.001)\n",
        "#print(f'O valor de vetor beta é: \\n {beta}')\n",
        "print(f'O valor do vetor gamma é: \\n {gamma(beta)}')"
      ],
      "execution_count": 73,
      "outputs": [
        {
          "output_type": "stream",
          "text": [
            "O valor do vetor gamma é: \n",
            " [ 1.          1.0000005   1.000002    1.0000045   1.000008    1.0000125\n",
            "  1.000018    1.0000245   1.000032    1.0000405   1.00005     1.00006051\n",
            "  1.00007201  1.00008451  1.00009801  1.00011252  1.00012802  1.00014453\n",
            "  1.00016204  1.00018055  1.00020006  1.00022057  1.00024209  1.0002646\n",
            "  1.00028812  1.00031265  1.00033817  1.0003647   1.00039223  1.00042077\n",
            "  1.0004503   1.00048085  1.00051239  1.00054495  1.0005785   1.00061306\n",
            "  1.00064863  1.0006852   1.00072278  1.00076137  1.00080096  1.00084156\n",
            "  1.00088317  1.00092578  1.00096941  1.00101404  1.00105968  1.00110633\n",
            "  1.00115399  1.00120267  1.00125235  1.00130304  1.00135475  1.00140747\n",
            "  1.0014612   1.00151594  1.0015717   1.00162847  1.00168626  1.00174506\n",
            "  1.00180487  1.00186571  1.00192756  1.00199043  1.00205431  1.00211922\n",
            "  1.00218514  1.00225209  1.00232005  1.00238903  1.00245904  1.00253007\n",
            "  1.00260212  1.0026752   1.0027493   1.00282442  1.00290057  1.00297775\n",
            "  1.00305595  1.00313518  1.00321544  1.00329673  1.00337905  1.0034624\n",
            "  1.00354678  1.00363219  1.00371864  1.00380612  1.00389463  1.00398418\n",
            "  1.00407477  1.00416639  1.00425906  1.00435276  1.0044475   1.00454328\n",
            "  1.0046401   1.00473796  1.00483687  1.00493682  1.00503782  1.00513986\n",
            "  1.00524295  1.00534708  1.00545227  1.0055585   1.00566579  1.00577413\n",
            "  1.00588352  1.00599396  1.00610546  1.00621802  1.00633163  1.0064463\n",
            "  1.00656203  1.00667882  1.00679667  1.00691558  1.00703556  1.0071566\n",
            "  1.00727871  1.00740188  1.00752612  1.00765143  1.00777781  1.00790526\n",
            "  1.00803379  1.00816338  1.00829406  1.00842581  1.00855863  1.00869254\n",
            "  1.00882753  1.00896359  1.00910074  1.00923898  1.0093783   1.0095187\n",
            "  1.0096602   1.00980278  1.00994645  1.01009122  1.01023708  1.01038403\n",
            "  1.01053208  1.01068123  1.01083147  1.01098282  1.01113527  1.01128882\n",
            "  1.01144347  1.01159924  1.01175611  1.01191409  1.01207318  1.01223338\n",
            "  1.01239469  1.01255712  1.01272067  1.01288534  1.01305112  1.01321803\n",
            "  1.01338606  1.01355522  1.0137255   1.01389691  1.01406945  1.01424312\n",
            "  1.01441793  1.01459387  1.01477094  1.01494916  1.01512851  1.01530901\n",
            "  1.01549065  1.01567343  1.01585736  1.01604245  1.01622868  1.01641606\n",
            "  1.0166046   1.01679429  1.01698515  1.01717716  1.01737033  1.01756467\n",
            "  1.01776018  1.01795685  1.01815469  1.0183537   1.01855389  1.01875525\n",
            "  1.01895779  1.0191615   1.0193664   1.01957249  1.01977975  1.01998821\n",
            "  1.02019786  1.02040869  1.02062073  1.02083395  1.02104838  1.02126401\n",
            "  1.02148083  1.02169887  1.02191811  1.02213856  1.02236022  1.02258309\n",
            "  1.02280718  1.02303249  1.02325902  1.02348677  1.02371575  1.02394595\n",
            "  1.02417738  1.02441005  1.02464395  1.02487908  1.02511546  1.02535308\n",
            "  1.02559194  1.02583205  1.0260734   1.02631601  1.02655987  1.02680499\n",
            "  1.02705137  1.02729901  1.02754791  1.02779808  1.02804952  1.02830223\n",
            "  1.02855622  1.02881148  1.02906803  1.02932585  1.02958497  1.02984536\n",
            "  1.03010705  1.03037004  1.03063432  1.0308999   1.03116678  1.03143496\n",
            "  1.03170446  1.03197526  1.03224737  1.03252081  1.03279556  1.03307163\n",
            "  1.03334903  1.03362776  1.03390781  1.03418921  1.03447193  1.034756\n",
            "  1.03504141  1.03532817  1.03561628  1.03590574  1.03619655  1.03648872\n",
            "  1.03678226  1.03707716  1.03737342  1.03767106  1.03797007  1.03827047\n",
            "  1.03857224  1.0388754   1.03917994  1.03948588  1.03979321  1.04010193\n",
            "  1.04041206  1.0407236   1.04103654  1.0413509   1.04166667  1.04198386\n",
            "  1.04230247  1.0426225   1.04294397  1.04326687  1.0435912   1.04391698\n",
            "  1.0442442   1.04457287  1.04490299  1.04523456  1.04556759  1.04590209\n",
            "  1.04623805  1.04657548  1.04691439  1.04725478  1.04759664  1.04793999\n",
            "  1.04828484  1.04863117  1.04897901  1.04932834  1.04967918  1.05003153\n",
            "  1.0503854   1.05074078  1.05109769  1.05145612  1.05181608  1.05217758\n",
            "  1.05254062  1.05290519  1.05327132  1.053639    1.05400824  1.05437903\n",
            "  1.05475139  1.05512532  1.05550083  1.05587791  1.05625658  1.05663683\n",
            "  1.05701867  1.05740211  1.05778716  1.05817381  1.05856206  1.05895194\n",
            "  1.05934343  1.05973655  1.0601313   1.06052768  1.0609257   1.06132537\n",
            "  1.06172668  1.06212965  1.06253428  1.06294057  1.06334853  1.06375816\n",
            "  1.06416947  1.06458247  1.06499715  1.06541353  1.06583161  1.06625139\n",
            "  1.06667289  1.0670961   1.06752103  1.06794768  1.06837607  1.06880619\n",
            "  1.06923806  1.06967167  1.07010704  1.07054417  1.07098306  1.07142372\n",
            "  1.07186616  1.07231038  1.07275638  1.07320418  1.07365378  1.07410518\n",
            "  1.07455839  1.07501342  1.07547028  1.07592896  1.07638947  1.07685183\n",
            "  1.07731603  1.07778209  1.07825     1.07871978  1.07919143  1.07966496\n",
            "  1.08014037  1.08061768  1.08109688  1.08157798  1.08206099  1.08254592\n",
            "  1.08303277  1.08352156  1.08401227  1.08450493  1.08499954  1.08549611\n",
            "  1.08599464  1.08649514  1.08699762  1.08750208  1.08800853  1.08851698\n",
            "  1.08902744  1.0895399   1.09005439  1.0905709   1.09108945  1.09161004\n",
            "  1.09213268  1.09265737  1.09318412  1.09371295  1.09424386  1.09477685\n",
            "  1.09531193  1.09584912  1.09638841  1.09692983  1.09747336  1.09801903\n",
            "  1.09856684  1.0991168   1.09966892  1.1002232   1.10077965  1.10133828\n",
            "  1.10189911  1.10246213  1.10302735  1.10359479  1.10416446  1.10473635\n",
            "  1.10531049  1.10588687  1.10646551  1.10704642  1.1076296   1.10821507\n",
            "  1.10880282  1.10939288  1.10998525  1.11057994  1.11117696  1.11177632\n",
            "  1.11237802  1.11298208  1.11358851  1.11419731  1.1148085   1.11542208\n",
            "  1.11603807  1.11665647  1.11727729  1.11790055  1.11852625  1.1191544\n",
            "  1.11978502  1.12041811  1.12105369  1.12169176  1.12233234  1.12297542\n",
            "  1.12362104  1.12426919  1.12491989  1.12557314  1.12622896  1.12688736\n",
            "  1.12754836  1.12821195  1.12887815  1.12954697  1.13021843  1.13089254\n",
            "  1.1315693   1.13224873  1.13293084  1.13361564  1.13430314  1.13499336\n",
            "  1.1356863   1.13638198  1.13708041  1.1377816   1.13848557  1.13919233\n",
            "  1.13990188  1.14061425  1.14132944  1.14204746  1.14276834  1.14349207\n",
            "  1.14421869  1.14494819  1.14568059  1.1464159   1.14715414  1.14789532\n",
            "  1.14863946  1.14938657  1.15013665  1.15088973  1.15164582  1.15240493\n",
            "  1.15316708  1.15393228  1.15470054  1.15547188  1.15624632  1.15702386\n",
            "  1.15780453  1.15858833  1.15937529  1.16016541  1.16095872  1.16175522\n",
            "  1.16255494  1.16335789  1.16416408  1.16497352  1.16578625  1.16660226\n",
            "  1.16742158  1.16824423  1.16907021  1.16989955  1.17073226  1.17156837\n",
            "  1.17240787  1.1732508   1.17409717  1.17494699  1.17580029  1.17665708\n",
            "  1.17751737  1.1783812   1.17924856  1.18011949  1.180994    1.1818721\n",
            "  1.18275383  1.18363918  1.18452819  1.18542087  1.18631725  1.18721733\n",
            "  1.18812114  1.1890287   1.18994003  1.19085514  1.19177407  1.19269682\n",
            "  1.19362341  1.19455388  1.19548823  1.19642649  1.19736868  1.19831482\n",
            "  1.19926493  1.20021904  1.20117715  1.20213931  1.20310552  1.20407581\n",
            "  1.2050502   1.20602871  1.20701137  1.2079982   1.20898922  1.20998446\n",
            "  1.21098393  1.21198767  1.21299569  1.21400801  1.21502467  1.21604569\n",
            "  1.21707109  1.21810089  1.21913513  1.22017382  1.22121699  1.22226466\n",
            "  1.22331687  1.22437364  1.22543499  1.22650094  1.22757154  1.2286468\n",
            "  1.22972675  1.23081141  1.23190082  1.23299501  1.23409399  1.2351978\n",
            "  1.23630647  1.23742003  1.2385385   1.23966191  1.24079029  1.24192368\n",
            "  1.2430621   1.24420558  1.24535415  1.24650785  1.24766671  1.24883074\n",
            "  1.25        1.2511745   1.25235429  1.25353939  1.25472984  1.25592566\n",
            "  1.2571269   1.25833358  1.25954574  1.26076342  1.26198664  1.26321545\n",
            "  1.26444988  1.26568996  1.26693572  1.26818722  1.26944447  1.27070753\n",
            "  1.27197642  1.27325118  1.27453185  1.27581848  1.27711109  1.27840972\n",
            "  1.27971442  1.28102523  1.28234218  1.28366532  1.28499468  1.28633031\n",
            "  1.28767225  1.28902054  1.29037522  1.29173633  1.29310393  1.29447805\n",
            "  1.29585873  1.29724602  1.29863997  1.30004062  1.30144802  1.3028622\n",
            "  1.30428323  1.30571114  1.30714599  1.30858782  1.31003667  1.31149261\n",
            "  1.31295567  1.31442592  1.31590339  1.31738814  1.31888022  1.32037969\n",
            "  1.32188659  1.32340098  1.32492292  1.32645245  1.32798963  1.32953452\n",
            "  1.33108717  1.33264764  1.33421599  1.33579227  1.33737654  1.33896886\n",
            "  1.3405693   1.3421779   1.34379473  1.34541986  1.34705334  1.34869524\n",
            "  1.35034562  1.35200455  1.35367209  1.3553483   1.35703325  1.35872701\n",
            "  1.36042964  1.36214122  1.36386181  1.36559149  1.36733032  1.36907838\n",
            "  1.37083573  1.37260245  1.37437862  1.37616431  1.37795959  1.37976454\n",
            "  1.38157925  1.38340378  1.38523821  1.38708263  1.38893712  1.39080175\n",
            "  1.39267662  1.3945618   1.39645738  1.39836345  1.40028008  1.40220738\n",
            "  1.40414543  1.40609431  1.40805413  1.41002496  1.41200691  1.41400006\n",
            "  1.41600452  1.41802038  1.42004774  1.4220867   1.42413735  1.4261998\n",
            "  1.42827415  1.4303605   1.43245896  1.43456964  1.43669264  1.43882807\n",
            "  1.44097604  1.44313667  1.44531007  1.44749635  1.44969562  1.45190802\n",
            "  1.45413364  1.45637263  1.45862509  1.46089115  1.46317094  1.46546458\n",
            "  1.4677722   1.47009394  1.47242992  1.47478029  1.47714516  1.47952469\n",
            "  1.48191901  1.48432826  1.48675258  1.48919213  1.49164704  1.49411747\n",
            "  1.49660357  1.49910549  1.50162338  1.50415741  1.50670773  1.5092745\n",
            "  1.51185789  1.51445807  1.5170752   1.51970945  1.52236101  1.52503004\n",
            "  1.52771672  1.53042123  1.53314377  1.53588451  1.53864364  1.54142136\n",
            "  1.54421785  1.54703333  1.54986799  1.55272203  1.55559566  1.55848908\n",
            "  1.56140252  1.56433619  1.56729031  1.5702651   1.57326079  1.5762776\n",
            "  1.57931577  1.58237554  1.58545715  1.58856085  1.59168687  1.59483548\n",
            "  1.59800693  1.60120148  1.6044194   1.60766094  1.6109264   1.61421605\n",
            "  1.61753016  1.62086902  1.62423293  1.62762219  1.63103709  1.63447794\n",
            "  1.63794506  1.64143875  1.64495935  1.64850718  1.65208257  1.65568587\n",
            "  1.65931742  1.66297756  1.66666667  1.67038509  1.67413321  1.6779114\n",
            "  1.68172003  1.68555951  1.68943023  1.6933326   1.69726702  1.70123392\n",
            "  1.70523372  1.70926686  1.71333378  1.71743494  1.72157079  1.72574181\n",
            "  1.72994847  1.73419125  1.73847066  1.74278721  1.74714139  1.75153376\n",
            "  1.75596483  1.76043515  1.7649453   1.76949582  1.77408731  1.77872035\n",
            "  1.78339556  1.78811354  1.79287493  1.79768037  1.80253051  1.80742603\n",
            "  1.8123676   1.81735593  1.82239174  1.82747574  1.83260868  1.83779133\n",
            "  1.84302445  1.84830885  1.85364534  1.85903474  1.86447791  1.86997571\n",
            "  1.87552903  1.88113878  1.88680589  1.8925313   1.89831599  1.90416096\n",
            "  1.91006722  1.91603582  1.92206782  1.92816432  1.93432644  1.94055533\n",
            "  1.94685216  1.95321814  1.9596545   1.96616252  1.97274349  1.97939874\n",
            "  1.98612964  1.99293759  1.99982402  2.00679043  2.01383831  2.02096923\n",
            "  2.02818479  2.03548662  2.04287641  2.05035589  2.05792685  2.06559112\n",
            "  2.07335057  2.08120714  2.08916283  2.09721968  2.1053798   2.11364536\n",
            "  2.1220186   2.13050182  2.13909738  2.14780774  2.1566354   2.16558297\n",
            "  2.17465313  2.18384862  2.19317232  2.20262714  2.21221614  2.22194244\n",
            "  2.23180928  2.24182002  2.25197811  2.26228712  2.27275075  2.28337284\n",
            "  2.29415734  2.30510835  2.31623013  2.32752706  2.33900371  2.35066482\n",
            "  2.36251527  2.37456017  2.38680479  2.39925462  2.41191535  2.42479291\n",
            "  2.43789345  2.45122337  2.46478934  2.4785983   2.49265747  2.50697439\n",
            "  2.5215569   2.53641319  2.55155182  2.5669817   2.58271216  2.59875295\n",
            "  2.61511427  2.63180678  2.64884166  2.66623063  2.68398594  2.7021205\n",
            "  2.72064781  2.73958209  2.75893826  2.77873206  2.79898001  2.81969956\n",
            "  2.84090909  2.862628    2.88487679  2.90767711  2.93105191  2.95502546\n",
            "  2.9796235   3.00487335  3.03080403  3.0574464   3.08483331  3.11299978\n",
            "  3.14198315  3.17182335  3.20256308  3.23424805  3.26692733  3.30065361\n",
            "  3.33548356  3.37147825  3.40870358  3.44723078  3.48713701  3.52850595\n",
            "  3.57142857  3.61600398  3.66234034  3.71055598  3.76078069  3.81315712\n",
            "  3.86784253  3.92501075  3.98485446  4.04758796  4.11345035  4.18270937\n",
            "  4.25566594  4.33265966  4.41407545  4.5003516   4.59198974  4.68956702\n",
            "  4.79375149  4.90532126  5.02518908  5.15443375  5.29434115  5.44645829\n",
            "  5.61266569  5.79527588  5.99717     6.22199117  6.47442474  6.76061595\n",
            "  7.08881205  7.47038725  7.92155313  8.46637168  9.14243324 10.01252349\n",
            " 11.19153703 12.91963785 15.81929993 22.36627204]\n"
          ],
          "name": "stdout"
        }
      ]
    },
    {
      "cell_type": "markdown",
      "metadata": {
        "id": "QoOnuNeUD1Gz"
      },
      "source": [
        "**Item 3** - A partir de um vetor de valores β variando de 0 a 0,995, faça um gráfico gamma versus **gamma** versus **beta**."
      ]
    },
    {
      "cell_type": "code",
      "metadata": {
        "id": "FzGYJpQ_EXfr",
        "outputId": "c7ca0392-3157-42e2-bcc6-66a4de3ee291",
        "colab": {
          "base_uri": "https://localhost:8080/",
          "height": 279
        }
      },
      "source": [
        "import numpy as np\n",
        "import matplotlib.pyplot as plt\n",
        "from função_gamma import gamma\n",
        "# Beta varia entre valores de 0 até 1.\n",
        "beta = np.arange(0.0,0.996,0.001)               # O intervalo inclui o ponto inicial (0) e exclui o ponto final(0.996)\n",
        "\n",
        "gamma = gamma(beta)\n",
        "\n",
        "#beta.shape\n",
        "#print(len(gamma))\n",
        "#type(gamma)\n",
        "#print(f'gamma = \\n {gamma}')\n",
        "#print(f'beta = \\n {beta}')\n",
        "\n",
        "plt.plot(gamma,beta,'blue')\n",
        "plt.xlabel('γ')\n",
        "plt.ylabel('β')\n",
        "\n",
        "plt.show()"
      ],
      "execution_count": 92,
      "outputs": [
        {
          "output_type": "display_data",
          "data": {
            "image/png": "[encoded data removed]",
            "text/plain": [
              "<Figure size 432x288 with 1 Axes>"
            ]
          },
          "metadata": {
            "tags": [],
            "needs_background": "light"
          }
        }
      ]
    },
    {
      "cell_type": "markdown",
      "metadata": {
        "id": "1_DC36SwKES4"
      },
      "source": [
        "**Item 4** - Faça um gráfico γβ versus β. O que você observa?"
      ]
    },
    {
      "cell_type": "code",
      "metadata": {
        "id": "tuR0ygs7vXJk",
        "outputId": "5a6d9dc9-f3ce-4af0-a59e-5c617a414622",
        "colab": {
          "base_uri": "https://localhost:8080/",
          "height": 545
        }
      },
      "source": [
        "import numpy as np\n",
        "import matplotlib.pyplot as plt\n",
        "from função_gamma import gamma\n",
        "# Beta varia entre valores de 0 até 1.\n",
        "beta = np.arange(0,0.996,0.001)               # O intervalo inclui o ponto inicial (0) e exclui o ponto final(0.996)\n",
        "\n",
        "gamma = gamma(beta)\n",
        "\n",
        "gamma_beta = gama*beta\n",
        "\n",
        "#print(gamma_beta)\n",
        "\n",
        "fig, ax1 = plt.subplots()\n",
        "ax1.set_xlabel('γβ')\n",
        "ax1.set_ylabel('β')\n",
        "ax1=plt.plot(gamma_beta,beta,'blue')\n",
        "\n",
        "fig,ax2 = plt.subplots()\n",
        "ax2.set_xlabel('γβ')\n",
        "ax2.set_ylabel('β')\n",
        "ax2.set_xscale('log')\n",
        "ax2.set_yscale('log')\n",
        "ax2=plt.plot(gamma_beta, beta, 'blue')\n",
        "\n"
      ],
      "execution_count": 90,
      "outputs": [
        {
          "output_type": "display_data",
          "data": {
            "image/png": "[encoded data removed]",
            "text/plain": [
              "<Figure size 432x288 with 1 Axes>"
            ]
          },
          "metadata": {
            "tags": [],
            "needs_background": "light"
          }
        },
        {
          "output_type": "display_data",
          "data": {
            "image/png": "[encoded data removed]",
            "text/plain": [
              "<Figure size 432x288 with 1 Axes>"
            ]
          },
          "metadata": {
            "tags": [],
            "needs_background": "light"
          }
        }
      ]
    },
    {
      "cell_type": "markdown",
      "metadata": {
        "id": "Wb-4LyujGZB7"
      },
      "source": [
        "**Item 5** - Trace o argumento do log natural na equação de Bethe-Block em uma função de γβ. Faça o argumento ser uma nova função **ln_argumetent()**. Para você: essa função deve aceitar β ou γ como argumento, ou ambos, ou seu produto? Observe que pode ser muito difícil obter β com uma boa precisão a partir γ em baixas velocidades; o oposto é difícil em velocidade muitos altas. Faça o gráfico para um intervalo de 0,1 a 100.\n",
        "\n"
      ]
    },
    {
      "cell_type": "code",
      "metadata": {
        "id": "2gmV0QQXqVTJ"
      },
      "source": [
        "import math\n",
        "# Calculando o log natural\n",
        "\n",
        "# constantes utilizadas\n",
        "mc2 = 0,5110                             # Mev - massa do eletron - m_e * c^2\n",
        "I = 29*10**(-5)\n",
        "\n",
        "arg"
      ],
      "execution_count": null,
      "outputs": []
    },
    {
      "cell_type": "code",
      "metadata": {
        "id": "_HGDTHMyqVJG"
      },
      "source": [
        ""
      ],
      "execution_count": null,
      "outputs": []
    }
  ]
}