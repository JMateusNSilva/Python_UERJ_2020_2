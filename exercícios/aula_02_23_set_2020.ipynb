{
  "nbformat": 4,
  "nbformat_minor": 0,
  "metadata": {
    "colab": {
      "name": "Untitled0.ipynb",
      "provenance": [],
      "authorship_tag": "ABX9TyNoeAkjOfl27oe2u8qTGPw/",
      "include_colab_link": true
    },
    "kernelspec": {
      "name": "python3",
      "display_name": "Python 3"
    }
  },
  "cells": [
    {
      "cell_type": "markdown",
      "metadata": {
        "id": "view-in-github",
        "colab_type": "text"
      },
      "source": [
        "<a href=\"https://colab.research.google.com/github/JMateusNSilva/python_uerj_2020_2/blob/master/exerc%C3%ADcios/aula_02_23_set_2020.ipynb\" target=\"_parent\"><img src=\"https://colab.research.google.com/assets/colab-badge.svg\" alt=\"Open In Colab\"/></a>"
      ]
    },
    {
      "cell_type": "markdown",
      "metadata": {
        "id": "uBzqp7lX6pIP"
      },
      "source": [
        "Aula 02 - 23/set/2020\n",
        "Profa. Helena Malbouis\n",
        "\n",
        "**Exercício twiki** - Aula 01"
      ]
    },
    {
      "cell_type": "markdown",
      "metadata": {
        "id": "Ep7JsmWy9NdL"
      },
      "source": [
        "Questão 1- Se você fizer uma corrida de 10 quilômetros em 43 minutos e 30 segundos, qual será seu temopo médio por milha? Qual é a sua velocidade média por hora? (Dica: há 1,61 quilômeotros em uma milha)\n",
        "\n",
        "Este exercício foi realizado no notebook Aula 01 - 18/ set/ 2020"
      ]
    },
    {
      "cell_type": "markdown",
      "metadata": {
        "id": "_bdkHold99tv"
      },
      "source": [
        "**Questão 02** - Desde seua varanda você escuta o som do primeiro fogo artificial do reveillon 3 segundos depois de ver a luz, qual a distância? ( som tem velocidade 343 m/s e a luz $3\\times 10^8$ m/s)."
      ]
    },
    {
      "cell_type": "code",
      "metadata": {
        "id": "wtD9JWMu9Gb1",
        "outputId": "749f7008-91c7-4f38-9225-f44e39870bba",
        "colab": {
          "base_uri": "https://localhost:8080/",
          "height": 34
        }
      },
      "source": [
        "#Inserindo valores nas variáveis\n",
        "vel_som = 343   # em metros por segundo\n",
        "t = 3           # tempo em segundos\n",
        "s0 = 0          # velocidade inicial\n",
        "\n",
        "#Realizando a conta para a distância percorrida pelo som em 3 segundos\n",
        "s = s0 + vel_som * t  # cálculo da distância percorrida pelo som\n",
        "\n",
        "#Imprimindo o resultado na tela\n",
        "print(f'A distância percorrida foi de: {s:.2f} m')"
      ],
      "execution_count": 5,
      "outputs": [
        {
          "output_type": "stream",
          "text": [
            "A distância percorrida foi de: 1029.00 m\n"
          ],
          "name": "stdout"
        }
      ]
    },
    {
      "cell_type": "markdown",
      "metadata": {
        "id": "CK6YjkUQBRRM"
      },
      "source": [
        "**Questão 03** - Ache os zeros da função $y = 3x^2 - 4x - 10$."
      ]
    },
    {
      "cell_type": "code",
      "metadata": {
        "id": "z-pskjmbBQ1x"
      },
      "source": [
        ""
      ],
      "execution_count": null,
      "outputs": []
    }
  ]
}