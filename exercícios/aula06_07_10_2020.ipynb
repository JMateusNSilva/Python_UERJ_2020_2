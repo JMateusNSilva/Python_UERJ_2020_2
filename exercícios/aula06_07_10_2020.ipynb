{
  "nbformat": 4,
  "nbformat_minor": 0,
  "metadata": {
    "colab": {
      "name": "aula06_07_10_2020.ipynb",
      "provenance": [],
      "authorship_tag": "ABX9TyNnfIg+EDBdGzV9vLznOx2p",
      "include_colab_link": true
    },
    "kernelspec": {
      "name": "python3",
      "display_name": "Python 3"
    }
  },
  "cells": [
    {
      "cell_type": "markdown",
      "metadata": {
        "id": "view-in-github",
        "colab_type": "text"
      },
      "source": [
        "<a href=\"https://colab.research.google.com/github/JMateusNSilva/python_uerj_2020_2/blob/master/exerc%C3%ADcios/aula06_07_10_2020.ipynb\" target=\"_parent\"><img src=\"https://colab.research.google.com/assets/colab-badge.svg\" alt=\"Open In Colab\"/></a>"
      ]
    },
    {
      "cell_type": "markdown",
      "metadata": {
        "id": "EbFh1lTXiahB"
      },
      "source": [
        "Aula 06 - dia 07 de outubro de 2020\n",
        "\n",
        "Professores:\n",
        "\n",
        "    Helena Malbouis\n",
        "    Dilson de Jesus Damião\n",
        "\n",
        "Aluno: José Mateus Nobre da Silva\n"
      ]
    }
  ]
}