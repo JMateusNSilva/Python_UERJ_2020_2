{
  "nbformat": 4,
  "nbformat_minor": 0,
  "metadata": {
    "colab": {
      "name": "aula07_09_10_2020.ipynb",
      "provenance": [],
      "authorship_tag": "ABX9TyOzpOFi1s8ESUilbeVIYOpE",
      "include_colab_link": true
    },
    "kernelspec": {
      "name": "python3",
      "display_name": "Python 3"
    }
  },
  "cells": [
    {
      "cell_type": "markdown",
      "metadata": {
        "id": "view-in-github",
        "colab_type": "text"
      },
      "source": [
        "<a href=\"https://colab.research.google.com/github/JMateusNSilva/python_uerj_2020_2/blob/master/exerc%C3%ADcios/aula07_09_10_2020.ipynb\" target=\"_parent\"><img src=\"https://colab.research.google.com/assets/colab-badge.svg\" alt=\"Open In Colab\"/></a>"
      ]
    },
    {
      "cell_type": "code",
      "metadata": {
        "id": "2Rce0SWUYKvo",
        "outputId": "01b20c1e-b483-4a8a-85ce-f0e7438e13ba",
        "colab": {
          "base_uri": "https://localhost:8080/",
          "height": 191
        }
      },
      "source": [
        "def conjectura_de_collatz(n):\n",
        "  while n != 1:\n",
        "    print(n)\n",
        "    if n % 2 == 0:           # a condição verifica se n é um número par\n",
        "        n = n // 2\n",
        "    else:\n",
        "        n = 3 * n + 1\n",
        "    \n",
        "\n",
        "conjectura_de_collatz(160)\n"
      ],
      "execution_count": 14,
      "outputs": [
        {
          "output_type": "stream",
          "text": [
            "160\n",
            "80\n",
            "40\n",
            "20\n",
            "10\n",
            "5\n",
            "16\n",
            "8\n",
            "4\n",
            "2\n"
          ],
          "name": "stdout"
        }
      ]
    },
    {
      "cell_type": "code",
      "metadata": {
        "id": "qNlPJfAzCpAe",
        "outputId": "414489cd-dee7-411d-bf70-5aa094743300",
        "colab": {
          "base_uri": "https://localhost:8080/",
          "height": 34
        }
      },
      "source": [
        "def counter(n):\n",
        "    count = 0\n",
        "    while n == 0 or n==5:\n",
        "        count = count + 1\n",
        "    return count\n",
        "\n",
        "counter(10568)"
      ],
      "execution_count": 5,
      "outputs": [
        {
          "output_type": "execute_result",
          "data": {
            "text/plain": [
              "0"
            ]
          },
          "metadata": {
            "tags": []
          },
          "execution_count": 5
        }
      ]
    }
  ]
}