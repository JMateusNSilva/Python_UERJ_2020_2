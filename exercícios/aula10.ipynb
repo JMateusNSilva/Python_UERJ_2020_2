{
  "nbformat": 4,
  "nbformat_minor": 0,
  "metadata": {
    "colab": {
      "name": "aula10.ipynb",
      "provenance": [],
      "authorship_tag": "ABX9TyPsgC8yedtQ2geETS0bOkcx",
      "include_colab_link": true
    },
    "kernelspec": {
      "name": "python3",
      "display_name": "Python 3"
    }
  },
  "cells": [
    {
      "cell_type": "markdown",
      "metadata": {
        "id": "view-in-github",
        "colab_type": "text"
      },
      "source": [
        "<a href=\"https://colab.research.google.com/github/JMateusNSilva/python_uerj_2020_2/blob/master/exerc%C3%ADcios/aula10.ipynb\" target=\"_parent\"><img src=\"https://colab.research.google.com/assets/colab-badge.svg\" alt=\"Open In Colab\"/></a>"
      ]
    },
    {
      "cell_type": "code",
      "metadata": {
        "id": "9xEJbLW2iNyh"
      },
      "source": [
        "import math"
      ],
      "execution_count": 1,
      "outputs": []
    },
    {
      "cell_type": "code",
      "metadata": {
        "id": "tUHqQGb6_3pZ",
        "outputId": "6c9e1b31-957d-4d65-d330-aa3574534b92",
        "colab": {
          "base_uri": "https://localhost:8080/"
        }
      },
      "source": [
        "math.exp(0) - math.exp(-10)\n"
      ],
      "execution_count": 2,
      "outputs": [
        {
          "output_type": "execute_result",
          "data": {
            "text/plain": [
              "0.9999546000702375"
            ]
          },
          "metadata": {
            "tags": []
          },
          "execution_count": 2
        }
      ]
    },
    {
      "cell_type": "code",
      "metadata": {
        "id": "JhNWxYJE__KK",
        "outputId": "a1d03b7b-bfd7-4b4d-811e-96a55a07b29b",
        "colab": {
          "base_uri": "https://localhost:8080/"
        }
      },
      "source": [
        "x = range(0,10)\n",
        "y = [math.exp(-xi) for xi in x]   # Isto se chama 'list comprehension'\n",
        "print(x)\n",
        "print(y)"
      ],
      "execution_count": 3,
      "outputs": [
        {
          "output_type": "stream",
          "text": [
            "range(0, 10)\n",
            "[1.0, 0.36787944117144233, 0.1353352832366127, 0.049787068367863944, 0.01831563888873418, 0.006737946999085467, 0.0024787521766663585, 0.0009118819655545162, 0.00033546262790251185, 0.00012340980408667956]\n"
          ],
          "name": "stdout"
        }
      ]
    },
    {
      "cell_type": "code",
      "metadata": {
        "id": "Cn3edd9HA-zk",
        "outputId": "3da37b44-43ba-4286-caff-79e8275b3c4b",
        "colab": {
          "base_uri": "https://localhost:8080/",
          "height": 265
        }
      },
      "source": [
        "import matplotlib.pyplot as plt\n",
        "import numpy as np\n",
        "plt.bar(x, y, color='red', align='edge', width=1)\n",
        "x1 = np.linspace(0,10,1000)         # Intervalo de 0 a 10, com 1000 divisões.\n",
        "y1 = [math.exp(-xi) for xi in x1]\n",
        "plt.plot(x1,y1)\n",
        "plt.show()\n"
      ],
      "execution_count": 4,
      "outputs": [
        {
          "output_type": "display_data",
          "data": {
            "image/png": "[encoded data removed]",
            "text/plain": [
              "<Figure size 432x288 with 1 Axes>"
            ]
          },
          "metadata": {
            "tags": [],
            "needs_background": "light"
          }
        }
      ]
    },
    {
      "cell_type": "code",
      "metadata": {
        "id": "EYgzIXogCO8Z",
        "outputId": "901dffda-fad4-4621-99e0-caf622ca09f2",
        "colab": {
          "base_uri": "https://localhost:8080/"
        }
      },
      "source": [
        "x_i = 0\n",
        "x_f = 10\n",
        "dx  = 1\n",
        "x   = np.arange(x_i, x_f, dx)      # Retorna valores de espaços iguais de um determinado intevalo\n",
        "S   = 0\n",
        "for xi in x:\n",
        "    S = S + math.exp(-xi) * dx     # * dx que é 1 neste caso.\n",
        "\n",
        "print(f\"Soma de 10 caixinhas = \", S)\n"
      ],
      "execution_count": 5,
      "outputs": [
        {
          "output_type": "stream",
          "text": [
            "Soma de 10 caixinhas =  1.5819048852379485\n"
          ],
          "name": "stdout"
        }
      ]
    },
    {
      "cell_type": "code",
      "metadata": {
        "id": "BNK1KAk03Kb5",
        "outputId": "f4e186de-c61c-4449-fcfb-eaa559a50777",
        "colab": {
          "base_uri": "https://localhost:8080/"
        }
      },
      "source": [
        "x_i = 0\n",
        "x_f = 10\n",
        "dx  = 0.01\n",
        "n_steps = round((x_f - x_i)/dx)\n",
        "\n",
        "x = np.arange(x_i, x_f, dx)         # Retorna valores de espaços iguais de um determinado intervalo\n",
        "\n",
        "S1  = 0\n",
        "for xi in x: \n",
        "    S1 = S1 + math.exp(-xi) * dx\n",
        "\n",
        "print(f\"Soma de {n_steps} caixinhas = \", S1)"
      ],
      "execution_count": 6,
      "outputs": [
        {
          "output_type": "stream",
          "text": [
            "Soma de 1000 caixinhas =  1.0049627060117017\n"
          ],
          "name": "stdout"
        }
      ]
    },
    {
      "cell_type": "code",
      "metadata": {
        "id": "HMn873K3NccT",
        "outputId": "daa39aa9-123c-44a8-9a27-8c00d116bcea",
        "colab": {
          "base_uri": "https://localhost:8080/"
        }
      },
      "source": [
        "import numpy as np\n",
        "import math\n",
        "\n",
        "def f(x):\n",
        "    return np.exp(-x)\n",
        "\n",
        "def left_integral(f,a,b,dx):\n",
        "    x = np.arange(a,b,dx)\n",
        "    sum = 0\n",
        "    for i in range(len(x) - 1):\n",
        "        sum = sum + f(x[i]) * dx\n",
        "    print(f'Soma pela esquerda = {sum}')\n",
        "\n",
        "def right_integral(f,a,b,dx):\n",
        "    x = np.arange(a,b,dx)\n",
        "    sum = 0\n",
        "    for i in range(1,len(x)):\n",
        "      sum = sum + f(x[i]) * dx\n",
        "    print(f\"Soma pela direita = {sum}\")\n",
        "\n",
        "right_integral(f, a=0, b=10, dx=0.01)\n",
        "left_integral(f, a=0, b=10, dx=0.01)\n",
        "\n"
      ],
      "execution_count": 7,
      "outputs": [
        {
          "output_type": "stream",
          "text": [
            "Soma pela direita = 0.9949627060117006\n",
            "Soma pela esquerda = 1.0049622474496354\n"
          ],
          "name": "stdout"
        }
      ]
    },
    {
      "cell_type": "markdown",
      "metadata": {
        "id": "cSuL9Z1Xulkv"
      },
      "source": [
        "**Exercício 01** - Quantos intervalos (ou qual largura de intervalo) é preciso implementar para ter um precisão de 1% no resultado numérico na interação de f(x) de 0 a 10?"
      ]
    },
    {
      "cell_type": "code",
      "metadata": {
        "id": "Vv2zEdN5ulMD",
        "outputId": "4e560ea7-00f0-43e8-cd39-78c0d09ecd4e",
        "colab": {
          "base_uri": "https://localhost:8080/"
        }
      },
      "source": [
        "import numpy as np\n",
        "import math\n",
        "x_i = 0\n",
        "x_f = 10\n",
        "dx  = 1\n",
        "n_steps = round((x_f - x_i)/dx)             # Round retorna um número com uma dada precisão em digitos decimais (padrão 0 dígitos).\n",
        "\n",
        "x = np.arange(x_i,x_f,dx)                   # Retorna valores de espaços iguais de um determinado intervalo.\n",
        "\n",
        "S1 = 0\n",
        "for xi in x:\n",
        "    S1 = S1 + math.exp(-xi) * dx\n",
        "\n",
        "print(f'O valor da soma é {S1} para um dx igual {dx}')\n",
        "\n",
        "while ((S1 - 1) / 1) > 1/100:\n",
        "    dx = dx/10\n",
        "    print(\"dx1 = \", dx)\n",
        "    x = np.arange(x_i, x_f,dx)\n",
        "    #print('x', x)\n",
        "    S1=0\n",
        "    for xi in x:\n",
        "        S1 = S1 + math.exp(-xi) * dx\n",
        "else:\n",
        "    print(f'A soma já tem precisão menor que um porcento {S1} para um dx igual {dx}')\n",
        "\n",
        "\n",
        "# Avalia em quantas partes iguais a função foi particionada (caixinhas). Novo valor de dx.\n",
        "n_steps = round((x_f - x_i)/dx)\n",
        "\n",
        "# Imprime a soma para o novo valor de dx que tem uma precisão menor do que 1%.\n",
        "print(f'Soma de {n_steps} caixinhas = ', S1)\n",
        "\n"
      ],
      "execution_count": 25,
      "outputs": [
        {
          "output_type": "stream",
          "text": [
            "O valor da soma é 1.5819048852379485 para um dx igual 1\n",
            "dx1 =  0.1\n",
            "dx1 =  0.01\n",
            "A soma já tem precisão menor que um porcento 1.0049627060117017 para um dx igual 0.01\n",
            "Soma de 1000 caixinhas =  1.0049627060117017\n"
          ],
          "name": "stdout"
        }
      ]
    },
    {
      "cell_type": "code",
      "metadata": {
        "id": "4mSdv6l0xCtR"
      },
      "source": [
        ""
      ],
      "execution_count": null,
      "outputs": []
    }
  ]
}