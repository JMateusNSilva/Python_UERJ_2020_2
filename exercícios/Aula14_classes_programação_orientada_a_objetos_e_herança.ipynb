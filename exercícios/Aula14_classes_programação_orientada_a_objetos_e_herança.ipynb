{
  "nbformat": 4,
  "nbformat_minor": 0,
  "metadata": {
    "colab": {
      "name": "Aula14_classes_programação_orientada_a_objetos_e_herança.ipynb",
      "provenance": [],
      "authorship_tag": "ABX9TyOdT8EYlEgtrRpltBj2PBO7",
      "include_colab_link": true
    },
    "kernelspec": {
      "name": "python3",
      "display_name": "Python 3"
    }
  },
  "cells": [
    {
      "cell_type": "markdown",
      "metadata": {
        "id": "view-in-github",
        "colab_type": "text"
      },
      "source": [
        "<a href=\"https://colab.research.google.com/github/JMateusNSilva/python_uerj_2020_2/blob/master/exerc%C3%ADcios/Aula14_classes_programa%C3%A7%C3%A3o_orientada_a_objetos_e_heran%C3%A7a.ipynb\" target=\"_parent\"><img src=\"https://colab.research.google.com/assets/colab-badge.svg\" alt=\"Open In Colab\"/></a>"
      ]
    },
    {
      "cell_type": "code",
      "metadata": {
        "id": "NuMi_xKmxiAQ"
      },
      "source": [
        "class MeuTempo:\n",
        "    def __init__ (self, hrs = 0, mins = 0, segs = 0):\n",
        "        \"\"\" Criar um objeto MeuTempo inicializado para hrs, mins, segs\n",
        "        \"\"\"\n",
        "        self.horas = hrs\n",
        "        self.minutos = mins\n",
        "        self.segundos = segs\n",
        "\n",
        "    def __str__ (self):\n",
        "        \"\"\"Retorna o valor como uma representação de string\n",
        "        \"\"\"\n",
        "        return \"({0}:{1}:{2})\".format(self.horas,self.minutos,self.segundos)"
      ],
      "execution_count": 56,
      "outputs": []
    },
    {
      "cell_type": "code",
      "metadata": {
        "colab": {
          "base_uri": "https://localhost:8080/",
          "height": 71
        },
        "id": "tazUkB0v2cco",
        "outputId": "3b78432a-da8f-4d3c-b99b-3386e74709f7"
      },
      "source": [
        "tim1 = MeuTempo(11,59,30)\n",
        "print(tim1)\n",
        "print(tim1.horas,\":\",tim1.minutos,\":\",tim1.segundos)\n",
        "str(tim1)"
      ],
      "execution_count": 57,
      "outputs": [
        {
          "output_type": "stream",
          "text": [
            "(11:59:30)\n",
            "11 : 59 : 30\n"
          ],
          "name": "stdout"
        },
        {
          "output_type": "execute_result",
          "data": {
            "application/vnd.google.colaboratory.intrinsic+json": {
              "type": "string"
            },
            "text/plain": [
              "'(11:59:30)'"
            ]
          },
          "metadata": {
            "tags": []
          },
          "execution_count": 57
        }
      ]
    },
    {
      "cell_type": "code",
      "metadata": {
        "colab": {
          "base_uri": "https://localhost:8080/"
        },
        "id": "786sqGLt6wBV",
        "outputId": "9962e009-f32e-4bcd-b724-dc2b3e141537"
      },
      "source": [
        "def add_time (t1, t2):\n",
        "    h = t1.horas    +  t2.horas\n",
        "    m = t1.minutos  +  t2.minutos\n",
        "    s = t1.segundos +  t2.segundos\n",
        "\n",
        "    sum_t = MeuTempo(h, m, s)\n",
        "    return sum_t\n",
        "\n",
        "hora_atual  = MeuTempo(12, 15, 30)\n",
        "tempo_bolo  = MeuTempo(1, 10, 0)\n",
        "bolo_pronto = add_time(hora_atual, tempo_bolo)\n",
        "print(bolo_pronto.horas, \":\", bolo_pronto.minutos,\":\", bolo_pronto.segundos)"
      ],
      "execution_count": 58,
      "outputs": [
        {
          "output_type": "stream",
          "text": [
            "13 : 25 : 30\n"
          ],
          "name": "stdout"
        }
      ]
    },
    {
      "cell_type": "code",
      "metadata": {
        "colab": {
          "base_uri": "https://localhost:8080/"
        },
        "id": "OCAMR3iN9WqX",
        "outputId": "9c79bd0c-795f-4b0e-e6af-9a5097f3672c"
      },
      "source": [
        "def add_time(t1, t2):\n",
        "    \n",
        "    h = t1.horas    + t2.horas\n",
        "    m = t1.minutos  + t2.minutos\n",
        "    s = t1.segundos + t2.segundos\n",
        "\n",
        "    if s >= 60 :\n",
        "       s -= 60\n",
        "       m += 1\n",
        "\n",
        "    if m >= 60 :\n",
        "       m -= 60\n",
        "       h += 1\n",
        "\n",
        "    sum_t = MeuTempo(h, m, s)\n",
        "    return sum_t\n",
        "\n",
        "hora_noite = MeuTempo(10,55,50)\n",
        "bp = add_time(hora_noite, tempo_bolo)\n",
        "print(bp.horas,\":\",bp.minutos,\":\",bp.segundos)"
      ],
      "execution_count": 59,
      "outputs": [
        {
          "output_type": "stream",
          "text": [
            "12 : 5 : 50\n"
          ],
          "name": "stdout"
        }
      ]
    },
    {
      "cell_type": "markdown",
      "metadata": {
        "id": "7jBKrTQBmtuE"
      },
      "source": [
        "**Modificadores**"
      ]
    },
    {
      "cell_type": "code",
      "metadata": {
        "id": "MNksVJFAbAm0"
      },
      "source": [
        "def incremento(t,seg):\n",
        "    t.segundos += seg\n",
        "\n",
        "    if t.segundos >= 60:\n",
        "       t.segundos -= 60\n",
        "       t.minutos   = 1\n",
        "\n",
        "    if t.minutos  >= 60:\n",
        "       t.minutos  -= 60\n",
        "       t.horas    += 1\n"
      ],
      "execution_count": 60,
      "outputs": []
    },
    {
      "cell_type": "code",
      "metadata": {
        "id": "jK3fP0srb5WG"
      },
      "source": [
        " def incremento(t, segs):\n",
        "     t.segundos  += segs\n",
        "    \n",
        "     while t.segundos  >= 60:\n",
        "         t.segundos    -= 60\n",
        "         t.minutos     += 1\n",
        "\n",
        "     while t.minutos   >= 60:\n",
        "         t.minutos     -= 60\n",
        "         t.horas       +=1"
      ],
      "execution_count": 61,
      "outputs": []
    },
    {
      "cell_type": "code",
      "metadata": {
        "colab": {
          "base_uri": "https://localhost:8080/"
        },
        "id": "4GFwjF_xcg7P",
        "outputId": "e515e4ad-f2b8-4916-8255-012bcc7a21ea"
      },
      "source": [
        "incremento(hora_atual,3600)\n",
        "print(hora_atual.horas,\":\", hora_atual.minutos,\":\", hora_atual.segundos)"
      ],
      "execution_count": 62,
      "outputs": [
        {
          "output_type": "stream",
          "text": [
            "13 : 15 : 30\n"
          ],
          "name": "stdout"
        }
      ]
    },
    {
      "cell_type": "markdown",
      "metadata": {
        "id": "_CPdZ1d8mQau"
      },
      "source": [
        "**Convertendo incremento em um método**"
      ]
    },
    {
      "cell_type": "code",
      "metadata": {
        "id": "Mp0i4Zvlc2L4"
      },
      "source": [
        "class MeuTempo:\n",
        "    def __init__(self, hrs = 0, mins = 0, segs = 0):\n",
        "        \"\"\" Criar um objeto MeuTempo inicializado para hrs, mins, segs\"\"\"\n",
        "        \n",
        "        self.horas    = hrs \n",
        "        self.minutos  = mins\n",
        "        self.segundos = segs \n",
        "    \n",
        "    # Definições de outros métodos anteriores deve ir aqui...\n",
        "\n",
        "    def incremento (self, segs):\n",
        "        self.segundos += segs \n",
        "        \n",
        "        while self.segundos >= 60:\n",
        "            self.segundos -= 60\n",
        "            self.minutos += 1\n",
        "\n",
        "        while self.minutos  >= 60:\n",
        "            self.minutos -= 60\n",
        "            self.horas   += 1\n"
      ],
      "execution_count": 63,
      "outputs": []
    },
    {
      "cell_type": "code",
      "metadata": {
        "colab": {
          "base_uri": "https://localhost:8080/"
        },
        "id": "JgFjbZ3uesAL",
        "outputId": "fa6a21a3-a320-4903-b960-6d48986ddb0d"
      },
      "source": [
        "minha_hora = MeuTempo(13,10,1)\n",
        "minha_hora.incremento(500)            #Incrementar em 500 segundos = 8 minutos e 20 segundos\n",
        "print(minha_hora.horas,\":\", minha_hora.minutos,\":\", minha_hora.segundos)"
      ],
      "execution_count": 64,
      "outputs": [
        {
          "output_type": "stream",
          "text": [
            "13 : 18 : 21\n"
          ],
          "name": "stdout"
        }
      ]
    },
    {
      "cell_type": "markdown",
      "metadata": {
        "id": "zmWTKceEmAxL"
      },
      "source": [
        "**Outro exemplo método**\n"
      ]
    },
    {
      "cell_type": "code",
      "metadata": {
        "colab": {
          "base_uri": "https://localhost:8080/"
        },
        "id": "yqMDCl6nmFLZ",
        "outputId": "66826ceb-5549-46b7-b8a6-d8c6186b403d"
      },
      "source": [
        "class MeuTempo:\n",
        "    def __init__ (self, hrs = 0, mins = 0, segs = 0):\n",
        "        \"\"\"Criar um objeto MeuTempo inicializado para hrs, mins, segs\"\"\"\n",
        "        self.horas = hrs \n",
        "        self.minutos = mins\n",
        "        self.segundos = segs\n",
        "\n",
        "    #Definição de métodos anteriores aqui...\n",
        "    # bla bla incremento, __str__ etc.\n",
        "\n",
        "    def depois (self, time2):\n",
        "        \"\"\"Retorna True se self for estrimamente maior que time2\"\"\"\n",
        "        if self.horas > time2.horas:\n",
        "           return True\n",
        "        if self.horas < time2.horas:\n",
        "           return False\n",
        "\n",
        "        if self.minutos  > time2.minutos:\n",
        "           return True\n",
        "        if self.minutos  < time2.minutos:\n",
        "           return False\n",
        "        if self.segundos < time2.segundos:\n",
        "           return True\n",
        "        return False\n",
        "\n",
        "t1  = MeuTempo(10,55,12)\n",
        "t2  = MeuTempo(10,48,22)\n",
        "t1.depois(t2)            #é t1 após t2?\n"
      ],
      "execution_count": 65,
      "outputs": [
        {
          "output_type": "execute_result",
          "data": {
            "text/plain": [
              "True"
            ]
          },
          "metadata": {
            "tags": []
          },
          "execution_count": 65
        }
      ]
    },
    {
      "cell_type": "markdown",
      "metadata": {
        "id": "IhGp4Li1rJJK"
      },
      "source": [
        "**Sobrecarga de operadores**"
      ]
    },
    {
      "cell_type": "code",
      "metadata": {
        "id": "hqvonAPPqzFr"
      },
      "source": [
        "class MeuTempo:\n",
        "    # Métodos previamente definidos aqui...\n",
        "    def __init__ (self, hrs = 0, mins = 0, segs =0):\n",
        "        \"\"\" Criar um novo objeto MeuTempo inicializado para hrs, min, segs.\n",
        "        Os valores de mins e segs podem estar fora do intervalo de 0-59,\n",
        "        mas o objeto MeuTempo resultante será normalizado.\n",
        "        \"\"\"\n",
        "        #Calcular total de segundos para representar\n",
        "        self.totalsegs = hrs * 3600 + mins * 60 + segs\n",
        "        self.horas = self.totalsegs // 3600         # Divisão em h, m, s\n",
        "        restosegs = self.totalsegs % 3600\n",
        "        self.minutos = restosegs // 60\n",
        "        self.segundos = restosegs % 60\n",
        "        if self.horas >= 24:\n",
        "            self.horas = self.horas%24\n",
        "\n",
        "    def to_seconds(self):\n",
        "        \"\"\"Retorna o número de segundos representados por esta instância\"\"\"\n",
        "        return self.totalsegs\n",
        "\n",
        "    def __add__ (self, other):\n",
        "        \"\"\"Retorna a soma do tempo atual e outro, para utilizar com o símbolo +\"\"\"\n",
        "        return MeuTempo(0, 0, self.to_seconds() + other.to_seconds())\n",
        "\n",
        "    def __sub__ (self, other):          #exercício - subtração.\n",
        "        \"\"\"Retorna a subtração do tempo atual e outro, para utilizar o símbolo - \"\"\"\n",
        "        return MeuTempo(0,0,abs(self.to_seconds() - other.to_seconds()))\n",
        "\n",
        "    def __str__(self):\n",
        "       \"\"\"Retorna uma representação do objeto como string, legível para humanos.\"\"\"\n",
        "       return '%.2d:%.2d:%.2d' % (self.horas, self.minutos, self.segundos)"
      ],
      "execution_count": 78,
      "outputs": []
    },
    {
      "cell_type": "code",
      "metadata": {
        "colab": {
          "base_uri": "https://localhost:8080/"
        },
        "id": "RjcGO8Tf8WPP",
        "outputId": "13eb4e2f-f41a-43e5-f66f-fde4b0f67364"
      },
      "source": [
        "a = MeuTempo(1,40,30)\n",
        "b = MeuTempo(12,55,15)\n",
        "print(a,b)    #os dois tempos iniciais a e b\n",
        "print(a + b)  #o resultado da soma \"normalizada\"\n",
        "print(a,b)    #os valores de a e b não mudaram!!!"
      ],
      "execution_count": 79,
      "outputs": [
        {
          "output_type": "stream",
          "text": [
            "01:40:30 12:55:15\n",
            "14:35:45\n",
            "01:40:30 12:55:15\n"
          ],
          "name": "stdout"
        }
      ]
    },
    {
      "cell_type": "code",
      "metadata": {
        "colab": {
          "base_uri": "https://localhost:8080/"
        },
        "id": "Sp8Idpy79FET",
        "outputId": "17ebdcd5-5787-4537-daee-6e5d30168cdc"
      },
      "source": [
        "print(a,b)\n",
        "print(a - b)\n",
        "print(a,b)"
      ],
      "execution_count": 80,
      "outputs": [
        {
          "output_type": "stream",
          "text": [
            "01:40:30 12:55:15\n",
            "11:14:45\n",
            "01:40:30 12:55:15\n"
          ],
          "name": "stdout"
        }
      ]
    },
    {
      "cell_type": "code",
      "metadata": {
        "id": "zlXGKJFt_Lr7"
      },
      "source": [
        "class Ponto:\n",
        "    # Métodos previamente definidos aqui ...\n",
        "\n",
        "    def __add__ (self, other):\n",
        "        return Ponto( self.x + other.x, self.y + other.y)\n",
        "\n",
        "    def __mul__ (self, other):\n",
        "        return self.x * other.x + self.y * other.y\n"
      ],
      "execution_count": 81,
      "outputs": []
    },
    {
      "cell_type": "code",
      "metadata": {
        "id": "NKhiLBNTAmrU"
      },
      "source": [
        ""
      ],
      "execution_count": null,
      "outputs": []
    }
  ]
}