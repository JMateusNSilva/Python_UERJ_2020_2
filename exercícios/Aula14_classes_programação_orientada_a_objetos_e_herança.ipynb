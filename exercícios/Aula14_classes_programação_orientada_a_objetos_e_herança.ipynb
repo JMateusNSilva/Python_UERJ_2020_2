{
  "nbformat": 4,
  "nbformat_minor": 0,
  "metadata": {
    "colab": {
      "name": "Aula14_classes_programação_orientada_a_objetos_e_herança.ipynb",
      "provenance": [],
      "authorship_tag": "ABX9TyPg/0e4bFpju2TIuiuUBJKZ",
      "include_colab_link": true
    },
    "kernelspec": {
      "name": "python3",
      "display_name": "Python 3"
    }
  },
  "cells": [
    {
      "cell_type": "markdown",
      "metadata": {
        "id": "view-in-github",
        "colab_type": "text"
      },
      "source": [
        "<a href=\"https://colab.research.google.com/github/JMateusNSilva/python_uerj_2020_2/blob/master/exerc%C3%ADcios/Aula14_classes_programa%C3%A7%C3%A3o_orientada_a_objetos_e_heran%C3%A7a.ipynb\" target=\"_parent\"><img src=\"https://colab.research.google.com/assets/colab-badge.svg\" alt=\"Open In Colab\"/></a>"
      ]
    },
    {
      "cell_type": "code",
      "metadata": {
        "id": "NuMi_xKmxiAQ"
      },
      "source": [
        "class MeuTempo:\n",
        "    def __init__ (self, hrs = 0, mins = 0, segs = 0):\n",
        "        \"\"\" Criar um objeto MeuTempo inicializado para hrs, mins, segs\n",
        "        \"\"\"\n",
        "        self.horas = hrs\n",
        "        self.minutos = mins\n",
        "        self.segundos = segs\n",
        "\n",
        "    def __str__ (self):\n",
        "        \"\"\"Retorna o valor como uma representação de string\n",
        "        \"\"\"\n",
        "        return \"({0}:{1}:{2})\".format(self.horas,self.minutos,self.segundos)"
      ],
      "execution_count": 12,
      "outputs": []
    },
    {
      "cell_type": "code",
      "metadata": {
        "colab": {
          "base_uri": "https://localhost:8080/",
          "height": 71
        },
        "id": "tazUkB0v2cco",
        "outputId": "46648f8b-7341-4178-8231-35c1a76cd724"
      },
      "source": [
        "tim1 = MeuTempo(11,59,30)\n",
        "print(tim1)\n",
        "print(tim1.horas,\":\",tim1.minutos,\":\",tim1.segundos)\n",
        "str(tim1)"
      ],
      "execution_count": 13,
      "outputs": [
        {
          "output_type": "stream",
          "text": [
            "(11:59:30)\n",
            "11 : 59 : 30\n"
          ],
          "name": "stdout"
        },
        {
          "output_type": "execute_result",
          "data": {
            "application/vnd.google.colaboratory.intrinsic+json": {
              "type": "string"
            },
            "text/plain": [
              "'(11:59:30)'"
            ]
          },
          "metadata": {
            "tags": []
          },
          "execution_count": 13
        }
      ]
    }
  ]
}