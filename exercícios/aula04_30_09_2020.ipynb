{
  "nbformat": 4,
  "nbformat_minor": 0,
  "metadata": {
    "colab": {
      "name": "aula04_30_09_2020.ipynb",
      "provenance": [],
      "authorship_tag": "ABX9TyOPM1sEV6zfZa8PgPy6ZVz1",
      "include_colab_link": true
    },
    "kernelspec": {
      "name": "python3",
      "display_name": "Python 3"
    }
  },
  "cells": [
    {
      "cell_type": "markdown",
      "metadata": {
        "id": "view-in-github",
        "colab_type": "text"
      },
      "source": [
        "<a href=\"https://colab.research.google.com/github/JMateusNSilva/python_uerj_2020_2/blob/master/exerc%C3%ADcios/aula04_30_09_2020.ipynb\" target=\"_parent\"><img src=\"https://colab.research.google.com/assets/colab-badge.svg\" alt=\"Open In Colab\"/></a>"
      ]
    },
    {
      "cell_type": "markdown",
      "metadata": {
        "id": "Z6aL2l1CUMuK"
      },
      "source": [
        "**Aula 04 - dia 30 de outubro de 2020**\n",
        "\n",
        "**Professores:**\n",
        "*   Helena Malbouis\n",
        "*   Dilson de Jesus Damião\n",
        "\n",
        "**Aluno:** José Mateus Nobre da Silva\n"
      ]
    },
    {
      "cell_type": "markdown",
      "metadata": {
        "id": "U73ckwhmUnD4"
      },
      "source": [
        "**Exercício** Um objeto de função é um valor que você pode atribuir a uma variável ou passar como um argumento. Por exemplo, do_twice é uma função que usa um objeto de função como argumento e o cham duas vezes:"
      ]
    },
    {
      "cell_type": "code",
      "metadata": {
        "id": "5WR4zIniU7IQ"
      },
      "source": [
        "def do_twice (f):\n",
        "    f()\n",
        "    f()"
      ],
      "execution_count": 2,
      "outputs": []
    },
    {
      "cell_type": "markdown",
      "metadata": {
        "id": "xvz7TXywVOC-"
      },
      "source": [
        "Aqui está um exemplo que usa do_twice para chamar uma função chamada print_spam duas vezes."
      ]
    },
    {
      "cell_type": "code",
      "metadata": {
        "id": "J5K23grjT5Iy",
        "outputId": "ecf9a629-9887-4908-b5de-a9840f157628",
        "colab": {
          "base_uri": "https://localhost:8080/"
        }
      },
      "source": [
        "def print_spam():\n",
        "    print('spam')\n",
        "\n",
        "do_twice(print_spam)"
      ],
      "execution_count": 3,
      "outputs": [
        {
          "output_type": "stream",
          "text": [
            "spam\n",
            "spam\n"
          ],
          "name": "stdout"
        }
      ]
    },
    {
      "cell_type": "markdown",
      "metadata": {
        "id": "XC1pisatVl6_"
      },
      "source": [
        "Digite este exemplo em um script e texteo. Modifique do_twice para que sejam necessários dois argumentos, um objeto de função e um valor, e chame a função duas vezes, passando o valor como um argumento.\n",
        "\n",
        "Escreva uma versão mais geral de print_spam, chamada print_twice, que use uma string como parâmentro e imprima duas vezes. Use a versão modificada de do_twice para chamar print_twice duas vezes, passando 'spam' com um argumento. Defina uma nova função chamda do_four que recebe um objeto de função e um valor e chama a função quatro vezes, passando o valor como um parâmetro. Deve haver apenas duas declarações no corpo desta função, não quatro."
      ]
    },
    {
      "cell_type": "code",
      "metadata": {
        "id": "gG31DEj6Wf5g",
        "outputId": "e53501bd-acce-4ed8-dcfa-9137311879cc",
        "colab": {
          "base_uri": "https://localhost:8080/"
        }
      },
      "source": [
        "def do_twice(h,g):\n",
        "    h(g)\n",
        "    h(g)\n",
        "    \n",
        "\n",
        "def imprima_nome(arg):\n",
        "    print(arg)\n",
        "\n",
        "valor = 7.89\n",
        "\n",
        "do_twice(imprima_nome, valor)"
      ],
      "execution_count": 8,
      "outputs": [
        {
          "output_type": "stream",
          "text": [
            "7.89\n",
            "7.89\n"
          ],
          "name": "stdout"
        }
      ]
    },
    {
      "cell_type": "code",
      "metadata": {
        "id": "V-LEUbvJbD1i",
        "outputId": "7ea9c6de-a650-4f41-cd4e-b26f4f575109",
        "colab": {
          "base_uri": "https://localhost:8080/"
        }
      },
      "source": [
        "def do_four(f):\n",
        "  f(imprima_nome,valor)\n",
        "  f(imprima_nome, valor)\n",
        "\n",
        "do_four(do_twice)"
      ],
      "execution_count": 13,
      "outputs": [
        {
          "output_type": "stream",
          "text": [
            "7.89\n",
            "7.89\n",
            "7.89\n",
            "7.89\n"
          ],
          "name": "stdout"
        }
      ]
    }
  ]
}