{
  "nbformat": 4,
  "nbformat_minor": 0,
  "metadata": {
    "colab": {
      "name": "aula09_23_10_2020.ipynb",
      "provenance": [],
      "authorship_tag": "ABX9TyOt+AN466njbizxl3YyW4/T",
      "include_colab_link": true
    },
    "kernelspec": {
      "name": "python3",
      "display_name": "Python 3"
    }
  },
  "cells": [
    {
      "cell_type": "markdown",
      "metadata": {
        "id": "view-in-github",
        "colab_type": "text"
      },
      "source": [
        "<a href=\"https://colab.research.google.com/github/JMateusNSilva/python_uerj_2020_2/blob/master/exerc%C3%ADcios/aula09_23_10_2020.ipynb\" target=\"_parent\"><img src=\"https://colab.research.google.com/assets/colab-badge.svg\" alt=\"Open In Colab\"/></a>"
      ]
    },
    {
      "cell_type": "markdown",
      "metadata": {
        "id": "BGNzdfoOXXou"
      },
      "source": [
        "Aula 06 - dia 07 de outubro de 2020\n",
        "\n",
        "Professores:\n",
        "\n",
        "Helena Malbouis\n",
        "Dilson de Jesus Damião\n",
        "\n",
        "Aluno: José Mateus Nobre da Silva\n"
      ]
    },
    {
      "cell_type": "code",
      "metadata": {
        "id": "Doyl4nlvhV4m",
        "outputId": "4b4841d2-10e5-46ba-86f2-d4abf8201a9d",
        "colab": {
          "base_uri": "https://localhost:8080/",
          "height": 121
        }
      },
      "source": [
        "def dobrar_elementos(uma_lista):\n",
        "    \"\"\" Reescreve os elementos de uma_lista com o dobro de seus valores originais.\n",
        "    \"\"\"\n",
        "    for (i, valor) in enumerate(uma_lista):\n",
        "        novo_elem = 2 * valor\n",
        "        uma_lista[i] = novo_elem\n",
        "\n",
        "    return uma_lista\n",
        "\n",
        "minha_lista = [2, 4, 6]\n",
        "minha_lista2= [3, 5, 7]\n",
        "print(minha_lista)\n",
        "dobrar_elementos(minha_lista)\n",
        "print(minha_lista)\n",
        "print()\n",
        "\n",
        "print(\"Nova lista\")\n",
        "print(minha_lista2)\n",
        "dobrar_elementos(minha_lista2)\n",
        "print(minha_lista2)\n",
        "print()\n",
        "\n",
        "#clone_lista = minha_lista[:]\n",
        "#clone_lista\n"
      ],
      "execution_count": 5,
      "outputs": [
        {
          "output_type": "stream",
          "text": [
            "[2, 4, 6]\n",
            "[4, 8, 12]\n",
            "\n",
            "Nova lista\n",
            "[3, 5, 7]\n",
            "[6, 10, 14]\n"
          ],
          "name": "stdout"
        }
      ]
    }
  ]
}