{
  "nbformat": 4,
  "nbformat_minor": 0,
  "metadata": {
    "colab": {
      "name": "aula09_23_10_2020.ipynb",
      "provenance": [],
      "authorship_tag": "ABX9TyOin3f3Z/ox4DfctKumzHBM",
      "include_colab_link": true
    },
    "kernelspec": {
      "name": "python3",
      "display_name": "Python 3"
    }
  },
  "cells": [
    {
      "cell_type": "markdown",
      "metadata": {
        "id": "view-in-github",
        "colab_type": "text"
      },
      "source": [
        "<a href=\"https://colab.research.google.com/github/JMateusNSilva/python_uerj_2020_2/blob/master/exerc%C3%ADcios/aula09_23_10_2020.ipynb\" target=\"_parent\"><img src=\"https://colab.research.google.com/assets/colab-badge.svg\" alt=\"Open In Colab\"/></a>"
      ]
    },
    {
      "cell_type": "markdown",
      "metadata": {
        "id": "BGNzdfoOXXou"
      },
      "source": [
        "Aula 09 - dia 23 de outubro de 2020\n",
        "\n",
        "Professores:\n",
        "\n",
        "Helena Malbouis\n",
        "Dilson de Jesus Damião\n",
        "\n",
        "Aluno: José Mateus Nobre da Silva\n"
      ]
    },
    {
      "cell_type": "code",
      "metadata": {
        "id": "Doyl4nlvhV4m",
        "outputId": "4b4841d2-10e5-46ba-86f2-d4abf8201a9d",
        "colab": {
          "base_uri": "https://localhost:8080/",
          "height": 121
        }
      },
      "source": [
        "def dobrar_elementos(uma_lista):\n",
        "    \"\"\" Reescreve os elementos de uma_lista com o dobro de seus valores originais.\n",
        "    \"\"\"\n",
        "    for (i, valor) in enumerate(uma_lista):\n",
        "        novo_elem = 2 * valor\n",
        "        uma_lista[i] = novo_elem\n",
        "\n",
        "    return uma_lista\n",
        "\n",
        "minha_lista = [2, 4, 6]\n",
        "minha_lista2= [3, 5, 7]\n",
        "print(minha_lista)\n",
        "dobrar_elementos(minha_lista)\n",
        "print(minha_lista)\n",
        "print()\n",
        "\n",
        "print(\"Nova lista\")\n",
        "print(minha_lista2)\n",
        "dobrar_elementos(minha_lista2)\n",
        "print(minha_lista2)\n",
        "print()\n",
        "\n",
        "#clone_lista = minha_lista[:]\n",
        "#clone_lista\n"
      ],
      "execution_count": null,
      "outputs": [
        {
          "output_type": "stream",
          "text": [
            "[2, 4, 6]\n",
            "[4, 8, 12]\n",
            "\n",
            "Nova lista\n",
            "[3, 5, 7]\n",
            "[6, 10, 14]\n"
          ],
          "name": "stdout"
        }
      ]
    },
    {
      "cell_type": "markdown",
      "metadata": {
        "id": "S2yHsL5Stw2Q"
      },
      "source": [
        "**Exercício 02** - Estude os métodos do módulo os e faça um script que liste todos os arquivos de um diretório assim como de seus subdiretórios.** Dica**: use o método walk."
      ]
    },
    {
      "cell_type": "markdown",
      "metadata": {
        "id": "mM0A0rXMt7eS"
      },
      "source": [
        "O módulo os fornece funções para trabalhar com arquivos e diretórios (\"os\" é abreviação de \"sistema operacional\" em inglês)."
      ]
    },
    {
      "cell_type": "markdown",
      "metadata": {
        "id": "nTHbrj91ga1h"
      },
      "source": [
        "O método **walk()** gera os nomes dos arquivos em um diretório arvore andando a arvore tanto de baixo para cima como de cima para baixo.\n",
        "\n",
        "**sintaxe**: Segue a sintaxe para o método wakl().\n",
        "\n",
        "\n",
        "*   os.walk(top[,topdown=True[, onerror = None[, followlinks=False]]])\n",
        "\n",
        "**Parametros**: \n",
        "\n",
        "\n",
        "*   **top** - Cada diretório enraizado em um diretório, produz 3-tuples, i.e. (dirpath, dirnames, filenames)\n",
        "*   **topdown** - Se argumento opcional topdown é verdadeiro ou não especificado, diretórios são escaneados a partir de cima para baixo. Se topdown é configurado Falso, diretórios são escaneados de baixo para cima.\n",
        "*   **onerror** - Este parâmetro pode mostrar erros com o walk, ou aumentar a excessão para abortar o walk.\n",
        "*   **followlinks** - Este parâmetro visita diretórios apontados para symlinks(links símbolicos), se configurado para verdadeiro.\n",
        "\n",
        "**Valor de retorno** - Este método retorna um valor\n",
        "\n",
        "\n",
        "\n",
        "\n",
        "\n",
        "\n",
        "\n",
        "\n"
      ]
    },
    {
      "cell_type": "code",
      "metadata": {
        "id": "hfpHVlUULRLI",
        "outputId": "216182fa-ce14-49f7-ad7b-9592bace932d",
        "colab": {
          "base_uri": "https://localhost:8080/"
        }
      },
      "source": [
        "#Importa o modulo que fornece funções que trabalha com os arquivos e diretórios\n",
        "import os \n",
        "\n",
        "for root, dirs, files in os.walk(\"/content\", topdown=False):\n",
        "    for name in files:\n",
        "        print(os.path.join(root, name))\n",
        "    for name in dirs:\n",
        "        print(os.path.join(root, name))\n",
        "\n"
      ],
      "execution_count": 18,
      "outputs": [
        {
          "output_type": "stream",
          "text": [
            "/content/.config/logs/2020.10.28/16.30.09.899674.log\n",
            "/content/.config/logs/2020.10.28/16.29.12.726433.log\n",
            "/content/.config/logs/2020.10.28/16.30.09.212553.log\n",
            "/content/.config/logs/2020.10.28/16.29.33.370106.log\n",
            "/content/.config/logs/2020.10.28/16.29.47.988493.log\n",
            "/content/.config/logs/2020.10.28/16.29.53.609256.log\n",
            "/content/.config/logs/2020.10.28\n",
            "/content/.config/configurations/config_default\n",
            "/content/.config/active_config\n",
            "/content/.config/gce\n",
            "/content/.config/.last_opt_in_prompt.yaml\n",
            "/content/.config/.last_update_check.json\n",
            "/content/.config/.last_survey_prompt.yaml\n",
            "/content/.config/config_sentinel\n",
            "/content/.config/.metricsUUID\n",
            "/content/.config/logs\n",
            "/content/.config/configurations\n",
            "/content/sample_data/README.md\n",
            "/content/sample_data/anscombe.json\n",
            "/content/sample_data/mnist_test.csv\n",
            "/content/sample_data/california_housing_test.csv\n",
            "/content/sample_data/california_housing_train.csv\n",
            "/content/sample_data/mnist_train_small.csv\n",
            "/content/.config\n",
            "/content/sample_data\n"
          ],
          "name": "stdout"
        }
      ]
    },
    {
      "cell_type": "code",
      "metadata": {
        "id": "HKAFP5rcMDoM",
        "outputId": "543d1954-6a5a-436d-8806-611b2c2aac74",
        "colab": {
          "base_uri": "https://localhost:8080/",
          "height": 36
        }
      },
      "source": [
        "os.getcwd()\n"
      ],
      "execution_count": 8,
      "outputs": [
        {
          "output_type": "execute_result",
          "data": {
            "application/vnd.google.colaboratory.intrinsic+json": {
              "type": "string"
            },
            "text/plain": [
              "'/content'"
            ]
          },
          "metadata": {
            "tags": []
          },
          "execution_count": 8
        }
      ]
    },
    {
      "cell_type": "code",
      "metadata": {
        "id": "VP3peSK9v45P",
        "outputId": "a4cb27c1-cb92-4434-f8bd-5ec3251c07ac",
        "colab": {
          "base_uri": "https://localhost:8080/"
        }
      },
      "source": [
        "import os\n",
        "\n",
        "def walk(nome_diretorio):\n",
        "    for nome in os.listdir(nome_diretorio):           # o comando os.listdir retorna uma lista de arquivos e ou diretórios no diretório dado.\n",
        "        caminho = os.path.join(nome_diretorio, nome)  # o comando os.path.join recebe um diretório e um nome de arquivo e os une em um caminho completo\n",
        "        if os.path.isfile(caminho):                   # o comando os.path.isfile verifica se é arquivo ou não\n",
        "            print(caminho)\n",
        "        else:\n",
        "            walk(caminho)\n",
        "\n",
        "walk(\"/content\")\n"
      ],
      "execution_count": 16,
      "outputs": [
        {
          "output_type": "stream",
          "text": [
            "/content/.config/active_config\n",
            "/content/.config/logs/2020.10.28/16.30.09.899674.log\n",
            "/content/.config/logs/2020.10.28/16.29.12.726433.log\n",
            "/content/.config/logs/2020.10.28/16.30.09.212553.log\n",
            "/content/.config/logs/2020.10.28/16.29.33.370106.log\n",
            "/content/.config/logs/2020.10.28/16.29.47.988493.log\n",
            "/content/.config/logs/2020.10.28/16.29.53.609256.log\n",
            "/content/.config/gce\n",
            "/content/.config/.last_opt_in_prompt.yaml\n",
            "/content/.config/.last_update_check.json\n",
            "/content/.config/.last_survey_prompt.yaml\n",
            "/content/.config/configurations/config_default\n",
            "/content/.config/config_sentinel\n",
            "/content/.config/.metricsUUID\n",
            "/content/sample_data/README.md\n",
            "/content/sample_data/anscombe.json\n",
            "/content/sample_data/mnist_test.csv\n",
            "/content/sample_data/california_housing_test.csv\n",
            "/content/sample_data/california_housing_train.csv\n",
            "/content/sample_data/mnist_train_small.csv\n"
          ],
          "name": "stdout"
        }
      ]
    },
    {
      "cell_type": "markdown",
      "metadata": {
        "id": "V3NEXkS1cs_x"
      },
      "source": [
        "**Exercício 03** - Reescreva o script dessa aula, **lcount.py** na forma de um módulo. Qual o valor da variável __name__ quando o módulo é importado?"
      ]
    },
    {
      "cell_type": "code",
      "metadata": {
        "id": "JRb7j7xLLw-J",
        "outputId": "e7d7e2ee-29d2-4843-b9b4-384196d25bc5",
        "colab": {
          "base_uri": "https://localhost:8080/"
        }
      },
      "source": [
        "%%writefile lcount.py\n",
        "\"\"\"Conta o número de linhas em um arquivo.py que é usado como módulo.\n",
        "\"\"\"\n",
        "def linecount(filename):\n",
        "    count = 0\n",
        "    for line in open(filename):\n",
        "        count += 1\n",
        "    return count\n",
        "\n",
        "linecount('lcount.py')"
      ],
      "execution_count": 42,
      "outputs": [
        {
          "output_type": "stream",
          "text": [
            "Overwriting lcount.py\n"
          ],
          "name": "stdout"
        }
      ]
    },
    {
      "cell_type": "code",
      "metadata": {
        "id": "pp9mm_b-3BHn",
        "outputId": "6c24f546-a631-489e-86cf-3bd23cf75068",
        "colab": {
          "base_uri": "https://localhost:8080/"
        }
      },
      "source": [
        "%cat lcount.py"
      ],
      "execution_count": 43,
      "outputs": [
        {
          "output_type": "stream",
          "text": [
            "\"\"\"Conta o número de linhas em um arquivo.py que é usado como módulo.\n",
            "\"\"\"\n",
            "def linecount(filename):\n",
            "    count = 0\n",
            "    for line in open(filename):\n",
            "        count += 1\n",
            "    return count\n",
            "\n",
            "linecount('lcount.py')"
          ],
          "name": "stdout"
        }
      ]
    },
    {
      "cell_type": "code",
      "metadata": {
        "id": "MN9XyFIZHSgC"
      },
      "source": [
        "from lcount import linecount"
      ],
      "execution_count": 48,
      "outputs": []
    },
    {
      "cell_type": "code",
      "metadata": {
        "id": "lYVLzviY_ebT",
        "outputId": "9d303822-959b-418a-a475-a867613199e7",
        "colab": {
          "base_uri": "https://localhost:8080/"
        }
      },
      "source": [
        "linecount('lcount.py')"
      ],
      "execution_count": 49,
      "outputs": [
        {
          "output_type": "execute_result",
          "data": {
            "text/plain": [
              "9"
            ]
          },
          "metadata": {
            "tags": []
          },
          "execution_count": 49
        }
      ]
    },
    {
      "cell_type": "code",
      "metadata": {
        "id": "xUraqike_iPL",
        "outputId": "35cb3ce3-246d-45dd-8b52-69ac665a0d6c",
        "colab": {
          "base_uri": "https://localhost:8080/"
        }
      },
      "source": [
        "if __name__ == '__main__':\n",
        "      print(linecount('lcount.py'))"
      ],
      "execution_count": 50,
      "outputs": [
        {
          "output_type": "stream",
          "text": [
            "9\n"
          ],
          "name": "stdout"
        }
      ]
    },
    {
      "cell_type": "markdown",
      "metadata": {
        "id": "gITuyNMNLLY-"
      },
      "source": [
        "_ _ name _ _ é uma variável integrada, estabelecida quando o programa inicia. Se o programa estiver rodando como um script, _ _ name _ _ tem o valor '_ _ main _ _ ; neste caso, o código de teste é executado. Do contrário, se o módulo está sendo importado, o código de teste é ignorado."
      ]
    },
    {
      "cell_type": "code",
      "metadata": {
        "id": "B5r8uErNPdmD",
        "outputId": "98fd6332-c85c-421c-b87b-68b173e2eff4",
        "colab": {
          "base_uri": "https://localhost:8080/",
          "height": 36
        }
      },
      "source": [
        "__name__"
      ],
      "execution_count": 51,
      "outputs": [
        {
          "output_type": "execute_result",
          "data": {
            "application/vnd.google.colaboratory.intrinsic+json": {
              "type": "string"
            },
            "text/plain": [
              "'__main__'"
            ]
          },
          "metadata": {
            "tags": []
          },
          "execution_count": 51
        }
      ]
    },
    {
      "cell_type": "code",
      "metadata": {
        "id": "8DvYqRD2ME_D",
        "outputId": "a01883cc-6e29-4e3e-ebec-1e2c14ab59de",
        "colab": {
          "base_uri": "https://localhost:8080/"
        }
      },
      "source": [
        "if __name__ == '__main__':\n",
        "    print(linecount('lcount.py'))"
      ],
      "execution_count": 54,
      "outputs": [
        {
          "output_type": "stream",
          "text": [
            "9\n"
          ],
          "name": "stdout"
        }
      ]
    },
    {
      "cell_type": "code",
      "metadata": {
        "id": "IXxt1SpjPpeN",
        "outputId": "125e6175-9efd-4f0d-df75-dbdcfdc318c5",
        "colab": {
          "base_uri": "https://localhost:8080/",
          "height": 36
        }
      },
      "source": [
        "__name__"
      ],
      "execution_count": 55,
      "outputs": [
        {
          "output_type": "execute_result",
          "data": {
            "application/vnd.google.colaboratory.intrinsic+json": {
              "type": "string"
            },
            "text/plain": [
              "'__main__'"
            ]
          },
          "metadata": {
            "tags": []
          },
          "execution_count": 55
        }
      ]
    }
  ]
}