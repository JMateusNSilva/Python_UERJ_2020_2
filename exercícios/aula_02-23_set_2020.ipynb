{
  "nbformat": 4,
  "nbformat_minor": 0,
  "metadata": {
    "colab": {
      "name": "aula_02-23_set_2020.ipynb",
      "provenance": [],
      "authorship_tag": "ABX9TyPQqMCke0B0hqWIvuSAQZtd",
      "include_colab_link": true
    },
    "kernelspec": {
      "name": "python3",
      "display_name": "Python 3"
    }
  },
  "cells": [
    {
      "cell_type": "markdown",
      "metadata": {
        "id": "view-in-github",
        "colab_type": "text"
      },
      "source": [
        "<a href=\"https://colab.research.google.com/github/JMateusNSilva/python_uerj_2020_2/blob/master/exerc%C3%ADcios/aula_02-23_set_2020.ipynb\" target=\"_parent\"><img src=\"https://colab.research.google.com/assets/colab-badge.svg\" alt=\"Open In Colab\"/></a>"
      ]
    },
    {
      "cell_type": "markdown",
      "metadata": {
        "id": "uBzqp7lX6pIP"
      },
      "source": [
        "Aula 02 - 23/set/2020\n",
        "Profa. Helena Malbouis\n",
        "\n",
        "**Exercício twiki** - Aula 01"
      ]
    },
    {
      "cell_type": "markdown",
      "metadata": {
        "id": "Ep7JsmWy9NdL"
      },
      "source": [
        "**Questão 1**- Se você fizer uma corrida de 10 quilômetros em 43 minutos e 30 segundos, qual será seu temopo médio por milha? Qual é a sua velocidade média por hora? (Dica: há 1,61 quilômeotros em uma milha)\n",
        "\n",
        "Este exercício foi realizado no notebook **Aula 01 - 18/ set/ 2020**"
      ]
    },
    {
      "cell_type": "markdown",
      "metadata": {
        "id": "_bdkHold99tv"
      },
      "source": [
        "**Questão 02** - Desde seua varanda você escuta o som do primeiro fogo artificial do reveillon 3 segundos depois de ver a luz, qual a distância? ( som tem velocidade 343 m/s e a luz $3\\times 10^8$ m/s)."
      ]
    },
    {
      "cell_type": "code",
      "metadata": {
        "id": "wtD9JWMu9Gb1",
        "outputId": "749f7008-91c7-4f38-9225-f44e39870bba",
        "colab": {
          "base_uri": "https://localhost:8080/",
          "height": 34
        }
      },
      "source": [
        "#Inserindo valores nas variáveis\n",
        "vel_som = 343   # em metros por segundo\n",
        "t = 3           # tempo em segundos\n",
        "s0 = 0          # velocidade inicial\n",
        "\n",
        "#Realizando a conta para a distância percorrida pelo som em 3 segundos\n",
        "s = s0 + vel_som * t  # cálculo da distância percorrida pelo som\n",
        "\n",
        "#Imprimindo o resultado na tela\n",
        "print(f'A distância percorrida foi de: {s:.2f} m')"
      ],
      "execution_count": null,
      "outputs": [
        {
          "output_type": "stream",
          "text": [
            "A distância percorrida foi de: 1029.00 m\n"
          ],
          "name": "stdout"
        }
      ]
    },
    {
      "cell_type": "markdown",
      "metadata": {
        "id": "CK6YjkUQBRRM"
      },
      "source": [
        "**Questão 03** - Ache os zeros da função $y = 3x^2 - 4x - 10$."
      ]
    },
    {
      "cell_type": "code",
      "metadata": {
        "id": "z-pskjmbBQ1x",
        "outputId": "79ae2964-aefb-47d6-e492-c5aa48ef00ca",
        "colab": {
          "base_uri": "https://localhost:8080/",
          "height": 34
        }
      },
      "source": [
        "# Programa que acha o zero da função Y = 3x^2 - 4x -10\n",
        "#---------------\n",
        "\n",
        "#Inserindo os valores nas variáveis\n",
        "a = 3\n",
        "b = -4\n",
        "c = -10\n",
        "\n",
        "#calculando Δ \n",
        "delta = b**2 - 4*a*c\n",
        "\n",
        "# Valor para x1\n",
        "x1 = (-b - (delta)**(1/2) )/(2*a)\n",
        "\n",
        "# Valor para x2\n",
        "x2 = (-b + (delta)**(1/2) )/(2*a)\n",
        "\n",
        "#Imprimindo os resultados\n",
        "\n",
        "print(f'Os valores de x que levam a função y a zero são: {x1:.2f} e {x2:.2f}' )\n"
      ],
      "execution_count": null,
      "outputs": [
        {
          "output_type": "stream",
          "text": [
            "Os valores de x que levam a função y a zero são: -1.28 e 2.61\n"
          ],
          "name": "stdout"
        }
      ]
    },
    {
      "cell_type": "markdown",
      "metadata": {
        "id": "EzSt6heTJ030"
      },
      "source": [
        "**Questão 4** - Se, ao meio dia, a sombra de um poste de 5 m de altura tem apesnas 50 cm de comprimento no chão, qual o ângulo zenital do Sol?"
      ]
    },
    {
      "cell_type": "code",
      "metadata": {
        "id": "TJz1zQ-oKJWB",
        "outputId": "8e7cae64-aee3-4ccd-94c9-60dee1641d51",
        "colab": {
          "base_uri": "https://localhost:8080/",
          "height": 34
        }
      },
      "source": [
        "# O ângulo zenital é o ângulo formado entre o raio de sol sobre o poste e o poste.\n",
        "# Precisamos calcular a tg do angulo formado entre o raio de sol e o poste\n",
        "# A sobra do poste devido ao raio de sol é de 0,50 cm = 0,5 m\n",
        "# A altura do poste é de 5 metros\n",
        "\n",
        "#Declarando os valores das variáveis\n",
        "cat_oposto = 0.5\n",
        "cat_adj = 5\n",
        "tan_theta = 0.5/5\n",
        "\n",
        "# Imprimindo na tela\n",
        "print(f'O angulo zenital é {tan_theta:.2f} graus')"
      ],
      "execution_count": null,
      "outputs": [
        {
          "output_type": "stream",
          "text": [
            "O angulo zenital é 0.10 graus\n"
          ],
          "name": "stdout"
        }
      ]
    },
    {
      "cell_type": "markdown",
      "metadata": {
        "id": "sFoZdhMgN5V8"
      },
      "source": [
        "**Questão 5** - Calcule o seu $IMC = \\frac{M}{A^2}$ ( com  a massa em Kg e a altura em metros). Um valor saudável estará me geral entre 20-25. Um bebê de 6 meses \"gorducho\"tem 7- cm de \"comprimento\" e 11 kg de mass, qual o IMC dele?"
      ]
    },
    {
      "cell_type": "code",
      "metadata": {
        "id": "QwXAimf3BFV6",
        "outputId": "3ee35d46-3df0-4064-8e1b-1df931c88b31",
        "colab": {
          "base_uri": "https://localhost:8080/",
          "height": 86
        }
      },
      "source": [
        "#Programa para calcular o IMC\n",
        "\n",
        "#declarando valores de variáveis\n",
        "\n",
        "print('Meu IMC')\n",
        "print('Valor IMC de uma pessoa saúdavel está entre 20 e 25.')\n",
        "\n",
        "massa_minha = 91      # minha massa corporal em kg\n",
        "altura_minha = 1.83   # minha altura\n",
        "\n",
        "#cálculo para IMC\n",
        "imc = massa_minha / altura_minha**2\n",
        "\n",
        "print(f'Valor do meu IMC = {imc:0.2f}.')\n",
        "\n",
        "#Cálculo para um bêbe gorducho com 70 cm de comprimento e 11 kg de massa.\n",
        "\n",
        "massa_bebe = 11     # massa do bêbe em kg\n",
        "altura_bebe = 0.7   # altura do bêbe em metros\n",
        "\n",
        "imc_bebe = massa_bebe / altura_bebe**2\n",
        "\n",
        "print(f'Valor do IMC do bebe = {imc_bebe:0.2f}')"
      ],
      "execution_count": 6,
      "outputs": [
        {
          "output_type": "stream",
          "text": [
            "Meu IMC\n",
            "Valor IMC de uma pessoa saúdavel está entre 20 e 25.\n",
            "Valor do meu IMC = 27.17.\n",
            "Valor do IMC do bebe = 22.45\n"
          ],
          "name": "stdout"
        }
      ]
    },
    {
      "cell_type": "markdown",
      "metadata": {
        "id": "qXnVUNIhy0-c"
      },
      "source": [
        "**Questão 06** - Calcule a velocidade final de um objeto em queda livre a partir de 3 metros de altura (sem resistência do ar). Calcule o tempo que esse objeto demora para cair."
      ]
    },
    {
      "cell_type": "code",
      "metadata": {
        "id": "17_8SMDpz0RT",
        "outputId": "adef3ffa-81c7-4dad-c29c-f2458be143b3",
        "colab": {
          "base_uri": "https://localhost:8080/",
          "height": 34
        }
      },
      "source": [
        "# Calculando a velocidade final após 3 metros de queda\n",
        "\n",
        "delta_h = 3         # Distância percorrida pelo objeto em queda\n",
        "g = 9.8             # aceleração da gravidade\n",
        "\n",
        "# Calculo usando V^2 = V_0^2 + 2gΔh\n",
        "\n",
        "veloc_final = 0 + 2*g*delta_h\n",
        "\n",
        "print(f'A velocidade final atingida após 3 metros de queda é de: {veloc_final:0.2f} metros')"
      ],
      "execution_count": 8,
      "outputs": [
        {
          "output_type": "stream",
          "text": [
            "A velocidade final atingida após 3 metros de queda é de: 58.80 metros\n"
          ],
          "name": "stdout"
        }
      ]
    }
  ]
}