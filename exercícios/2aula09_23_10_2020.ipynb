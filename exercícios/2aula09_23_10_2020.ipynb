{
  "nbformat": 4,
  "nbformat_minor": 0,
  "metadata": {
    "colab": {
      "name": "aula09_23_10_2020.ipynb",
      "provenance": [],
      "authorship_tag": "ABX9TyNMTkBStO3vCWaALho1cl46",
      "include_colab_link": true
    },
    "kernelspec": {
      "name": "python3",
      "display_name": "Python 3"
    }
  },
  "cells": [
    {
      "cell_type": "markdown",
      "metadata": {
        "id": "view-in-github",
        "colab_type": "text"
      },
      "source": [
        "<a href=\"https://colab.research.google.com/github/JMateusNSilva/python_uerj_2020_2/blob/master/exerc%C3%ADcios/2aula09_23_10_2020.ipynb\" target=\"_parent\"><img src=\"https://colab.research.google.com/assets/colab-badge.svg\" alt=\"Open In Colab\"/></a>"
      ]
    },
    {
      "cell_type": "markdown",
      "metadata": {
        "id": "BGNzdfoOXXou"
      },
      "source": [
        "Aula 09 - dia 23 de outubro de 2020\n",
        "\n",
        "Professores:\n",
        "\n",
        "Helena Malbouis\n",
        "Dilson de Jesus Damião\n",
        "\n",
        "Aluno: José Mateus Nobre da Silva\n"
      ]
    },
    {
      "cell_type": "code",
      "metadata": {
        "id": "XWwgyPZgSW5f",
        "outputId": "5997c3ad-6b49-4691-db78-aabca4b2dc91",
        "colab": {
          "base_uri": "https://localhost:8080/"
        }
      },
      "source": [
        "%%writefile dados_alunos.txt\n",
        "18\t1.68\t80\n",
        "18\t1.94\t60\n",
        "18\t1.7\t80\n",
        "18\t1.76\t66\n",
        "19\t1.73\t87.5\n",
        "18\t1.66\t58\n",
        "21\t1.8\t92\n",
        "18\t1.6\t57\n",
        "18\t1.67\t64\n",
        "18\t1.73\t57\n",
        "17\t1.73\t75\n",
        "18\t1.61\t59\n",
        "18\t1.69\t90\n",
        "17\t1.71\t67\n",
        "19\t1.78\t60\n",
        "22\t1.68\t72\n",
        "18\t1.7\t73\n",
        "19\t1.64\t86\n",
        "18\t1.64\t75\n",
        "20\t1.8\t95\n",
        "17\t1.75\t60\n",
        "18\t1.78\t75\n",
        "18\t1.75\t65\n",
        "17\t1.69\t60\n",
        "19\t1.78\t73\n",
        "18\t1.7\t63\n",
        "34\t1.75\t78\n",
        "18\t1.64\t64\n",
        "19\t1.75\t50\n",
        "18\t1.67\t61\n",
        "18\t1.7\t70\n",
        "20\t1.8\t60\n",
        "18\t1.63\t57\n",
        "23\t1.89\t110\n",
        "18\t1.71\t71\n",
        "18\t1.65\t65\n",
        "17\t1.72\t67\n",
        "19\t1.65\t58\n",
        "18\t1.75\t90\n",
        "18\t1.7\t64\n",
        "19\t1.81\t70\n",
        "19\t1.65\t43\n",
        "28\t1.52\t50\n",
        "19\t1.79\t78\n",
        "26\t1.79\t82\n",
        "19\t1.75\t61\n",
        "19\t1.8\t70\n",
        "20\t1.75\t70\n",
        "20\t1.73\t70\n",
        "19\t1.7\t50\n",
        "22\t1.78\t72\n",
        "19\t1.77\t55\n",
        "18\t1.53\t58\n",
        "28\t1.54\t50\n",
        "20\t1.83\t70\n",
        "44\t1.85\t90\n",
        "18\t1.6\t51"
      ],
      "execution_count": 1,
      "outputs": [
        {
          "output_type": "stream",
          "text": [
            "Writing dados_alunos.txt\n"
          ],
          "name": "stdout"
        }
      ]
    },
    {
      "cell_type": "code",
      "metadata": {
        "id": "TQu6IE9UcfXz",
        "outputId": "d4d96c10-f043-4a8a-fd8f-db577a24b609",
        "colab": {
          "base_uri": "https://localhost:8080/"
        }
      },
      "source": [
        "%cat dados_alunos.txt"
      ],
      "execution_count": 71,
      "outputs": [
        {
          "output_type": "stream",
          "text": [
            "18\t1.68\t80\n",
            "18\t1.94\t60\n",
            "18\t1.7\t80\n",
            "18\t1.76\t66\n",
            "19\t1.73\t87.5\n",
            "18\t1.66\t58\n",
            "21\t1.8\t92\n",
            "18\t1.6\t57\n",
            "18\t1.67\t64\n",
            "18\t1.73\t57\n",
            "17\t1.73\t75\n",
            "18\t1.61\t59\n",
            "18\t1.69\t90\n",
            "17\t1.71\t67\n",
            "19\t1.78\t60\n",
            "22\t1.68\t72\n",
            "18\t1.7\t73\n",
            "19\t1.64\t86\n",
            "18\t1.64\t75\n",
            "20\t1.8\t95\n",
            "17\t1.75\t60\n",
            "18\t1.78\t75\n",
            "18\t1.75\t65\n",
            "17\t1.69\t60\n",
            "19\t1.78\t73\n",
            "18\t1.7\t63\n",
            "34\t1.75\t78\n",
            "18\t1.64\t64\n",
            "19\t1.75\t50\n",
            "18\t1.67\t61\n",
            "18\t1.7\t70\n",
            "20\t1.8\t60\n",
            "18\t1.63\t57\n",
            "23\t1.89\t110\n",
            "18\t1.71\t71\n",
            "18\t1.65\t65\n",
            "17\t1.72\t67\n",
            "19\t1.65\t58\n",
            "18\t1.75\t90\n",
            "18\t1.7\t64\n",
            "19\t1.81\t70\n",
            "19\t1.65\t43\n",
            "28\t1.52\t50\n",
            "19\t1.79\t78\n",
            "26\t1.79\t82\n",
            "19\t1.75\t61\n",
            "19\t1.8\t70\n",
            "20\t1.75\t70\n",
            "20\t1.73\t70\n",
            "19\t1.7\t50\n",
            "22\t1.78\t72\n",
            "19\t1.77\t55\n",
            "18\t1.53\t58\n",
            "28\t1.54\t50\n",
            "20\t1.83\t70\n",
            "44\t1.85\t90\n",
            "18\t1.6\t51"
          ],
          "name": "stdout"
        }
      ]
    },
    {
      "cell_type": "code",
      "metadata": {
        "id": "Doyl4nlvhV4m",
        "outputId": "4b4841d2-10e5-46ba-86f2-d4abf8201a9d",
        "colab": {
          "base_uri": "https://localhost:8080/",
          "height": 121
        }
      },
      "source": [
        "def dobrar_elementos(uma_lista):\n",
        "    \"\"\" Reescreve os elementos de uma_lista com o dobro de seus valores originais.\n",
        "    \"\"\"\n",
        "    for (i, valor) in enumerate(uma_lista):\n",
        "        novo_elem = 2 * valor\n",
        "        uma_lista[i] = novo_elem\n",
        "\n",
        "    return uma_lista\n",
        "\n",
        "minha_lista = [2, 4, 6]\n",
        "minha_lista2= [3, 5, 7]\n",
        "print(minha_lista)\n",
        "dobrar_elementos(minha_lista)\n",
        "print(minha_lista)\n",
        "print()\n",
        "\n",
        "print(\"Nova lista\")\n",
        "print(minha_lista2)\n",
        "dobrar_elementos(minha_lista2)\n",
        "print(minha_lista2)\n",
        "print()\n",
        "\n",
        "#clone_lista = minha_lista[:]\n",
        "#clone_lista\n"
      ],
      "execution_count": null,
      "outputs": [
        {
          "output_type": "stream",
          "text": [
            "[2, 4, 6]\n",
            "[4, 8, 12]\n",
            "\n",
            "Nova lista\n",
            "[3, 5, 7]\n",
            "[6, 10, 14]\n"
          ],
          "name": "stdout"
        }
      ]
    },
    {
      "cell_type": "markdown",
      "metadata": {
        "id": "CjTv_P-Wts1O"
      },
      "source": [
        "**Exercício 01** - Utilizando um arquivo de dados com várias colunas( por exemplo, o arquivo dados_alunos.txt), faça um histograma com os dados de cada uma das colunas. **Dica:** Utilize o matplotlib para fazer os histogramas."
      ]
    },
    {
      "cell_type": "code",
      "metadata": {
        "id": "5IXt7RqdIYBQ",
        "outputId": "ded50f0f-e24b-4b8f-8cc8-3048b883f248",
        "colab": {
          "base_uri": "https://localhost:8080/",
          "height": 823
        }
      },
      "source": [
        "def ler_arquivos(nome_do_arquivo, j):     # j nome da coluna de dados\n",
        "    \"\"\" Esta função abre um arquivo e organiza cada colunas de um arquivo em uma lista em linha.\n",
        "    \"\"\"\n",
        "   \n",
        "#-----------------------------------------\n",
        "#---Abrindo e lendo o arquivo desejado que é apresentado em uma única lista.\n",
        "#-----------------------------------------\n",
        "    fin = open(nome_do_arquivo)          # abre o arquivo desejado com nome igual ao argumento e o chama de fin.\n",
        "    linhas = fin.readlines()             # lê cada linha do arquivo aberto\n",
        "    #print(linhas)\n",
        "\n",
        "#-----------------------------------------\n",
        "#---Listas  vazias\n",
        "#-----------------------------------------\n",
        "    #Idade\n",
        "    idade_lista = []                               # lista vazia reservada para incrementar elementos no caso a idade dos alunos\n",
        "    #Altura\n",
        "    altura_lista = []\n",
        "    #Massa\n",
        "    massa_lista =[]\n",
        "#-----------------------------------------\n",
        "#---Apresentando a leitura em colunas\n",
        "#-----------------------------------------\n",
        "    for line in linhas:                                # Instrução para cada linha do arquivo aberto (associado a variável linhas).\n",
        "        colunas = line.strip().split('\\t')             # Quebra informação disposta em linha e transforma em 3 coluna: idade, altura e massa.\n",
        "        #print(colunas)\n",
        "\n",
        "        #---------------------------------\n",
        "        if j == 0  :\n",
        "            idade_lista.append(colunas[j])                 # Atribui a lista vazia chamada idade_lista o primeiro dos 3 elementos da columns.\n",
        "            idade = [float(i) for i in idade_lista]\n",
        "        elif j == 1:                                            # elif é uma abreviação para else if\n",
        "            altura_lista.append(colunas[j])\n",
        "            altura = [float(i) for i in altura_lista]\n",
        "        elif j == 2:\n",
        "            massa_lista.append(colunas[j])\n",
        "            massa = [float(i) for i in massa_lista]\n",
        "    if j == 0:\n",
        "        return idade\n",
        "    elif j== 1:\n",
        "        return altura\n",
        "    elif j == 2:\n",
        "        return massa\n",
        "   # print('Lista contendo somente a idade dos alunos:\\n', idade)\n",
        "   # print('Lista contendo somente a idade dos alunos:\\n', altura)\n",
        "   # print('Lista contendo somente a idade dos alunos:\\n', massa)\n",
        "\n",
        "#ler_arquivos('dados_alunos.txt', 0)\n",
        "\n",
        "\n",
        "import matplotlib \n",
        "import matplotlib.pyplot as plt\n",
        "idade = ler_arquivos('dados_alunos.txt',0)\n",
        "altura =ler_arquivos('dados_alunos.txt',1)\n",
        "massa = ler_arquivos('dados_alunos.txt',2)\n",
        "\n",
        "fig, ax0 = plt.subplots() \n",
        "ax0.set_title('Histograma idade')\n",
        "ax0.set_xlabel('idade')\n",
        "ax0.set_ylabel('frequência')\n",
        "#ax0 = plt.hist(idade)\n",
        "ax0 = plt.hist(idade,[15,20,25,30,35,40,45,50])     # Idade aumentando de 5 em 5 anos.\n",
        "\n",
        "fig, ax1 = plt.subplots()\n",
        "ax1.set_title('Histograma altura')\n",
        "ax1 = plt.hist(altura,[1.50,1.55,1.60,1.65, 1.70, 1.75, 1.80, 1.85, 1.90, 1.95])  # Altura aumentando de 5 em 5 cm.\n",
        "\n",
        "fig, ax2 = plt.subplots()\n",
        "ax2.set_title('Histograma massa')\n",
        "ax2 = plt.hist(massa, [40, 50, 60, 70, 80, 90, 100, 110])        # Massa aumentando de 10 em 10 Kg.\n",
        "\n",
        "#plt.show()"
      ],
      "execution_count": 72,
      "outputs": [
        {
          "output_type": "display_data",
          "data": {
            "image/png": "[encoded data removed]",
            "text/plain": [
              "<Figure size 432x288 with 1 Axes>"
            ]
          },
          "metadata": {
            "tags": [],
            "needs_background": "light"
          }
        },
        {
          "output_type": "display_data",
          "data": {
            "image/png": "[encoded data removed]",
            "text/plain": [
              "<Figure size 432x288 with 1 Axes>"
            ]
          },
          "metadata": {
            "tags": [],
            "needs_background": "light"
          }
        },
        {
          "output_type": "display_data",
          "data": {
            "image/png": "[encoded data removed]",
            "text/plain": [
              "<Figure size 432x288 with 1 Axes>"
            ]
          },
          "metadata": {
            "tags": [],
            "needs_background": "light"
          }
        }
      ]
    },
    {
      "cell_type": "code",
      "metadata": {
        "id": "C0TYXVNO0mhx",
        "outputId": "ed493ab2-7574-451d-b50b-7659ff9bd6c1",
        "colab": {
          "base_uri": "https://localhost:8080/",
          "height": 1000
        }
      },
      "source": [
        "def ler_arquivos(nome_do_arquivo):\n",
        "    \"\"\" Esta função abre um arquivo e organiza cada colunas de um arquivo em uma lista em linha.\n",
        "    \"\"\"\n",
        "   \n",
        "#-----------------------------------------\n",
        "#---Abrindo e lendo o arquivo desejado que é apresentado em uma única lista.\n",
        "#-----------------------------------------\n",
        "    fin = open(nome_do_arquivo)          # abre o arquivo desejado com nome igual ao argumento e o chama de fin.\n",
        "    linhas = fin.readlines()             # lê cada linha do arquivo aberto\n",
        "    #print(linhas)\n",
        "\n",
        "#-----------------------------------------\n",
        "#---Listas  vazias\n",
        "#-----------------------------------------\n",
        "    #Idade\n",
        "    idade_lista = []                     # lista vazia reservada para incrementar elementos no caso a idade dos alunos\n",
        "    #Altura\n",
        "    altura_lista = []\n",
        "    #Massa\n",
        "    massa_lista =[]\n",
        "\n",
        "#-----------------------------------------\n",
        "#---Apresentando a leitura em colunas\n",
        "#-----------------------------------------\n",
        "    for line in linhas:                                # Instrução para cada linha do arquivo aberto (associado a variável linhas).\n",
        "        columns = line.strip().split('\\t')             # Quebra informação disposta em linha e transforma em 3 coluna: idade, altura e massa.\n",
        "        print(columns)\n",
        "        #---------------------------------\n",
        "        idade_lista.append(columns[0])                 # Atribui a lista vazia chamada idade_lista o primeiro dos 3 elementos da columns.\n",
        "        idade = [float(i) for i in idade_lista]\n",
        "        #altura_lista.append(columns[1])\n",
        "        #altura = [float(i) for i in altura_lista]\n",
        "        #massa_lista.append(columns[2])\n",
        "        #massa = [float(i) for i in massa_lista]\n",
        "   # print('Lista contendo somente a idade dos alunos:\\n', idade)\n",
        "   # print('Lista contendo somente a idade dos alunos:\\n', altura)\n",
        "   # print('Lista contendo somente a idade dos alunos:\\n', massa)\n",
        "    return idade#, altura, massa\n",
        "\n",
        "ler_arquivos('dados_alunos.txt')\n",
        "\n",
        "\n",
        "import matplotlib \n",
        "import matplotlib.pyplot as plt\n",
        "idade = ler_arquivos('dados_alunos.txt')\n",
        "plt.hist(idade,[17,18,19,20,21,22,23,25,26,28,34,44])\n",
        "plt.show()"
      ],
      "execution_count": 34,
      "outputs": [
        {
          "output_type": "stream",
          "text": [
            "['18', '1.68', '80']\n",
            "['18', '1.94', '60']\n",
            "['18', '1.7', '80']\n",
            "['18', '1.76', '66']\n",
            "['19', '1.73', '87.5']\n",
            "['18', '1.66', '58']\n",
            "['21', '1.8', '92']\n",
            "['18', '1.6', '57']\n",
            "['18', '1.67', '64']\n",
            "['18', '1.73', '57']\n",
            "['17', '1.73', '75']\n",
            "['18', '1.61', '59']\n",
            "['18', '1.69', '90']\n",
            "['17', '1.71', '67']\n",
            "['19', '1.78', '60']\n",
            "['22', '1.68', '72']\n",
            "['18', '1.7', '73']\n",
            "['19', '1.64', '86']\n",
            "['18', '1.64', '75']\n",
            "['20', '1.8', '95']\n",
            "['17', '1.75', '60']\n",
            "['18', '1.78', '75']\n",
            "['18', '1.75', '65']\n",
            "['17', '1.69', '60']\n",
            "['19', '1.78', '73']\n",
            "['18', '1.7', '63']\n",
            "['34', '1.75', '78']\n",
            "['18', '1.64', '64']\n",
            "['19', '1.75', '50']\n",
            "['18', '1.67', '61']\n",
            "['18', '1.7', '70']\n",
            "['20', '1.8', '60']\n",
            "['18', '1.63', '57']\n",
            "['23', '1.89', '110']\n",
            "['18', '1.71', '71']\n",
            "['18', '1.65', '65']\n",
            "['17', '1.72', '67']\n",
            "['19', '1.65', '58']\n",
            "['18', '1.75', '90']\n",
            "['18', '1.7', '64']\n",
            "['19', '1.81', '70']\n",
            "['19', '1.65', '43']\n",
            "['28', '1.52', '50']\n",
            "['19', '1.79', '78']\n",
            "['26', '1.79', '82']\n",
            "['19', '1.75', '61']\n",
            "['19', '1.8', '70']\n",
            "['20', '1.75', '70']\n",
            "['20', '1.73', '70']\n",
            "['19', '1.7', '50']\n",
            "['22', '1.78', '72']\n",
            "['19', '1.77', '55']\n",
            "['18', '1.53', '58']\n",
            "['28', '1.54', '50']\n",
            "['20', '1.83', '70']\n",
            "['44', '1.85', '90']\n",
            "['18', '1.6', '51']\n",
            "['18', '1.68', '80']\n",
            "['18', '1.94', '60']\n",
            "['18', '1.7', '80']\n",
            "['18', '1.76', '66']\n",
            "['19', '1.73', '87.5']\n",
            "['18', '1.66', '58']\n",
            "['21', '1.8', '92']\n",
            "['18', '1.6', '57']\n",
            "['18', '1.67', '64']\n",
            "['18', '1.73', '57']\n",
            "['17', '1.73', '75']\n",
            "['18', '1.61', '59']\n",
            "['18', '1.69', '90']\n",
            "['17', '1.71', '67']\n",
            "['19', '1.78', '60']\n",
            "['22', '1.68', '72']\n",
            "['18', '1.7', '73']\n",
            "['19', '1.64', '86']\n",
            "['18', '1.64', '75']\n",
            "['20', '1.8', '95']\n",
            "['17', '1.75', '60']\n",
            "['18', '1.78', '75']\n",
            "['18', '1.75', '65']\n",
            "['17', '1.69', '60']\n",
            "['19', '1.78', '73']\n",
            "['18', '1.7', '63']\n",
            "['34', '1.75', '78']\n",
            "['18', '1.64', '64']\n",
            "['19', '1.75', '50']\n",
            "['18', '1.67', '61']\n",
            "['18', '1.7', '70']\n",
            "['20', '1.8', '60']\n",
            "['18', '1.63', '57']\n",
            "['23', '1.89', '110']\n",
            "['18', '1.71', '71']\n",
            "['18', '1.65', '65']\n",
            "['17', '1.72', '67']\n",
            "['19', '1.65', '58']\n",
            "['18', '1.75', '90']\n",
            "['18', '1.7', '64']\n",
            "['19', '1.81', '70']\n",
            "['19', '1.65', '43']\n",
            "['28', '1.52', '50']\n",
            "['19', '1.79', '78']\n",
            "['26', '1.79', '82']\n",
            "['19', '1.75', '61']\n",
            "['19', '1.8', '70']\n",
            "['20', '1.75', '70']\n",
            "['20', '1.73', '70']\n",
            "['19', '1.7', '50']\n",
            "['22', '1.78', '72']\n",
            "['19', '1.77', '55']\n",
            "['18', '1.53', '58']\n",
            "['28', '1.54', '50']\n",
            "['20', '1.83', '70']\n",
            "['44', '1.85', '90']\n",
            "['18', '1.6', '51']\n"
          ],
          "name": "stdout"
        },
        {
          "output_type": "display_data",
          "data": {
            "image/png": "[encoded data removed]",
            "text/plain": [
              "<Figure size 432x288 with 1 Axes>"
            ]
          },
          "metadata": {
            "tags": [],
            "needs_background": "light"
          }
        }
      ]
    },
    {
      "cell_type": "markdown",
      "metadata": {
        "id": "S2yHsL5Stw2Q"
      },
      "source": [
        "**Exercício 02** - Estude os métodos do módulo os e faça um script que liste todos os arquivos de um diretório assim como de seus subdiretórios.** Dica**: use o método walk."
      ]
    },
    {
      "cell_type": "markdown",
      "metadata": {
        "id": "mM0A0rXMt7eS"
      },
      "source": [
        "O módulo os fornece funções para trabalhar com arquivos e diretórios (\"os\" é abreviação de \"sistema operacional\" em inglês)."
      ]
    },
    {
      "cell_type": "markdown",
      "metadata": {
        "id": "nTHbrj91ga1h"
      },
      "source": [
        "O método **walk()** gera os nomes dos arquivos em um diretório arvore andando a arvore tanto de baixo para cima como de cima para baixo.\n",
        "\n",
        "**sintaxe**: Segue a sintaxe para o método wakl().\n",
        "\n",
        "\n",
        "*   os.walk(top[,topdown=True[, onerror = None[, followlinks=False]]])\n",
        "\n",
        "**Parametros**: \n",
        "\n",
        "\n",
        "*   **top** - Cada diretório enraizado em um diretório, produz 3-tuples, i.e. (dirpath, dirnames, filenames)\n",
        "*   **topdown** - Se argumento opcional topdown é verdadeiro ou não especificado, diretórios são escaneados a partir de cima para baixo. Se topdown é configurado Falso, diretórios são escaneados de baixo para cima.\n",
        "*   **onerror** - Este parâmetro pode mostrar erros com o walk, ou aumentar a excessão para abortar o walk.\n",
        "*   **followlinks** - Este parâmetro visita diretórios apontados para symlinks(links símbolicos), se configurado para verdadeiro.\n",
        "\n",
        "**Valor de retorno** - Este método retorna um valor\n",
        "\n",
        "\n",
        "\n",
        "\n",
        "\n",
        "\n",
        "\n",
        "\n"
      ]
    },
    {
      "cell_type": "code",
      "metadata": {
        "id": "hfpHVlUULRLI",
        "outputId": "216182fa-ce14-49f7-ad7b-9592bace932d",
        "colab": {
          "base_uri": "https://localhost:8080/"
        }
      },
      "source": [
        "#Importa o modulo que fornece funções que trabalha com os arquivos e diretórios\n",
        "import os \n",
        "\n",
        "for root, dirs, files in os.walk(\"/content\", topdown=False):\n",
        "    for name in files:\n",
        "        print(os.path.join(root, name))\n",
        "    for name in dirs:\n",
        "        print(os.path.join(root, name))\n",
        "\n"
      ],
      "execution_count": null,
      "outputs": [
        {
          "output_type": "stream",
          "text": [
            "/content/.config/logs/2020.10.28/16.30.09.899674.log\n",
            "/content/.config/logs/2020.10.28/16.29.12.726433.log\n",
            "/content/.config/logs/2020.10.28/16.30.09.212553.log\n",
            "/content/.config/logs/2020.10.28/16.29.33.370106.log\n",
            "/content/.config/logs/2020.10.28/16.29.47.988493.log\n",
            "/content/.config/logs/2020.10.28/16.29.53.609256.log\n",
            "/content/.config/logs/2020.10.28\n",
            "/content/.config/configurations/config_default\n",
            "/content/.config/active_config\n",
            "/content/.config/gce\n",
            "/content/.config/.last_opt_in_prompt.yaml\n",
            "/content/.config/.last_update_check.json\n",
            "/content/.config/.last_survey_prompt.yaml\n",
            "/content/.config/config_sentinel\n",
            "/content/.config/.metricsUUID\n",
            "/content/.config/logs\n",
            "/content/.config/configurations\n",
            "/content/sample_data/README.md\n",
            "/content/sample_data/anscombe.json\n",
            "/content/sample_data/mnist_test.csv\n",
            "/content/sample_data/california_housing_test.csv\n",
            "/content/sample_data/california_housing_train.csv\n",
            "/content/sample_data/mnist_train_small.csv\n",
            "/content/.config\n",
            "/content/sample_data\n"
          ],
          "name": "stdout"
        }
      ]
    },
    {
      "cell_type": "code",
      "metadata": {
        "id": "HKAFP5rcMDoM",
        "outputId": "543d1954-6a5a-436d-8806-611b2c2aac74",
        "colab": {
          "base_uri": "https://localhost:8080/",
          "height": 36
        }
      },
      "source": [
        "os.getcwd()\n"
      ],
      "execution_count": null,
      "outputs": [
        {
          "output_type": "execute_result",
          "data": {
            "application/vnd.google.colaboratory.intrinsic+json": {
              "type": "string"
            },
            "text/plain": [
              "'/content'"
            ]
          },
          "metadata": {
            "tags": []
          },
          "execution_count": 8
        }
      ]
    },
    {
      "cell_type": "code",
      "metadata": {
        "id": "VP3peSK9v45P",
        "outputId": "a4cb27c1-cb92-4434-f8bd-5ec3251c07ac",
        "colab": {
          "base_uri": "https://localhost:8080/"
        }
      },
      "source": [
        "import os\n",
        "\n",
        "def walk(nome_diretorio):\n",
        "    for nome in os.listdir(nome_diretorio):           # o comando os.listdir retorna uma lista de arquivos e ou diretórios no diretório dado.\n",
        "        caminho = os.path.join(nome_diretorio, nome)  # o comando os.path.join recebe um diretório e um nome de arquivo e os une em um caminho completo\n",
        "        if os.path.isfile(caminho):                   # o comando os.path.isfile verifica se é arquivo ou não\n",
        "            print(caminho)\n",
        "        else:\n",
        "            walk(caminho)\n",
        "\n",
        "walk(\"/content\")\n"
      ],
      "execution_count": null,
      "outputs": [
        {
          "output_type": "stream",
          "text": [
            "/content/.config/active_config\n",
            "/content/.config/logs/2020.10.28/16.30.09.899674.log\n",
            "/content/.config/logs/2020.10.28/16.29.12.726433.log\n",
            "/content/.config/logs/2020.10.28/16.30.09.212553.log\n",
            "/content/.config/logs/2020.10.28/16.29.33.370106.log\n",
            "/content/.config/logs/2020.10.28/16.29.47.988493.log\n",
            "/content/.config/logs/2020.10.28/16.29.53.609256.log\n",
            "/content/.config/gce\n",
            "/content/.config/.last_opt_in_prompt.yaml\n",
            "/content/.config/.last_update_check.json\n",
            "/content/.config/.last_survey_prompt.yaml\n",
            "/content/.config/configurations/config_default\n",
            "/content/.config/config_sentinel\n",
            "/content/.config/.metricsUUID\n",
            "/content/sample_data/README.md\n",
            "/content/sample_data/anscombe.json\n",
            "/content/sample_data/mnist_test.csv\n",
            "/content/sample_data/california_housing_test.csv\n",
            "/content/sample_data/california_housing_train.csv\n",
            "/content/sample_data/mnist_train_small.csv\n"
          ],
          "name": "stdout"
        }
      ]
    },
    {
      "cell_type": "markdown",
      "metadata": {
        "id": "V3NEXkS1cs_x"
      },
      "source": [
        "**Exercício 03** - Reescreva o script dessa aula, **lcount.py** na forma de um módulo. Qual o valor da variável __name__ quando o módulo é importado?"
      ]
    },
    {
      "cell_type": "code",
      "metadata": {
        "id": "JRb7j7xLLw-J",
        "outputId": "e6e781b3-8088-4201-ae97-1f5d60ab8f9a",
        "colab": {
          "base_uri": "https://localhost:8080/"
        }
      },
      "source": [
        "%%writefile lcount.py\n",
        "\"\"\"Conta o número de linhas em um arquivo.py que é usado como módulo.\n",
        "\"\"\"\n",
        "def linecount(filename):\n",
        "    count = 0\n",
        "    for line in open(filename):\n",
        "        count += 1\n",
        "    return count\n",
        "\n",
        "linecount('lcount.py')"
      ],
      "execution_count": 73,
      "outputs": [
        {
          "output_type": "stream",
          "text": [
            "Writing lcount.py\n"
          ],
          "name": "stdout"
        }
      ]
    },
    {
      "cell_type": "code",
      "metadata": {
        "id": "pp9mm_b-3BHn",
        "outputId": "6c24f546-a631-489e-86cf-3bd23cf75068",
        "colab": {
          "base_uri": "https://localhost:8080/"
        }
      },
      "source": [
        "%cat lcount.py"
      ],
      "execution_count": null,
      "outputs": [
        {
          "output_type": "stream",
          "text": [
            "\"\"\"Conta o número de linhas em um arquivo.py que é usado como módulo.\n",
            "\"\"\"\n",
            "def linecount(filename):\n",
            "    count = 0\n",
            "    for line in open(filename):\n",
            "        count += 1\n",
            "    return count\n",
            "\n",
            "linecount('lcount.py')"
          ],
          "name": "stdout"
        }
      ]
    },
    {
      "cell_type": "code",
      "metadata": {
        "id": "MN9XyFIZHSgC"
      },
      "source": [
        "from lcount import linecount"
      ],
      "execution_count": 74,
      "outputs": []
    },
    {
      "cell_type": "code",
      "metadata": {
        "id": "lYVLzviY_ebT",
        "outputId": "8b47762e-d6ff-4ee9-97ae-359a28a5ffa2",
        "colab": {
          "base_uri": "https://localhost:8080/"
        }
      },
      "source": [
        "linecount('lcount.py')"
      ],
      "execution_count": 75,
      "outputs": [
        {
          "output_type": "execute_result",
          "data": {
            "text/plain": [
              "9"
            ]
          },
          "metadata": {
            "tags": []
          },
          "execution_count": 75
        }
      ]
    },
    {
      "cell_type": "code",
      "metadata": {
        "id": "xUraqike_iPL",
        "outputId": "35cb3ce3-246d-45dd-8b52-69ac665a0d6c",
        "colab": {
          "base_uri": "https://localhost:8080/"
        }
      },
      "source": [
        "if __name__ == '__main__':\n",
        "      print(linecount('lcount.py'))"
      ],
      "execution_count": null,
      "outputs": [
        {
          "output_type": "stream",
          "text": [
            "9\n"
          ],
          "name": "stdout"
        }
      ]
    },
    {
      "cell_type": "markdown",
      "metadata": {
        "id": "gITuyNMNLLY-"
      },
      "source": [
        "_ _ name _ _ é uma variável integrada, estabelecida quando o programa inicia. Se o programa estiver rodando como um script, _ _ name _ _ tem o valor '_ _ main _ _ ; neste caso, o código de teste é executado. Do contrário, se o módulo está sendo importado, o código de teste é ignorado."
      ]
    },
    {
      "cell_type": "code",
      "metadata": {
        "id": "B5r8uErNPdmD",
        "outputId": "cfe6e7bc-0907-4b25-ce16-b520cfd9e3e4",
        "colab": {
          "base_uri": "https://localhost:8080/",
          "height": 36
        }
      },
      "source": [
        "__name__"
      ],
      "execution_count": 76,
      "outputs": [
        {
          "output_type": "execute_result",
          "data": {
            "application/vnd.google.colaboratory.intrinsic+json": {
              "type": "string"
            },
            "text/plain": [
              "'__main__'"
            ]
          },
          "metadata": {
            "tags": []
          },
          "execution_count": 76
        }
      ]
    },
    {
      "cell_type": "code",
      "metadata": {
        "id": "8DvYqRD2ME_D",
        "outputId": "44d06e51-4d0f-4cc9-f893-f291f87e8d2e",
        "colab": {
          "base_uri": "https://localhost:8080/"
        }
      },
      "source": [
        "if __name__ == '__main__':\n",
        "    print(linecount('lcount.py'))"
      ],
      "execution_count": 77,
      "outputs": [
        {
          "output_type": "stream",
          "text": [
            "9\n"
          ],
          "name": "stdout"
        }
      ]
    },
    {
      "cell_type": "code",
      "metadata": {
        "id": "IXxt1SpjPpeN",
        "outputId": "052fbee4-7b8e-4407-a6c7-ebb471b34bec",
        "colab": {
          "base_uri": "https://localhost:8080/",
          "height": 36
        }
      },
      "source": [
        "__name__"
      ],
      "execution_count": 78,
      "outputs": [
        {
          "output_type": "execute_result",
          "data": {
            "application/vnd.google.colaboratory.intrinsic+json": {
              "type": "string"
            },
            "text/plain": [
              "'__main__'"
            ]
          },
          "metadata": {
            "tags": []
          },
          "execution_count": 78
        }
      ]
    },
    {
      "cell_type": "markdown",
      "metadata": {
        "id": "17pjS7M8QAlZ"
      },
      "source": [
        "**Exercício 04** - Escreva uma função chamada ler_arquivos que tome como argumento um nome de arquivo, leia um arquivo com um número qualquer de colunas e retorne um dicionário que tenha como keys os números das colunas e como valor uma lista dos valores associados a cada coluna do arquivo. Use o arquivo dados_alunos.txt. Caso o arquivo tiver o cabeçalho, p.ex dados_alunos_cabeçalho.txt, a key deve ser a palavra do cabeçalho.\n",
        "\n",
        "\n",
        "*   Caso não queira usar dicionários, você pode pensar em uma estrutura de dados alternativa para armazenar os dados do arquivo, como por exemplo uma ou mais listas.\n",
        "*   Também pode usar funções já existentes nos módulos de Python numpy ou pandas para ler arquivos de texto e armazenar nas estruturas desses módulos (DataFrames ou arrays).\n",
        "*   Adapte a  função acima para, se ocorrer um erro ao abrir, ler ou fechar arquivos, o programa captura a exceção, imprimir uma mensagem de erro e sair.\n",
        "\n"
      ]
    },
    {
      "cell_type": "code",
      "metadata": {
        "id": "MX6Bx_f6c0VT",
        "outputId": "fd446f9a-2522-4ab9-e046-3658fd253bf6",
        "colab": {
          "base_uri": "https://localhost:8080/"
        }
      },
      "source": [
        "def ler_arquivos(nome_do_arquivo):\n",
        "    \"\"\" Esta função lê um arquivo com várias colunas e entrega como saída um dicionário com as frequências (valor do dict) dos dados \n",
        "    (chaves do dict) estão que disponibilizados no arquivo.\n",
        "    \"\"\"\n",
        "#-----------------------------------------\n",
        "#---Abrindo e lendo o arquivo desejado que é apresentado em uma única lista.\n",
        "#-----------------------------------------\n",
        "    fin = open(nome_do_arquivo)          # abre o arquivo desejado com nome igual ao argumento e o chama de fin.\n",
        "    linhas = fin.readlines()             # lê cada linha do arquivo aberto\n",
        "    #print(linhas)\n",
        "    #print()\n",
        "#-----------------------------------------\n",
        "#---Listas e dicionários vazios\n",
        "#-----------------------------------------\n",
        "    #Idade\n",
        "    idade_lista = []                     # lista vazia reservada para incrementar elementos no caso a idade dos alunos\n",
        "    idade = dict()                       # dicionário vazio para atribuir uma coleção chave-valor.\n",
        "    #Altura\n",
        "    altura_lista = []\n",
        "    altura = dict()\n",
        "    #Massa\n",
        "    massa_lista =[]\n",
        "    massa = dict()\n",
        "#-----------------------------------------\n",
        "#---Apresentando a leitura em colunas\n",
        "#-----------------------------------------\n",
        "    for line in linhas:                                # Instrução para cada linha do arquivo aberto (associado a variável linhas).\n",
        "        columns = line.strip().split('\\t')             # Quebra informação disposta em linha e transforma em 3 coluna: idade, altura e massa.\n",
        "        #print(columns)\n",
        "        #print(nova_lista)\n",
        "        #---------------------------------\n",
        "        idade_lista.append(columns[0])                 # Atribui a lista vazia chamada idade_lista o primeiro dos 3 elementos da columns.\n",
        "        altura_lista.append(columns[1])\n",
        "        massa_lista.append(columns[2])\n",
        "    #print('Lista contendo somente a idade dos alunos:\\n', nova_lista)\n",
        "    idade_tuple  = tuple(idade_lista)     # é obrigatório transformar a lista em uma tuple para finalmente transformar em dicionário.\n",
        "    altura_tuple = tuple(altura_lista)\n",
        "    massa_tuple  = tuple(massa_lista)\n",
        "    #print(idade_tuple)\n",
        "    for c in idade_tuple:                #c são elementos de valores da tuple que virão chaves(c) no dicionário.\n",
        "        if c not in idade:\n",
        "            idade[c]  = 1                 # Cria uma chave ao dicionário idade.\n",
        "        else:\n",
        "            idade[c]  += 1                # Incrementa o dicionário idade com um valor à chave já existente.\n",
        "    \n",
        "    for c in altura_tuple:\n",
        "        if c not in altura:\n",
        "            altura[c] = 1\n",
        "        else:\n",
        "            altura[c] += 1\n",
        "\n",
        "    for c in massa_tuple:\n",
        "        if c not in massa:\n",
        "            massa[c]  = 1\n",
        "        else:\n",
        "            massa[c]  += 1\n",
        "    \n",
        "    print(type(idade))\n",
        "\n",
        "    print('Dicionários em que a chave é a idade, ou altura, ou a massa e são seguidos de suas respectivas frequências (valor) para cada chave do dicionário:')\n",
        "    print()\n",
        "    print('Idade e suas frequência',idade)\n",
        "    print('Altura e suas frequência:',altura)\n",
        "    print('Massa e suas frequência:',massa)\n",
        "\n",
        "\n",
        "\n",
        "ler_arquivos('dados_alunos.txt')"
      ],
      "execution_count": 82,
      "outputs": [
        {
          "output_type": "stream",
          "text": [
            "<class 'dict'>\n",
            "Dicionários em que a chave é a idade, ou altura, ou a massa e são seguidos de suas respectivas frequências (valor) para cada chave do dicionário:\n",
            "\n",
            "Idade e suas frequência {'18': 25, '19': 13, '21': 1, '17': 5, '22': 2, '20': 5, '34': 1, '23': 1, '28': 2, '26': 1, '44': 1}\n",
            "Altura e suas frequência: {'1.68': 2, '1.94': 1, '1.7': 6, '1.76': 1, '1.73': 4, '1.66': 1, '1.8': 4, '1.6': 2, '1.67': 2, '1.61': 1, '1.69': 2, '1.71': 2, '1.78': 4, '1.64': 3, '1.75': 7, '1.63': 1, '1.89': 1, '1.65': 3, '1.72': 1, '1.81': 1, '1.52': 1, '1.79': 2, '1.77': 1, '1.53': 1, '1.54': 1, '1.83': 1, '1.85': 1}\n",
            "Massa e suas frequência: {'80': 2, '60': 5, '66': 1, '87.5': 1, '58': 3, '92': 1, '57': 3, '64': 3, '75': 3, '59': 1, '90': 3, '67': 2, '72': 2, '73': 2, '86': 1, '95': 1, '65': 2, '63': 1, '78': 2, '50': 4, '61': 2, '70': 6, '110': 1, '71': 1, '43': 1, '82': 1, '55': 1, '51': 1}\n"
          ],
          "name": "stdout"
        }
      ]
    },
    {
      "cell_type": "markdown",
      "metadata": {
        "id": "4tXr8soMzqap"
      },
      "source": [
        "**Exercício 05** - Adapte o script acima para ser um módulo."
      ]
    },
    {
      "cell_type": "code",
      "metadata": {
        "id": "ws5y5ppelrsU",
        "outputId": "45b5e011-cf40-462b-e5a3-1a104cb4533a",
        "colab": {
          "base_uri": "https://localhost:8080/"
        }
      },
      "source": [
        "%%writefile leitura_arquivos.py\n",
        "def ler_arquivos(nome_do_arquivo):\n",
        "    \"\"\" Esta função lê um arquivo com várias colunas e entrega como saída um dicionário com as frequências (valor do dict) dos dados \n",
        "    (chaves do dict) estão que disponibilizados no arquivo.\n",
        "    \"\"\"\n",
        "#-----------------------------------------\n",
        "#---Abrindo e lendo o arquivo desejado que é apresentado em uma única lista.\n",
        "#-----------------------------------------\n",
        "    fin = open(nome_do_arquivo)          # abre o arquivo desejado com nome igual ao argumento e o chama de fin.\n",
        "    linhas = fin.readlines()             # lê cada linha do arquivo aberto\n",
        "    #print(linhas)\n",
        "    #print()\n",
        "#-----------------------------------------\n",
        "#---Listas e dicionários vazios\n",
        "#-----------------------------------------\n",
        "    #Idade\n",
        "    idade_lista = []                     # lista vazia reservada para incrementar elementos no caso a idade dos alunos\n",
        "    idade = dict()                       # dicionário vazio para atribuir uma coleção chave-valor.\n",
        "    #Altura\n",
        "    altura_lista = []\n",
        "    altura = dict()\n",
        "    #Massa\n",
        "    massa_lista =[]\n",
        "    massa = dict()\n",
        "#-----------------------------------------\n",
        "#---Apresentando a leitura em colunas\n",
        "#-----------------------------------------\n",
        "    for line in linhas:                                # Instrução para cada linha do arquivo aberto (associado a variável linhas).\n",
        "        columns = line.strip().split('\\t')             # Quebra informação disposta em linha e transforma em 3 coluna: idade, altura e massa.\n",
        "        #print(columns)\n",
        "        #---------------------------------\n",
        "        idade_lista.append(columns[0])                 # Atribui a lista vazia chamada idade_lista o primeiro dos 3 elementos da columns.\n",
        "        altura_lista.append(columns[1])\n",
        "        massa_lista.append(columns[2])\n",
        "    #print('Lista contendo somente a idade dos alunos:\\n', idade_lista)\n",
        "    idade_tuple  = tuple(idade_lista)     # é obrigatório transformar a lista em uma tuple para finalmente transformar em dicionário.\n",
        "    altura_tuple = tuple(altura_lista)\n",
        "    massa_tuple  = tuple(massa_lista)\n",
        "    #print(idade_tuple)\n",
        "    for c in idade_tuple:                #c são elementos de valores da tuple que virão chaves(c) no dicionário.\n",
        "        if c not in idade:\n",
        "            idade[c]  = 1                 # Cria uma chave ao dicionário idade.\n",
        "        else:\n",
        "            idade[c]  += 1                # Incrementa o dicionário idade com um valor à chave já existente.\n",
        "    \n",
        "    for c in altura_tuple:\n",
        "        if c not in altura:\n",
        "            altura[c] = 1\n",
        "        else:\n",
        "            altura[c] += 1\n",
        "\n",
        "    for c in massa_tuple:\n",
        "        if c not in massa:\n",
        "            massa[c]  = 1\n",
        "        else:\n",
        "            massa[c]  += 1\n",
        "\n",
        "    print('Dicionários em que a chave é a idade, ou altura, ou a massa e são seguidos de suas respectivas frequências (valor) para cada chave do dicionário:')\n",
        "    print()\n",
        "    print('Idade e suas frequência',idade)\n",
        "    print('Altura e suas frequência:',altura)\n",
        "    print('Massa e suas frequência:',massa)\n",
        "    return idade, altura, massa\n"
      ],
      "execution_count": 85,
      "outputs": [
        {
          "output_type": "stream",
          "text": [
            "Writing leitura_arquivos.py\n"
          ],
          "name": "stdout"
        }
      ]
    },
    {
      "cell_type": "markdown",
      "metadata": {
        "id": "TThj1qbg3DWY"
      },
      "source": [
        "**Exercício 06** - Escreva um script que importe o módulo criado acima e faça um histograma para cada coluna do arquivo, com seus respectivos valores. Use o dicionário ou a estrutura de dados criada em 1)."
      ]
    },
    {
      "cell_type": "code",
      "metadata": {
        "id": "9P4Yw30qhQ4G"
      },
      "source": [
        ""
      ],
      "execution_count": null,
      "outputs": []
    },
    {
      "cell_type": "code",
      "metadata": {
        "id": "y4JZdgaZl9YY"
      },
      "source": [
        "import leitura_arquivos\n",
        "\n"
      ],
      "execution_count": 88,
      "outputs": []
    },
    {
      "cell_type": "code",
      "metadata": {
        "id": "OGWeeo67mBzs",
        "outputId": "842433f1-ffe4-4cbd-e4ed-6e7b4dd8a3d6",
        "colab": {
          "base_uri": "https://localhost:8080/"
        }
      },
      "source": [
        "ler_arquivos('dados_alunos.txt')"
      ],
      "execution_count": 87,
      "outputs": [
        {
          "output_type": "stream",
          "text": [
            "<class 'dict'>\n",
            "Dicionários em que a chave é a idade, ou altura, ou a massa e são seguidos de suas respectivas frequências (valor) para cada chave do dicionário:\n",
            "\n",
            "Idade e suas frequência {'18': 25, '19': 13, '21': 1, '17': 5, '22': 2, '20': 5, '34': 1, '23': 1, '28': 2, '26': 1, '44': 1}\n",
            "Altura e suas frequência: {'1.68': 2, '1.94': 1, '1.7': 6, '1.76': 1, '1.73': 4, '1.66': 1, '1.8': 4, '1.6': 2, '1.67': 2, '1.61': 1, '1.69': 2, '1.71': 2, '1.78': 4, '1.64': 3, '1.75': 7, '1.63': 1, '1.89': 1, '1.65': 3, '1.72': 1, '1.81': 1, '1.52': 1, '1.79': 2, '1.77': 1, '1.53': 1, '1.54': 1, '1.83': 1, '1.85': 1}\n",
            "Massa e suas frequência: {'80': 2, '60': 5, '66': 1, '87.5': 1, '58': 3, '92': 1, '57': 3, '64': 3, '75': 3, '59': 1, '90': 3, '67': 2, '72': 2, '73': 2, '86': 1, '95': 1, '65': 2, '63': 1, '78': 2, '50': 4, '61': 2, '70': 6, '110': 1, '71': 1, '43': 1, '82': 1, '55': 1, '51': 1}\n"
          ],
          "name": "stdout"
        }
      ]
    },
    {
      "cell_type": "markdown",
      "metadata": {
        "id": "AjCSDtekhYlZ"
      },
      "source": [
        "**Exercicio 7** - Adicione uma função ao script criado em (6), que calcule o desvio padrão amostral, desvio padrão populacional e média de cada distribuição representada nos histogramas acima. Para tal, use o módulo statistics do Python ou outro de Python(numpy, scipy)."
      ]
    },
    {
      "cell_type": "code",
      "metadata": {
        "id": "6xDamq5q3r4A"
      },
      "source": [
        ""
      ],
      "execution_count": null,
      "outputs": []
    },
    {
      "cell_type": "code",
      "metadata": {
        "id": "Kbl_ExNL3rN3"
      },
      "source": [
        ""
      ],
      "execution_count": null,
      "outputs": []
    },
    {
      "cell_type": "code",
      "metadata": {
        "id": "A26KdkO_3e5M"
      },
      "source": [
        "def histogram(s):\n",
        "    d = dict()\n",
        "    for c in s:\n",
        "        if c not in d:\n",
        "            d[c] = 1\n",
        "        else:\n",
        "            d[c] += 1\n",
        "    return d"
      ],
      "execution_count": null,
      "outputs": []
    },
    {
      "cell_type": "code",
      "metadata": {
        "id": "IlpOEVVqRber",
        "outputId": "0daa970d-0d85-411e-a105-f971f226236b",
        "colab": {
          "base_uri": "https://localhost:8080/"
        }
      },
      "source": [
        "def ler_arquivos(nome_do_arquivo):\n",
        "    fin = open(nome_do_arquivo)\n",
        "    linhas = fin.readlines()\n",
        "    idade_lista = []\n",
        "    #idade = dict()\n",
        "    altura_lista = []\n",
        "    #altura = dict()\n",
        "    #massa = dict()\n",
        "    for line in linhas:\n",
        "        column = line.strip().split('\\t')\n",
        "        #altura_lista = line.strip().split('\\t')\n",
        "        idade_lista.append(column[0])\n",
        "    #print('Lista contendo somente a idade dos alunos:\\n', idade_lista)\n",
        "    idade_tuple = tuple(idade_lista)     # é obrigatório transformar a lista em uma tuple\n",
        "    #print(idade_tuple)\n",
        "    h = histogram(idade_tuple)\n",
        "    print(h)\n",
        "    #return idade_tuple, h\n",
        "\n",
        "\n",
        "ler_arquivos('dados_alunos.txt')\n",
        "#print(idade_lista)\n",
        "\n",
        "\n",
        "\n"
      ],
      "execution_count": null,
      "outputs": [
        {
          "output_type": "stream",
          "text": [
            "{'18': 25, '19': 13, '21': 1, '17': 5, '22': 2, '20': 5, '34': 1, '23': 1, '28': 2, '26': 1, '44': 1}\n"
          ],
          "name": "stdout"
        }
      ]
    },
    {
      "cell_type": "code",
      "metadata": {
        "id": "dUQ3a94-akL3",
        "outputId": "9b944bda-8b87-4edf-e935-97eabcd27d81",
        "colab": {
          "base_uri": "https://localhost:8080/"
        }
      },
      "source": [
        "%%writefile leitura_arquivos.py\n",
        "def ler_arquivos(nome_do_arquivo):\n",
        "    fin = open(nome_do_arquivo)\n",
        "    linhas = fin.readlines()\n",
        "    idade_lista = []\n",
        "    #idade = dict()\n",
        "    altura_lista = []\n",
        "    #altura = dict()\n",
        "    #massa = dict()\n",
        "    for line in linhas:\n",
        "        column = line.strip().split('\\t')\n",
        "        #altura_lista = line.strip().split('\\t')\n",
        "        idade_lista.append(column[0])\n",
        "    #print('Lista contendo somente a idade dos alunos:\\n', idade_lista)\n",
        "    idade_tuple = tuple(idade_lista)     # é obrigatório transformar a lista em uma tuple\n",
        "    #print(idade_tuple)\n",
        "    h = histogram(idade_tuple)\n",
        "    print(h)\n",
        "    #return idade_tuple, h\n",
        "\n",
        "\n",
        "\n"
      ],
      "execution_count": null,
      "outputs": [
        {
          "output_type": "stream",
          "text": [
            "Writing leitura_arquivos.py\n"
          ],
          "name": "stdout"
        }
      ]
    },
    {
      "cell_type": "code",
      "metadata": {
        "id": "cIIpA1wgbUUo",
        "outputId": "d60c8643-a99a-414b-8d1d-80f063381ede",
        "colab": {
          "base_uri": "https://localhost:8080/",
          "height": 307
        }
      },
      "source": [
        "from leitura_arquivos import ler_arquivos\n",
        "ler_arquivos('dados_alunos.txt')"
      ],
      "execution_count": null,
      "outputs": [
        {
          "output_type": "error",
          "ename": "NameError",
          "evalue": "ignored",
          "traceback": [
            "\u001b[0;31m---------------------------------------------------------------------------\u001b[0m",
            "\u001b[0;31mNameError\u001b[0m                                 Traceback (most recent call last)",
            "\u001b[0;32m<ipython-input-142-ec02d9b9d979>\u001b[0m in \u001b[0;36m<module>\u001b[0;34m()\u001b[0m\n\u001b[1;32m      1\u001b[0m \u001b[0;32mfrom\u001b[0m \u001b[0mleitura_arquivos\u001b[0m \u001b[0;32mimport\u001b[0m \u001b[0mler_arquivos\u001b[0m\u001b[0;34m\u001b[0m\u001b[0;34m\u001b[0m\u001b[0m\n\u001b[0;32m----> 2\u001b[0;31m \u001b[0mler_arquivos\u001b[0m\u001b[0;34m(\u001b[0m\u001b[0;34m'dados_alunos.txt'\u001b[0m\u001b[0;34m)\u001b[0m\u001b[0;34m\u001b[0m\u001b[0;34m\u001b[0m\u001b[0m\n\u001b[0m",
            "\u001b[0;32m/content/leitura_arquivos.py\u001b[0m in \u001b[0;36mler_arquivos\u001b[0;34m(nome_do_arquivo)\u001b[0m\n\u001b[1;32m     14\u001b[0m     \u001b[0midade_tuple\u001b[0m \u001b[0;34m=\u001b[0m \u001b[0mtuple\u001b[0m\u001b[0;34m(\u001b[0m\u001b[0midade_lista\u001b[0m\u001b[0;34m)\u001b[0m     \u001b[0;31m# é obrigatório transformar a lista em uma tuple\u001b[0m\u001b[0;34m\u001b[0m\u001b[0;34m\u001b[0m\u001b[0m\n\u001b[1;32m     15\u001b[0m     \u001b[0;31m#print(idade_tuple)\u001b[0m\u001b[0;34m\u001b[0m\u001b[0;34m\u001b[0m\u001b[0;34m\u001b[0m\u001b[0m\n\u001b[0;32m---> 16\u001b[0;31m     \u001b[0mh\u001b[0m \u001b[0;34m=\u001b[0m \u001b[0mhistogram\u001b[0m\u001b[0;34m(\u001b[0m\u001b[0midade_tuple\u001b[0m\u001b[0;34m)\u001b[0m\u001b[0;34m\u001b[0m\u001b[0;34m\u001b[0m\u001b[0m\n\u001b[0m\u001b[1;32m     17\u001b[0m     \u001b[0mprint\u001b[0m\u001b[0;34m(\u001b[0m\u001b[0mh\u001b[0m\u001b[0;34m)\u001b[0m\u001b[0;34m\u001b[0m\u001b[0;34m\u001b[0m\u001b[0m\n\u001b[1;32m     18\u001b[0m     \u001b[0;31m#return idade_tuple, h\u001b[0m\u001b[0;34m\u001b[0m\u001b[0;34m\u001b[0m\u001b[0;34m\u001b[0m\u001b[0m\n",
            "\u001b[0;31mNameError\u001b[0m: name 'histogram' is not defined"
          ]
        }
      ]
    },
    {
      "cell_type": "code",
      "metadata": {
        "id": "uV-WiW1Mbah3",
        "outputId": "47ffbdab-d9c8-4d2c-c8a9-e2d93abb233a",
        "colab": {
          "base_uri": "https://localhost:8080/",
          "height": 290
        }
      },
      "source": [
        ""
      ],
      "execution_count": null,
      "outputs": [
        {
          "output_type": "error",
          "ename": "NameError",
          "evalue": "ignored",
          "traceback": [
            "\u001b[0;31m---------------------------------------------------------------------------\u001b[0m",
            "\u001b[0;31mNameError\u001b[0m                                 Traceback (most recent call last)",
            "\u001b[0;32m<ipython-input-136-f1846610a524>\u001b[0m in \u001b[0;36m<module>\u001b[0;34m()\u001b[0m\n\u001b[0;32m----> 1\u001b[0;31m \u001b[0mler_arquivos\u001b[0m\u001b[0;34m(\u001b[0m\u001b[0;34m'dados_alunos.txt'\u001b[0m\u001b[0;34m)\u001b[0m\u001b[0;34m\u001b[0m\u001b[0;34m\u001b[0m\u001b[0m\n\u001b[0m",
            "\u001b[0;32m/content/leitura_arquivos.py\u001b[0m in \u001b[0;36mler_arquivos\u001b[0;34m(nome_do_arquivo)\u001b[0m\n\u001b[1;32m     14\u001b[0m     \u001b[0midade_tuple\u001b[0m \u001b[0;34m=\u001b[0m \u001b[0mtuple\u001b[0m\u001b[0;34m(\u001b[0m\u001b[0midade_lista\u001b[0m\u001b[0;34m)\u001b[0m     \u001b[0;31m# é obrigatório transformar a lista em uma tuple\u001b[0m\u001b[0;34m\u001b[0m\u001b[0;34m\u001b[0m\u001b[0m\n\u001b[1;32m     15\u001b[0m     \u001b[0;31m#print(idade_tuple)\u001b[0m\u001b[0;34m\u001b[0m\u001b[0;34m\u001b[0m\u001b[0;34m\u001b[0m\u001b[0m\n\u001b[0;32m---> 16\u001b[0;31m     \u001b[0mh\u001b[0m \u001b[0;34m=\u001b[0m \u001b[0mhistogram\u001b[0m\u001b[0;34m(\u001b[0m\u001b[0midade_tuple\u001b[0m\u001b[0;34m)\u001b[0m\u001b[0;34m\u001b[0m\u001b[0;34m\u001b[0m\u001b[0m\n\u001b[0m\u001b[1;32m     17\u001b[0m     \u001b[0mprint\u001b[0m\u001b[0;34m(\u001b[0m\u001b[0mh\u001b[0m\u001b[0;34m)\u001b[0m\u001b[0;34m\u001b[0m\u001b[0;34m\u001b[0m\u001b[0m\n\u001b[1;32m     18\u001b[0m     \u001b[0;31m#return idade_tuple, h\u001b[0m\u001b[0;34m\u001b[0m\u001b[0;34m\u001b[0m\u001b[0;34m\u001b[0m\u001b[0m\n",
            "\u001b[0;31mNameError\u001b[0m: name 'histogram' is not defined"
          ]
        }
      ]
    },
    {
      "cell_type": "code",
      "metadata": {
        "id": "odzy6IX54LyH",
        "outputId": "ae480e88-13a4-4c2c-eea3-e6a4c39ee26d",
        "colab": {
          "base_uri": "https://localhost:8080/",
          "height": 186
        }
      },
      "source": [
        "h = histogram(idade_tuple)\n",
        "h"
      ],
      "execution_count": null,
      "outputs": [
        {
          "output_type": "error",
          "ename": "NameError",
          "evalue": "ignored",
          "traceback": [
            "\u001b[0;31m---------------------------------------------------------------------------\u001b[0m",
            "\u001b[0;31mNameError\u001b[0m                                 Traceback (most recent call last)",
            "\u001b[0;32m<ipython-input-116-2b958881ba56>\u001b[0m in \u001b[0;36m<module>\u001b[0;34m()\u001b[0m\n\u001b[0;32m----> 1\u001b[0;31m \u001b[0mh\u001b[0m \u001b[0;34m=\u001b[0m \u001b[0mhistogram\u001b[0m\u001b[0;34m(\u001b[0m\u001b[0midade_tuple\u001b[0m\u001b[0;34m)\u001b[0m\u001b[0;34m\u001b[0m\u001b[0;34m\u001b[0m\u001b[0m\n\u001b[0m\u001b[1;32m      2\u001b[0m \u001b[0mh\u001b[0m\u001b[0;34m\u001b[0m\u001b[0;34m\u001b[0m\u001b[0m\n",
            "\u001b[0;31mNameError\u001b[0m: name 'idade_tuple' is not defined"
          ]
        }
      ]
    }
  ]
}