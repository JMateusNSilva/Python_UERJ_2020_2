{
  "nbformat": 4,
  "nbformat_minor": 0,
  "metadata": {
    "colab": {
      "name": "aula2_23_set_2020.ipynb",
      "provenance": [],
      "authorship_tag": "ABX9TyO4CC6mS6Nu7i1Cojd9G2t2",
      "include_colab_link": true
    },
    "kernelspec": {
      "name": "python3",
      "display_name": "Python 3"
    }
  },
  "cells": [
    {
      "cell_type": "markdown",
      "metadata": {
        "id": "view-in-github",
        "colab_type": "text"
      },
      "source": [
        "<a href=\"https://colab.research.google.com/github/JMateusNSilva/python_uerj_2020_2/blob/master/exerc%C3%ADcios/aula2_23_set_2020.ipynb\" target=\"_parent\"><img src=\"https://colab.research.google.com/assets/colab-badge.svg\" alt=\"Open In Colab\"/></a>"
      ]
    },
    {
      "cell_type": "markdown",
      "metadata": {
        "id": "4RugocI76Vgz"
      },
      "source": [
        "Aula 02 - Dia 23 de setembro de 2020\n",
        "\n",
        "Profa: Helena Malbouis\n",
        "\n",
        "**Exercícios de aula:**\n",
        "\n",
        "**Exercício 01: ** Considere as seguintes declarações de atribuições:\\\\\n",
        "\n",
        "*   largura = 17\n",
        "*   altura = 12.0\n",
        "*   delimitador = \".\"\n",
        "\n",
        "Para cada uma das expressões a seguir, escreva o valor das expressões e o tipo (do valor da expressão):\n",
        "\n",
        "\n",
        "\n",
        "1.   largura/2\n",
        "2.   largura/2.0\n",
        "3.   altura/3\n",
        "4.   1 + 2 * 5\n",
        "5.   delimitador*5\n",
        "\n",
        "Use o interpretador de python para verificar sua respostas.\n",
        "\n",
        "\n",
        "\n",
        "\n",
        "\n"
      ]
    },
    {
      "cell_type": "code",
      "metadata": {
        "id": "jcyrmzIl6F8R",
        "outputId": "27a005a4-fea6-4a7e-c28d-8491acf053d0",
        "colab": {
          "base_uri": "https://localhost:8080/",
          "height": 104
        }
      },
      "source": [
        "# Inserindo valores as variáveis\n",
        "\n",
        "largura = 17\n",
        "altura = 12.0\n",
        "delimitador = \".\"\n",
        "\n",
        "# Realizando operações pedidas\n",
        "resultado1 = largura/2\n",
        "resultado2 = largura/2.0\n",
        "resultado3 = altura/3\n",
        "resultado4 = 1 + 2*5\n",
        "resultado5 = delimitador*5\n",
        "\n",
        "# Imprimindo na tela valores das expressões pedidas e o tipo de\n",
        "# expressão o resultado gerou\n",
        "\n",
        "print(f'{resultado1:}, {type(resultado1)}')\n",
        "print(f'{resultado2},  {type(resultado2)}')\n",
        "print(f'{resultado3},  {type(resultado3)}')\n",
        "print(f'{resultado4},  {type(resultado4)}')\n",
        "print(f'{resultado5},  {type(resultado5)}')"
      ],
      "execution_count": 14,
      "outputs": [
        {
          "output_type": "stream",
          "text": [
            "8.5, <class 'float'>\n",
            "8.5,  <class 'float'>\n",
            "4.0,  <class 'float'>\n",
            "11,  <class 'int'>\n",
            ".....,  <class 'str'>\n"
          ],
          "name": "stdout"
        }
      ]
    },
    {
      "cell_type": "markdown",
      "metadata": {
        "id": "p-L5ibwHBdEo"
      },
      "source": [
        "**Exercício 2**: O volume de uma esfera de raio r é $4/3\\pi r^3$. Qual é o volume de uma esfera de raio 5?"
      ]
    },
    {
      "cell_type": "code",
      "metadata": {
        "id": "KNZVHV-IB7Dg",
        "outputId": "3f411351-7950-41d4-b095-496ce2258a61",
        "colab": {
          "base_uri": "https://localhost:8080/",
          "height": 34
        }
      },
      "source": [
        "#Inserindo valor para a variável pi\n",
        "\n",
        "pi = 3.14\n",
        "raio = 5    # em unidade de comprimento\n",
        "\n",
        "volume = (4/3) * pi * raio**3\n",
        "\n",
        "#Imprimindo resultado do calculo do volume\n",
        "\n",
        "print(f'Volume da esfera igual a: {volume:.2f} unidades de volume')"
      ],
      "execution_count": 20,
      "outputs": [
        {
          "output_type": "stream",
          "text": [
            "Volume da esfera igual a: 523.33 unidades de volume\n"
          ],
          "name": "stdout"
        }
      ]
    },
    {
      "cell_type": "markdown",
      "metadata": {
        "id": "8WSJgYHBD0Rd"
      },
      "source": [
        "**Exercício 3**: Suponha que o preço de um livro seja 24,95 reais, porém as livrarias têm desconto de 40%. Os custos de envio são de 3,00 reais para o primeiro livro e 0,75 reais para os livros adicionais. Qual é o custo total da compra de 60 livros?"
      ]
    },
    {
      "cell_type": "code",
      "metadata": {
        "id": "wuB9LKMHEW0a",
        "outputId": "42cc24ff-fb92-403e-e08b-9286829ef7ef",
        "colab": {
          "base_uri": "https://localhost:8080/",
          "height": 34
        }
      },
      "source": [
        "# Custo de um livro = 24,95 reais\n",
        "# Calculando livro com desconto de 40%\n",
        "livro_desc = 0.6 * 24.95\n",
        "\n",
        "#Conta para o valor de 60 livro\n",
        "livro_60 = 60*livro_desc\n",
        "\n",
        "# Envio de um único livro pelo valor de 3 reais. Livros adicionais 0,75 cada\n",
        "# um a mais\n",
        "custo_de_envio = 3 + 59 * 0.75\n",
        "\n",
        "# Calculo do custo total da compra\n",
        "valor_da_compra = livro_60 + custo_de_envio\n",
        "\n",
        "# Imprimindo resultado na tela\n",
        "print(f'Custo da compra de 60 é de: {valor_da_compra:.2f} reais')"
      ],
      "execution_count": 25,
      "outputs": [
        {
          "output_type": "stream",
          "text": [
            "Custo da compra de 60 é de: 945.45 reais\n"
          ],
          "name": "stdout"
        }
      ]
    },
    {
      "cell_type": "markdown",
      "metadata": {
        "id": "bxztcZX8HHi8"
      },
      "source": [
        "**Exercício 4**: \n",
        "\n",
        "Um laser vermelho (com comprimento de onda $\\lambda = 632.8$ nm) incide em uma fenda dupla produzindo um padrão de interferência com franjas claras e escuras, em um anteparo situado a uma distância $D=1.98$ m da fenda. Calcule a distância $\\Delta$y entre dois máximos consecutivos de interfência. Considere o espaçamento entre as fendas, d, como sendo igual a 0.250 mm. Dica: a distância entre dois máximos de interferência consecutivos pode se aproximar por $\\Delta y = \\frac{\\lambda D}{d}$."
      ]
    },
    {
      "cell_type": "code",
      "metadata": {
        "id": "yc0rict5ItZw",
        "outputId": "a845dc49-e402-4212-d4e5-d35cb54e7435",
        "colab": {
          "base_uri": "https://localhost:8080/",
          "height": 34
        }
      },
      "source": [
        "# Calculando a distância entre dois máximos\n",
        "# são dados\n",
        "\n",
        "compri_de_onda = 632.8 * 10**(-9)        # Comprimento de onda em metros\n",
        "distancia = 1.98                 # Distância em metros entre o anteparo e aparelho que dispara o laser\n",
        "espac_fendas = 0.250             # Espaçamentos em milimetros entre fendas\n",
        "\n",
        "# convertendo para metro o espaçamentro entre fendas\n",
        "fendas = espac_fendas * 1/1000    # espaçamentos em metros entre as fendas\n",
        "\n",
        "#A distância entre dois máximos consecutivos de interferências\n",
        "delta_y = compri_de_onda * distancia / fendas\n",
        "\n",
        "print(f'Distância entre dois máximos de interferência é de: {delta_y} em metros')"
      ],
      "execution_count": 29,
      "outputs": [
        {
          "output_type": "stream",
          "text": [
            "Distância entre dois máximos de interferência é de: 0.005011776 em metros\n"
          ],
          "name": "stdout"
        }
      ]
    },
    {
      "cell_type": "code",
      "metadata": {
        "id": "GAs9NB5bLKWU"
      },
      "source": [
        ""
      ],
      "execution_count": null,
      "outputs": []
    }
  ]
}