{
  "nbformat": 4,
  "nbformat_minor": 0,
  "metadata": {
    "colab": {
      "name": "aula03-25_set_2020.ipynb",
      "provenance": [],
      "authorship_tag": "ABX9TyPugHHyQ8V3As9U7J40tbPe",
      "include_colab_link": true
    },
    "kernelspec": {
      "name": "python3",
      "display_name": "Python 3"
    }
  },
  "cells": [
    {
      "cell_type": "markdown",
      "metadata": {
        "id": "view-in-github",
        "colab_type": "text"
      },
      "source": [
        "<a href=\"https://colab.research.google.com/github/JMateusNSilva/python_uerj_2020_2/blob/master/exerc%C3%ADcios/aula03_25_set_2020.ipynb\" target=\"_parent\"><img src=\"https://colab.research.google.com/assets/colab-badge.svg\" alt=\"Open In Colab\"/></a>"
      ]
    },
    {
      "cell_type": "markdown",
      "metadata": {
        "id": "M1s0i-CTKHHK"
      },
      "source": [
        "**Aula 03 - dia 25 de setembro de 2020**\n",
        "\n",
        "**Professores:**\n",
        "*   Helena Malbouis\n",
        "*   Dilson de Jesus Damião\n",
        "\n",
        "**Aluno:** José Mateus Nobre da Silva\n",
        "\n",
        "\n"
      ]
    },
    {
      "cell_type": "markdown",
      "metadata": {
        "id": "Rw1VozfzF7Ia"
      },
      "source": [
        "**Exercício 01**: Crie uma função que tome um argumento e imprima o valor e o tipo dele."
      ]
    },
    {
      "cell_type": "code",
      "metadata": {
        "id": "WQbDjhAJFs3D",
        "outputId": "df656b96-7b26-462d-9fa5-5d26c8f8834d",
        "colab": {
          "base_uri": "https://localhost:8080/",
          "height": 34
        }
      },
      "source": [
        "def print_lyrics(argumento):\n",
        "    print(argumento, type(argumento))\n",
        "    #print(type(argumento))\n",
        "    \n",
        "print_lyrics(\"4.4\")\n",
        "\n",
        "\n"
      ],
      "execution_count": 3,
      "outputs": [
        {
          "output_type": "stream",
          "text": [
            "4.4 <class 'str'>\n"
          ],
          "name": "stdout"
        }
      ]
    },
    {
      "cell_type": "markdown",
      "metadata": {
        "id": "4gSq_jkXF6EH"
      },
      "source": [
        "**Exercício 02:** Crie uma função que calcule e imprima a velocidade média de um objeto a partir de uma posição inicial, a final e o tempo transcorrido para um objeto em MRU. Também crie uma função que calcule e imprima a velocidade de um objeto a partir da aceleração constante e o tempo (MRUA) (p.ex. queda livre)."
      ]
    },
    {
      "cell_type": "code",
      "metadata": {
        "id": "jZd6_MTYLmlV",
        "outputId": "aa2d8643-8992-454f-de70-ddc86163eeda",
        "colab": {
          "base_uri": "https://localhost:8080/",
          "height": 140
        }
      },
      "source": [
        "print('Programa para calcular a velocidade.')\n",
        "print()\n",
        "print('Digite o valor da posição inicial em m/s:')\n",
        "input('s_i')                    # posição inicial em m/s\n",
        "\n",
        "print('Digite o valor da posição finalem m/s:')\n",
        "input('s_f')                    # posição final em m/s\n",
        "\n"
      ],
      "execution_count": 7,
      "outputs": [
        {
          "output_type": "stream",
          "text": [
            "Programa para calcular a velocidade.\n",
            "\n",
            "Digite o valor da posição inicial em m/s:\n",
            "s_i10\n",
            "Digite o valor da posição finalem m/s:\n",
            "s_f10\n"
          ],
          "name": "stdout"
        },
        {
          "output_type": "execute_result",
          "data": {
            "application/vnd.google.colaboratory.intrinsic+json": {
              "type": "string"
            },
            "text/plain": [
              "'10'"
            ]
          },
          "metadata": {
            "tags": []
          },
          "execution_count": 7
        }
      ]
    }
  ]
}