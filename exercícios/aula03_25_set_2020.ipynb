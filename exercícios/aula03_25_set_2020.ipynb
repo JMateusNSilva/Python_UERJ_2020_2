{
  "nbformat": 4,
  "nbformat_minor": 0,
  "metadata": {
    "colab": {
      "name": "aula03-25_set_2020.ipynb",
      "provenance": [],
      "authorship_tag": "ABX9TyPNHyP+XuVJrcz4/YNmkn/P",
      "include_colab_link": true
    },
    "kernelspec": {
      "name": "python3",
      "display_name": "Python 3"
    }
  },
  "cells": [
    {
      "cell_type": "markdown",
      "metadata": {
        "id": "view-in-github",
        "colab_type": "text"
      },
      "source": [
        "<a href=\"https://colab.research.google.com/github/JMateusNSilva/python_uerj_2020_2/blob/master/exerc%C3%ADcios/aula03_25_set_2020.ipynb\" target=\"_parent\"><img src=\"https://colab.research.google.com/assets/colab-badge.svg\" alt=\"Open In Colab\"/></a>"
      ]
    },
    {
      "cell_type": "markdown",
      "metadata": {
        "id": "M1s0i-CTKHHK"
      },
      "source": [
        "**Aula 03 - dia 25 de setembro de 2020**\n",
        "\n",
        "**Professores:**\n",
        "*   Helena Malbouis\n",
        "*   Dilson de Jesus Damião\n",
        "\n",
        "**Aluno:** José Mateus Nobre da Silva\n",
        "\n",
        "\n"
      ]
    },
    {
      "cell_type": "markdown",
      "metadata": {
        "id": "Rw1VozfzF7Ia"
      },
      "source": [
        "**Exercício 01**: Crie uma função que tome um argumento e imprima o valor e o tipo dele."
      ]
    },
    {
      "cell_type": "code",
      "metadata": {
        "id": "WQbDjhAJFs3D",
        "outputId": "29d96d55-f3cd-427f-98a3-7ab991862483",
        "colab": {
          "base_uri": "https://localhost:8080/",
          "height": 52
        }
      },
      "source": [
        "def print_lyrics():\n",
        "    print(\"I'm a lumberjack, and I'm okay\")\n",
        "    print(type(print_lyrics))\n",
        "    \n",
        "print_lyrics()\n",
        "\n",
        "\n"
      ],
      "execution_count": 27,
      "outputs": [
        {
          "output_type": "stream",
          "text": [
            "I'm a lumberjack, and I'm okay\n",
            "<class 'function'>\n"
          ],
          "name": "stdout"
        }
      ]
    },
    {
      "cell_type": "markdown",
      "metadata": {
        "id": "4gSq_jkXF6EH"
      },
      "source": [
        "**Exercício 02:** Crie uma função que calcule e imprima a velocidade média de um objeto a partir de uma posição inicial, a final e o tempo transcorrido para um objeto em MRU. Também crie uma função que calcule e imprima a velocidade de um objeto a partir da aceleração constante e o tempo (MRUA) (p.ex. queda livre)."
      ]
    },
    {
      "cell_type": "code",
      "metadata": {
        "id": "jZd6_MTYLmlV"
      },
      "source": [
        "# Este programa "
      ],
      "execution_count": null,
      "outputs": []
    }
  ]
}