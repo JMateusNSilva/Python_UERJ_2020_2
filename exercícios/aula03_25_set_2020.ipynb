{
  "nbformat": 4,
  "nbformat_minor": 0,
  "metadata": {
    "colab": {
      "name": "aula03-25_set_2020.ipynb",
      "provenance": [],
      "authorship_tag": "ABX9TyM0wKZP+OdUCY2hCEZkbefd",
      "include_colab_link": true
    },
    "kernelspec": {
      "name": "python3",
      "display_name": "Python 3"
    }
  },
  "cells": [
    {
      "cell_type": "markdown",
      "metadata": {
        "id": "view-in-github",
        "colab_type": "text"
      },
      "source": [
        "<a href=\"https://colab.research.google.com/github/JMateusNSilva/python_uerj_2020_2/blob/master/exerc%C3%ADcios/aula03_25_set_2020.ipynb\" target=\"_parent\"><img src=\"https://colab.research.google.com/assets/colab-badge.svg\" alt=\"Open In Colab\"/></a>"
      ]
    },
    {
      "cell_type": "markdown",
      "metadata": {
        "id": "M1s0i-CTKHHK"
      },
      "source": [
        "**Aula 03 - dia 25 de setembro de 2020**\n",
        "\n",
        "**Professores:**\n",
        "*   Helena Malbouis\n",
        "*   Dilson de Jesus Damião\n",
        "\n",
        "**Aluno:** José Mateus Nobre da Silva\n",
        "\n",
        "\n"
      ]
    },
    {
      "cell_type": "markdown",
      "metadata": {
        "id": "Rw1VozfzF7Ia"
      },
      "source": [
        "**Exercício 01**: Crie uma função que tome um argumento e imprima o valor e o tipo dele."
      ]
    },
    {
      "cell_type": "code",
      "metadata": {
        "id": "WQbDjhAJFs3D",
        "outputId": "df656b96-7b26-462d-9fa5-5d26c8f8834d",
        "colab": {
          "base_uri": "https://localhost:8080/",
          "height": 34
        }
      },
      "source": [
        "def print_lyrics(argumento):\n",
        "    print(argumento, type(argumento))\n",
        "    #print(type(argumento))\n",
        "    \n",
        "print_lyrics(\"4.4\")\n",
        "\n",
        "\n"
      ],
      "execution_count": 3,
      "outputs": [
        {
          "output_type": "stream",
          "text": [
            "4.4 <class 'str'>\n"
          ],
          "name": "stdout"
        }
      ]
    },
    {
      "cell_type": "markdown",
      "metadata": {
        "id": "4gSq_jkXF6EH"
      },
      "source": [
        "**Exercício 02:** Crie uma função que calcule e imprima a velocidade média de um objeto a partir de uma posição inicial, a final e o tempo transcorrido para um objeto em MRU. Também crie uma função que calcule e imprima a velocidade de um objeto a partir da aceleração constante e o tempo (MRUA) (p.ex. queda livre)."
      ]
    },
    {
      "cell_type": "code",
      "metadata": {
        "id": "-3CrhkvlQAlo",
        "outputId": "b056fc4b-0660-42b8-f5e8-06f4edeb76c9",
        "colab": {
          "base_uri": "https://localhost:8080/",
          "height": 52
        }
      },
      "source": [
        "# Esta função calcula a velocidade média de um movimento retilínio uniforme.\n",
        "def vel_med_MRU(S_i, S_f, delta_t):\n",
        "    vel_med = (S_f - S_i) / delta_t\n",
        "    print(f\"A velocidade média é:{vel_med:.2f}  m/s\")\n",
        "\n",
        "# Esta função calcula a velocidade final em um movimento retilíneo\n",
        "#uniformemente variado.\n",
        "def veloc_final_MRUV(S_i,S_f,acel,veloc_inicial):\n",
        "    veloc_final = (veloc_inicial**2 + 2*acel*(S_f-S_i))**(1/2)\n",
        "    print(f\"A velocidade final é: {veloc_final:.2f}  m/s\")\n",
        "\n",
        "# chamando a função vel_med_MRU\n",
        "vel_med_MRU(10,100,9)\n",
        "\n",
        "# chamando a função veloc_final_MRUV\n",
        "veloc_final_MRUV(10,100, 5, 0)"
      ],
      "execution_count": 11,
      "outputs": [
        {
          "output_type": "stream",
          "text": [
            "A velocidade média é:10.00  m/s\n",
            "A velocidade final é: 30.00  m/s\n"
          ],
          "name": "stdout"
        }
      ]
    },
    {
      "cell_type": "markdown",
      "metadata": {
        "id": "Iv3Rc_hsUp5G"
      },
      "source": [
        "**Questão 03:** Crie uma função para calcular o ângulo zenital do sol (da semana passada) tomando como argumento as medidas da altura e o comprimento da sombra."
      ]
    },
    {
      "cell_type": "code",
      "metadata": {
        "id": "RELGOD4EVBpV",
        "outputId": "cb78bc3d-dc7d-4c40-ee87-875d054d8302",
        "colab": {
          "base_uri": "https://localhost:8080/",
          "height": 69
        }
      },
      "source": [
        "# Função para calcular o angulo zenital.\n",
        "# O ângulo zenital é o ângulo formado entre o raio de sol e a direção vertical\n",
        "#perperdincular ao solo (exemplo: direção do poste).\n",
        "\n",
        "def angulo_zenital(cat_oposto, cat_adj):\n",
        "    import math\n",
        "    tan_theta = cat_oposto / cat_adj\n",
        "    arc_tan_rad = math.atan(tan_theta)\n",
        "    arc_tan = math.degrees(math.atan(tan_theta))\n",
        "    print(f\"O valor da tan θ é: {tan_theta:.2f}\")\n",
        "    print(f\"O valor do angulo zenital é: {arc_tan_rad:.5f} radianos\")\n",
        "    print(f\"O valor do angulo zenital é: {arc_tan:.2f} graus\")\n",
        "\n",
        "# Chamando a função inserindo os argumentos 0.5 para cateto oposto e 5 \n",
        "#para cateto adjacente.\n",
        "angulo_zenital(0.5,5)\n",
        "    "
      ],
      "execution_count": 17,
      "outputs": [
        {
          "output_type": "stream",
          "text": [
            "O valor da tan θ é: 0.10\n",
            "O valor do angulo zenital é: 0.09967 radianos\n",
            "O valor do angulo zenital é: 5.71 graus\n"
          ],
          "name": "stdout"
        }
      ]
    },
    {
      "cell_type": "code",
      "metadata": {
        "id": "T94D3Jx2lvpE"
      },
      "source": [
        ""
      ],
      "execution_count": null,
      "outputs": []
    },
    {
      "cell_type": "markdown",
      "metadata": {
        "id": "lQmPTN3xnPJB"
      },
      "source": [
        "**Questão 4** Crie uma função que faça a conversão de uma medida inicialmente em milhas para m, e outra para o inverso; uma de horas para segundos, e o inverso. Utilize estas funções para resolver novamente o primeiro exercício da semana passada (da corrida). Se uma pessoa demora 30 minutos em 4 milhas, qual a velocidade media em km/h? e o tempo médio por quilômetro."
      ]
    },
    {
      "cell_type": "code",
      "metadata": {
        "id": "xNlZUfnNnz30",
        "outputId": "beb0bf29-8c38-4eb1-d29d-01ad510469c5",
        "colab": {
          "base_uri": "https://localhost:8080/",
          "height": 52
        }
      },
      "source": [
        "#------------------Definindo Funções -----------------------------\n",
        "# Função que transforma milha para metros\n",
        "def milha_metro(milhas):      # inserir no argumeto os valores em milhas\n",
        "    metro = milhas/1.6        # transfoma valores de milhas para metro\n",
        "    \n",
        "\n",
        "# Função que transforma metros para milhas\n",
        "def metro_milha(metros):      # Inserir no argumento o valor em metros \n",
        "    milha = 1.6 * metros\n",
        "\n",
        "# Função que transforma de hora para minutos\n",
        "def hora_min(hora):\n",
        "    tempo_min = hora * 60     # Passando hora para minuto\n",
        "\n",
        "# Função que transforma de minutos para hora\n",
        "def min_hora(minutos):\n",
        "    tempo_min = minutos/60    # Passando de minutos para horas\n",
        "    print(tempo_min)\n",
        "\n",
        "#-----------------Fim da definição de funções---------------------   \n",
        "\n",
        "\n",
        "var = min_hora(30)\n",
        "\n",
        "print(var)\n",
        "\n"
      ],
      "execution_count": 1,
      "outputs": [
        {
          "output_type": "stream",
          "text": [
            "0.5\n",
            "None\n"
          ],
          "name": "stdout"
        }
      ]
    },
    {
      "cell_type": "code",
      "metadata": {
        "id": "dCqPPQU5oN2-"
      },
      "source": [
        ""
      ],
      "execution_count": null,
      "outputs": []
    }
  ]
}